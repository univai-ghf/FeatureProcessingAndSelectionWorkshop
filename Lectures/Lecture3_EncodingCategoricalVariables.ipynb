{
 "cells": [
  {
   "cell_type": "code",
   "execution_count": null,
   "id": "73990041",
   "metadata": {},
   "outputs": [],
   "source": [
    "!pip install feature_engine==0.6"
   ]
  },
  {
   "cell_type": "code",
   "execution_count": 1,
   "id": "2ceba8ae",
   "metadata": {},
   "outputs": [],
   "source": [
    "import pandas as pd\n",
    "import numpy as np\n",
    "\n",
    "# to split the datasets\n",
    "from sklearn.model_selection import train_test_split\n",
    "\n",
    "# for one hot encoding with sklearn\n",
    "from sklearn.preprocessing import OneHotEncoder\n",
    "\n",
    "# for one hot encoding with feature-engine\n",
    "from feature_engine.categorical_encoders import OneHotCategoricalEncoder\n",
    "\n",
    "# for integer encoding using sklearn\n",
    "from sklearn.preprocessing import OrdinalEncoder\n",
    "\n",
    "# to encode with feature-engine\n",
    "from feature_engine.categorical_encoders import CountFrequencyCategoricalEncoder, OrdinalCategoricalEncoder\n",
    "\n",
    "# for encoding using feature-engine\n",
    "from feature_engine.categorical_encoders import WoERatioCategoricalEncoder\n",
    "from feature_engine.categorical_encoders import MeanCategoricalEncoder\n",
    "\n",
    "import matplotlib.pyplot as plt\n",
    "\n"
   ]
  },
  {
   "cell_type": "markdown",
   "id": "61a772d4",
   "metadata": {},
   "source": [
    "# One Hot Encodeing"
   ]
  },
  {
   "cell_type": "code",
   "execution_count": 2,
   "id": "67ef5f3f",
   "metadata": {},
   "outputs": [
    {
     "data": {
      "text/html": [
       "<div>\n",
       "<style scoped>\n",
       "    .dataframe tbody tr th:only-of-type {\n",
       "        vertical-align: middle;\n",
       "    }\n",
       "\n",
       "    .dataframe tbody tr th {\n",
       "        vertical-align: top;\n",
       "    }\n",
       "\n",
       "    .dataframe thead th {\n",
       "        text-align: right;\n",
       "    }\n",
       "</style>\n",
       "<table border=\"1\" class=\"dataframe\">\n",
       "  <thead>\n",
       "    <tr style=\"text-align: right;\">\n",
       "      <th></th>\n",
       "      <th>A1</th>\n",
       "      <th>A2</th>\n",
       "      <th>A3</th>\n",
       "      <th>A4</th>\n",
       "      <th>A5</th>\n",
       "      <th>A6</th>\n",
       "      <th>A7</th>\n",
       "      <th>A8</th>\n",
       "      <th>A9</th>\n",
       "      <th>A10</th>\n",
       "      <th>A11</th>\n",
       "      <th>A12</th>\n",
       "      <th>A13</th>\n",
       "      <th>A14</th>\n",
       "      <th>A15</th>\n",
       "      <th>A16</th>\n",
       "    </tr>\n",
       "  </thead>\n",
       "  <tbody>\n",
       "    <tr>\n",
       "      <td>0</td>\n",
       "      <td>b</td>\n",
       "      <td>30.83</td>\n",
       "      <td>0.000</td>\n",
       "      <td>u</td>\n",
       "      <td>g</td>\n",
       "      <td>w</td>\n",
       "      <td>v</td>\n",
       "      <td>1.25</td>\n",
       "      <td>t</td>\n",
       "      <td>t</td>\n",
       "      <td>1</td>\n",
       "      <td>f</td>\n",
       "      <td>g</td>\n",
       "      <td>202.0</td>\n",
       "      <td>0</td>\n",
       "      <td>1</td>\n",
       "    </tr>\n",
       "    <tr>\n",
       "      <td>1</td>\n",
       "      <td>a</td>\n",
       "      <td>58.67</td>\n",
       "      <td>4.460</td>\n",
       "      <td>u</td>\n",
       "      <td>g</td>\n",
       "      <td>q</td>\n",
       "      <td>h</td>\n",
       "      <td>3.04</td>\n",
       "      <td>t</td>\n",
       "      <td>t</td>\n",
       "      <td>6</td>\n",
       "      <td>f</td>\n",
       "      <td>g</td>\n",
       "      <td>43.0</td>\n",
       "      <td>560</td>\n",
       "      <td>1</td>\n",
       "    </tr>\n",
       "    <tr>\n",
       "      <td>2</td>\n",
       "      <td>a</td>\n",
       "      <td>24.50</td>\n",
       "      <td>0.500</td>\n",
       "      <td>u</td>\n",
       "      <td>g</td>\n",
       "      <td>q</td>\n",
       "      <td>h</td>\n",
       "      <td>1.50</td>\n",
       "      <td>t</td>\n",
       "      <td>f</td>\n",
       "      <td>0</td>\n",
       "      <td>f</td>\n",
       "      <td>g</td>\n",
       "      <td>280.0</td>\n",
       "      <td>824</td>\n",
       "      <td>1</td>\n",
       "    </tr>\n",
       "    <tr>\n",
       "      <td>3</td>\n",
       "      <td>b</td>\n",
       "      <td>27.83</td>\n",
       "      <td>1.540</td>\n",
       "      <td>u</td>\n",
       "      <td>g</td>\n",
       "      <td>w</td>\n",
       "      <td>v</td>\n",
       "      <td>3.75</td>\n",
       "      <td>t</td>\n",
       "      <td>t</td>\n",
       "      <td>5</td>\n",
       "      <td>t</td>\n",
       "      <td>g</td>\n",
       "      <td>100.0</td>\n",
       "      <td>3</td>\n",
       "      <td>1</td>\n",
       "    </tr>\n",
       "    <tr>\n",
       "      <td>4</td>\n",
       "      <td>b</td>\n",
       "      <td>20.17</td>\n",
       "      <td>5.625</td>\n",
       "      <td>u</td>\n",
       "      <td>g</td>\n",
       "      <td>w</td>\n",
       "      <td>v</td>\n",
       "      <td>1.71</td>\n",
       "      <td>t</td>\n",
       "      <td>f</td>\n",
       "      <td>0</td>\n",
       "      <td>f</td>\n",
       "      <td>s</td>\n",
       "      <td>120.0</td>\n",
       "      <td>0</td>\n",
       "      <td>1</td>\n",
       "    </tr>\n",
       "  </tbody>\n",
       "</table>\n",
       "</div>"
      ],
      "text/plain": [
       "  A1     A2     A3 A4 A5 A6 A7    A8 A9 A10  A11 A12 A13    A14  A15  A16\n",
       "0  b  30.83  0.000  u  g  w  v  1.25  t   t    1   f   g  202.0    0    1\n",
       "1  a  58.67  4.460  u  g  q  h  3.04  t   t    6   f   g   43.0  560    1\n",
       "2  a  24.50  0.500  u  g  q  h  1.50  t   f    0   f   g  280.0  824    1\n",
       "3  b  27.83  1.540  u  g  w  v  3.75  t   t    5   t   g  100.0    3    1\n",
       "4  b  20.17  5.625  u  g  w  v  1.71  t   f    0   f   s  120.0    0    1"
      ]
     },
     "execution_count": 2,
     "metadata": {},
     "output_type": "execute_result"
    }
   ],
   "source": [
    "# let's load the data set\n",
    "\n",
    "data = pd.read_csv('https://raw.githubusercontent.com/univai-ghf/FeatureProcessingAndSelectionWorkshop/main/Data/creditApprovalUCI.csv')\n",
    "data.dropna(inplace=True)\n",
    "data.head()"
   ]
  },
  {
   "cell_type": "code",
   "execution_count": 3,
   "id": "3818e392",
   "metadata": {},
   "outputs": [],
   "source": [
    "# make a list with the categorical variables\n",
    "\n",
    "vars_categorical = ['A1', 'A4', 'A5', 'A6', 'A7', 'A9', 'A10', 'A12', 'A13']"
   ]
  },
  {
   "cell_type": "code",
   "execution_count": 4,
   "id": "8c36e9f9",
   "metadata": {},
   "outputs": [
    {
     "data": {
      "text/plain": [
       "((483, 15), (207, 15))"
      ]
     },
     "execution_count": 4,
     "metadata": {},
     "output_type": "execute_result"
    }
   ],
   "source": [
    "# let's separate into training and testing sets\n",
    "\n",
    "X_train, X_test, y_train, y_test = train_test_split(\n",
    "    data.drop(labels=['A16'], axis=1),  # predictors\n",
    "    data['A16'],  # target\n",
    "    test_size=0.3,  # percentage of obs in test set\n",
    "    random_state=0)  # seed to ensure reproducibility\n",
    "\n",
    "X_train.shape, X_test.shape"
   ]
  },
  {
   "cell_type": "markdown",
   "id": "570be05f",
   "metadata": {},
   "source": [
    "## One Hot Encoding with pandas"
   ]
  },
  {
   "cell_type": "code",
   "execution_count": 5,
   "id": "0c04d951",
   "metadata": {},
   "outputs": [
    {
     "data": {
      "text/plain": [
       "array(['u', 'y', 'Missing', 'l'], dtype=object)"
      ]
     },
     "execution_count": 5,
     "metadata": {},
     "output_type": "execute_result"
    }
   ],
   "source": [
    "# let's inspect the unique values of A4\n",
    "\n",
    "X_train['A4'].unique()"
   ]
  },
  {
   "cell_type": "code",
   "execution_count": 6,
   "id": "196e0499",
   "metadata": {
    "scrolled": true
   },
   "outputs": [
    {
     "name": "stdout",
     "output_type": "stream",
     "text": [
      "     l  u  y\n",
      "596  0  1  0\n",
      "303  0  1  0\n",
      "204  0  0  1\n",
      "351  0  0  1\n",
      "118  0  1  0\n"
     ]
    }
   ],
   "source": [
    "# let's one hot encode A4\n",
    "\n",
    "tmp = pd.get_dummies(X_train['A4'], drop_first=True)\n",
    "\n",
    "print(tmp.head())"
   ]
  },
  {
   "cell_type": "code",
   "execution_count": 7,
   "id": "9be372fe",
   "metadata": {},
   "outputs": [
    {
     "name": "stdout",
     "output_type": "stream",
     "text": [
      "     A1_a  A1_b  A4_l  A4_u  A4_y  A5_g  A5_gg  A5_p  A6_aa  A6_c  ...  A7_j  \\\n",
      "596     1     0     0     1     0     1      0     0      0     1  ...     0   \n",
      "303     1     0     0     1     0     1      0     0      0     0  ...     0   \n",
      "204     0     1     0     0     1     0      0     1      0     0  ...     0   \n",
      "351     0     1     0     0     1     0      0     1      0     0  ...     0   \n",
      "118     0     1     0     1     0     1      0     0      0     0  ...     0   \n",
      "\n",
      "     A7_n  A7_o  A7_v  A7_z  A9_t  A10_t  A12_t  A13_p  A13_s  \n",
      "596     0     0     1     0     1      1      1      0      0  \n",
      "303     0     0     1     0     0      0      0      0      0  \n",
      "204     0     0     1     0     1      1      0      0      0  \n",
      "351     0     0     0     0     0      0      0      0      0  \n",
      "118     0     0     1     0     1      1      1      0      0  \n",
      "\n",
      "[5 rows x 36 columns]\n"
     ]
    }
   ],
   "source": [
    "# now let's encode all cateogrical variables together: train set\n",
    "\n",
    "X_train_enc = pd.get_dummies(X_train[vars_categorical], drop_first=True)\n",
    "\n",
    "print(X_train_enc.head())"
   ]
  },
  {
   "cell_type": "code",
   "execution_count": 8,
   "id": "0f6a6326",
   "metadata": {},
   "outputs": [
    {
     "data": {
      "text/html": [
       "<div>\n",
       "<style scoped>\n",
       "    .dataframe tbody tr th:only-of-type {\n",
       "        vertical-align: middle;\n",
       "    }\n",
       "\n",
       "    .dataframe tbody tr th {\n",
       "        vertical-align: top;\n",
       "    }\n",
       "\n",
       "    .dataframe thead th {\n",
       "        text-align: right;\n",
       "    }\n",
       "</style>\n",
       "<table border=\"1\" class=\"dataframe\">\n",
       "  <thead>\n",
       "    <tr style=\"text-align: right;\">\n",
       "      <th></th>\n",
       "      <th>A1_a</th>\n",
       "      <th>A1_b</th>\n",
       "      <th>A4_l</th>\n",
       "      <th>A4_u</th>\n",
       "      <th>A4_y</th>\n",
       "      <th>A5_g</th>\n",
       "      <th>A5_gg</th>\n",
       "      <th>A5_p</th>\n",
       "      <th>A6_aa</th>\n",
       "      <th>A6_c</th>\n",
       "      <th>...</th>\n",
       "      <th>A7_j</th>\n",
       "      <th>A7_n</th>\n",
       "      <th>A7_o</th>\n",
       "      <th>A7_v</th>\n",
       "      <th>A7_z</th>\n",
       "      <th>A9_t</th>\n",
       "      <th>A10_t</th>\n",
       "      <th>A12_t</th>\n",
       "      <th>A13_p</th>\n",
       "      <th>A13_s</th>\n",
       "    </tr>\n",
       "  </thead>\n",
       "  <tbody>\n",
       "    <tr>\n",
       "      <td>14</td>\n",
       "      <td>1</td>\n",
       "      <td>0</td>\n",
       "      <td>0</td>\n",
       "      <td>1</td>\n",
       "      <td>0</td>\n",
       "      <td>1</td>\n",
       "      <td>0</td>\n",
       "      <td>0</td>\n",
       "      <td>0</td>\n",
       "      <td>0</td>\n",
       "      <td>...</td>\n",
       "      <td>0</td>\n",
       "      <td>0</td>\n",
       "      <td>0</td>\n",
       "      <td>1</td>\n",
       "      <td>0</td>\n",
       "      <td>1</td>\n",
       "      <td>1</td>\n",
       "      <td>1</td>\n",
       "      <td>0</td>\n",
       "      <td>0</td>\n",
       "    </tr>\n",
       "    <tr>\n",
       "      <td>586</td>\n",
       "      <td>0</td>\n",
       "      <td>1</td>\n",
       "      <td>0</td>\n",
       "      <td>1</td>\n",
       "      <td>0</td>\n",
       "      <td>1</td>\n",
       "      <td>0</td>\n",
       "      <td>0</td>\n",
       "      <td>0</td>\n",
       "      <td>0</td>\n",
       "      <td>...</td>\n",
       "      <td>0</td>\n",
       "      <td>0</td>\n",
       "      <td>0</td>\n",
       "      <td>0</td>\n",
       "      <td>0</td>\n",
       "      <td>1</td>\n",
       "      <td>1</td>\n",
       "      <td>1</td>\n",
       "      <td>0</td>\n",
       "      <td>0</td>\n",
       "    </tr>\n",
       "    <tr>\n",
       "      <td>140</td>\n",
       "      <td>1</td>\n",
       "      <td>0</td>\n",
       "      <td>0</td>\n",
       "      <td>1</td>\n",
       "      <td>0</td>\n",
       "      <td>1</td>\n",
       "      <td>0</td>\n",
       "      <td>0</td>\n",
       "      <td>0</td>\n",
       "      <td>0</td>\n",
       "      <td>...</td>\n",
       "      <td>0</td>\n",
       "      <td>0</td>\n",
       "      <td>0</td>\n",
       "      <td>0</td>\n",
       "      <td>0</td>\n",
       "      <td>1</td>\n",
       "      <td>1</td>\n",
       "      <td>1</td>\n",
       "      <td>0</td>\n",
       "      <td>0</td>\n",
       "    </tr>\n",
       "    <tr>\n",
       "      <td>492</td>\n",
       "      <td>0</td>\n",
       "      <td>1</td>\n",
       "      <td>0</td>\n",
       "      <td>1</td>\n",
       "      <td>0</td>\n",
       "      <td>1</td>\n",
       "      <td>0</td>\n",
       "      <td>0</td>\n",
       "      <td>0</td>\n",
       "      <td>0</td>\n",
       "      <td>...</td>\n",
       "      <td>0</td>\n",
       "      <td>0</td>\n",
       "      <td>0</td>\n",
       "      <td>1</td>\n",
       "      <td>0</td>\n",
       "      <td>1</td>\n",
       "      <td>1</td>\n",
       "      <td>0</td>\n",
       "      <td>0</td>\n",
       "      <td>0</td>\n",
       "    </tr>\n",
       "    <tr>\n",
       "      <td>350</td>\n",
       "      <td>1</td>\n",
       "      <td>0</td>\n",
       "      <td>0</td>\n",
       "      <td>1</td>\n",
       "      <td>0</td>\n",
       "      <td>1</td>\n",
       "      <td>0</td>\n",
       "      <td>0</td>\n",
       "      <td>0</td>\n",
       "      <td>0</td>\n",
       "      <td>...</td>\n",
       "      <td>1</td>\n",
       "      <td>0</td>\n",
       "      <td>0</td>\n",
       "      <td>0</td>\n",
       "      <td>0</td>\n",
       "      <td>0</td>\n",
       "      <td>0</td>\n",
       "      <td>1</td>\n",
       "      <td>0</td>\n",
       "      <td>0</td>\n",
       "    </tr>\n",
       "  </tbody>\n",
       "</table>\n",
       "<p>5 rows × 36 columns</p>\n",
       "</div>"
      ],
      "text/plain": [
       "     A1_a  A1_b  A4_l  A4_u  A4_y  A5_g  A5_gg  A5_p  A6_aa  A6_c  ...  A7_j  \\\n",
       "14      1     0     0     1     0     1      0     0      0     0  ...     0   \n",
       "586     0     1     0     1     0     1      0     0      0     0  ...     0   \n",
       "140     1     0     0     1     0     1      0     0      0     0  ...     0   \n",
       "492     0     1     0     1     0     1      0     0      0     0  ...     0   \n",
       "350     1     0     0     1     0     1      0     0      0     0  ...     1   \n",
       "\n",
       "     A7_n  A7_o  A7_v  A7_z  A9_t  A10_t  A12_t  A13_p  A13_s  \n",
       "14      0     0     1     0     1      1      1      0      0  \n",
       "586     0     0     0     0     1      1      1      0      0  \n",
       "140     0     0     0     0     1      1      1      0      0  \n",
       "492     0     0     1     0     1      1      0      0      0  \n",
       "350     0     0     0     0     0      0      1      0      0  \n",
       "\n",
       "[5 rows x 36 columns]"
      ]
     },
     "execution_count": 8,
     "metadata": {},
     "output_type": "execute_result"
    }
   ],
   "source": [
    "# and in the test set\n",
    "\n",
    "X_test_enc = pd.get_dummies(X_test[vars_categorical], drop_first=True)\n",
    "\n",
    "X_test_enc.head()"
   ]
  },
  {
   "cell_type": "markdown",
   "id": "2489ea25",
   "metadata": {},
   "source": [
    "## One Hot Encoding with Scikit-learn"
   ]
  },
  {
   "cell_type": "code",
   "execution_count": 9,
   "id": "ccdc4726",
   "metadata": {},
   "outputs": [],
   "source": [
    "# we create and train the encoder\n",
    "\n",
    "encoder = OneHotEncoder(categories='auto',\n",
    "                        drop='first',  # to return k-1, use frop=false to return k dummies\n",
    "                        sparse=False)"
   ]
  },
  {
   "cell_type": "code",
   "execution_count": 10,
   "id": "7073881d",
   "metadata": {},
   "outputs": [
    {
     "data": {
      "text/plain": [
       "OneHotEncoder(categories='auto', drop='first', dtype=<class 'numpy.float64'>,\n",
       "              handle_unknown='error', sparse=False)"
      ]
     },
     "execution_count": 10,
     "metadata": {},
     "output_type": "execute_result"
    }
   ],
   "source": [
    "# fit the encoder to the train set: it will learn the categories to encode\n",
    "\n",
    "encoder.fit(X_train[vars_categorical])"
   ]
  },
  {
   "cell_type": "code",
   "execution_count": 11,
   "id": "c050e1a8",
   "metadata": {},
   "outputs": [],
   "source": [
    "# transform the train and test sets\n",
    "\n",
    "X_train_enc = encoder.transform(X_train[vars_categorical])\n",
    "X_test_enc = encoder.transform(X_test[vars_categorical])"
   ]
  },
  {
   "cell_type": "code",
   "execution_count": 12,
   "id": "c4af47db",
   "metadata": {},
   "outputs": [
    {
     "name": "stdout",
     "output_type": "stream",
     "text": [
      "    0    1    2    3    4    5    6    7    8    9   ...   26   27   28   29  \\\n",
      "0  1.0  0.0  0.0  1.0  0.0  1.0  0.0  0.0  0.0  1.0  ...  0.0  0.0  0.0  1.0   \n",
      "1  1.0  0.0  0.0  1.0  0.0  1.0  0.0  0.0  0.0  0.0  ...  0.0  0.0  0.0  1.0   \n",
      "2  0.0  1.0  0.0  0.0  1.0  0.0  0.0  1.0  0.0  0.0  ...  0.0  0.0  0.0  1.0   \n",
      "3  0.0  1.0  0.0  0.0  1.0  0.0  0.0  1.0  0.0  0.0  ...  0.0  0.0  0.0  0.0   \n",
      "4  0.0  1.0  0.0  1.0  0.0  1.0  0.0  0.0  0.0  0.0  ...  0.0  0.0  0.0  1.0   \n",
      "\n",
      "    30   31   32   33   34   35  \n",
      "0  0.0  1.0  1.0  1.0  0.0  0.0  \n",
      "1  0.0  0.0  0.0  0.0  0.0  0.0  \n",
      "2  0.0  1.0  1.0  0.0  0.0  0.0  \n",
      "3  0.0  0.0  0.0  0.0  0.0  0.0  \n",
      "4  0.0  1.0  1.0  1.0  0.0  0.0  \n",
      "\n",
      "[5 rows x 36 columns]\n"
     ]
    }
   ],
   "source": [
    "# let's inspect the train set\n",
    "\n",
    "print(pd.DataFrame(X_train_enc).head())"
   ]
  },
  {
   "cell_type": "code",
   "execution_count": 13,
   "id": "a9b16b1f",
   "metadata": {},
   "outputs": [
    {
     "data": {
      "text/html": [
       "<div>\n",
       "<style scoped>\n",
       "    .dataframe tbody tr th:only-of-type {\n",
       "        vertical-align: middle;\n",
       "    }\n",
       "\n",
       "    .dataframe tbody tr th {\n",
       "        vertical-align: top;\n",
       "    }\n",
       "\n",
       "    .dataframe thead th {\n",
       "        text-align: right;\n",
       "    }\n",
       "</style>\n",
       "<table border=\"1\" class=\"dataframe\">\n",
       "  <thead>\n",
       "    <tr style=\"text-align: right;\">\n",
       "      <th></th>\n",
       "      <th>0</th>\n",
       "      <th>1</th>\n",
       "      <th>2</th>\n",
       "      <th>3</th>\n",
       "      <th>4</th>\n",
       "      <th>5</th>\n",
       "      <th>6</th>\n",
       "      <th>7</th>\n",
       "      <th>8</th>\n",
       "      <th>9</th>\n",
       "      <th>...</th>\n",
       "      <th>26</th>\n",
       "      <th>27</th>\n",
       "      <th>28</th>\n",
       "      <th>29</th>\n",
       "      <th>30</th>\n",
       "      <th>31</th>\n",
       "      <th>32</th>\n",
       "      <th>33</th>\n",
       "      <th>34</th>\n",
       "      <th>35</th>\n",
       "    </tr>\n",
       "  </thead>\n",
       "  <tbody>\n",
       "    <tr>\n",
       "      <td>0</td>\n",
       "      <td>1.0</td>\n",
       "      <td>0.0</td>\n",
       "      <td>0.0</td>\n",
       "      <td>1.0</td>\n",
       "      <td>0.0</td>\n",
       "      <td>1.0</td>\n",
       "      <td>0.0</td>\n",
       "      <td>0.0</td>\n",
       "      <td>0.0</td>\n",
       "      <td>0.0</td>\n",
       "      <td>...</td>\n",
       "      <td>0.0</td>\n",
       "      <td>0.0</td>\n",
       "      <td>0.0</td>\n",
       "      <td>1.0</td>\n",
       "      <td>0.0</td>\n",
       "      <td>1.0</td>\n",
       "      <td>1.0</td>\n",
       "      <td>1.0</td>\n",
       "      <td>0.0</td>\n",
       "      <td>0.0</td>\n",
       "    </tr>\n",
       "    <tr>\n",
       "      <td>1</td>\n",
       "      <td>0.0</td>\n",
       "      <td>1.0</td>\n",
       "      <td>0.0</td>\n",
       "      <td>1.0</td>\n",
       "      <td>0.0</td>\n",
       "      <td>1.0</td>\n",
       "      <td>0.0</td>\n",
       "      <td>0.0</td>\n",
       "      <td>0.0</td>\n",
       "      <td>0.0</td>\n",
       "      <td>...</td>\n",
       "      <td>0.0</td>\n",
       "      <td>0.0</td>\n",
       "      <td>0.0</td>\n",
       "      <td>0.0</td>\n",
       "      <td>0.0</td>\n",
       "      <td>1.0</td>\n",
       "      <td>1.0</td>\n",
       "      <td>1.0</td>\n",
       "      <td>0.0</td>\n",
       "      <td>0.0</td>\n",
       "    </tr>\n",
       "    <tr>\n",
       "      <td>2</td>\n",
       "      <td>1.0</td>\n",
       "      <td>0.0</td>\n",
       "      <td>0.0</td>\n",
       "      <td>1.0</td>\n",
       "      <td>0.0</td>\n",
       "      <td>1.0</td>\n",
       "      <td>0.0</td>\n",
       "      <td>0.0</td>\n",
       "      <td>0.0</td>\n",
       "      <td>0.0</td>\n",
       "      <td>...</td>\n",
       "      <td>0.0</td>\n",
       "      <td>0.0</td>\n",
       "      <td>0.0</td>\n",
       "      <td>0.0</td>\n",
       "      <td>0.0</td>\n",
       "      <td>1.0</td>\n",
       "      <td>1.0</td>\n",
       "      <td>1.0</td>\n",
       "      <td>0.0</td>\n",
       "      <td>0.0</td>\n",
       "    </tr>\n",
       "    <tr>\n",
       "      <td>3</td>\n",
       "      <td>0.0</td>\n",
       "      <td>1.0</td>\n",
       "      <td>0.0</td>\n",
       "      <td>1.0</td>\n",
       "      <td>0.0</td>\n",
       "      <td>1.0</td>\n",
       "      <td>0.0</td>\n",
       "      <td>0.0</td>\n",
       "      <td>0.0</td>\n",
       "      <td>0.0</td>\n",
       "      <td>...</td>\n",
       "      <td>0.0</td>\n",
       "      <td>0.0</td>\n",
       "      <td>0.0</td>\n",
       "      <td>1.0</td>\n",
       "      <td>0.0</td>\n",
       "      <td>1.0</td>\n",
       "      <td>1.0</td>\n",
       "      <td>0.0</td>\n",
       "      <td>0.0</td>\n",
       "      <td>0.0</td>\n",
       "    </tr>\n",
       "    <tr>\n",
       "      <td>4</td>\n",
       "      <td>1.0</td>\n",
       "      <td>0.0</td>\n",
       "      <td>0.0</td>\n",
       "      <td>1.0</td>\n",
       "      <td>0.0</td>\n",
       "      <td>1.0</td>\n",
       "      <td>0.0</td>\n",
       "      <td>0.0</td>\n",
       "      <td>0.0</td>\n",
       "      <td>0.0</td>\n",
       "      <td>...</td>\n",
       "      <td>1.0</td>\n",
       "      <td>0.0</td>\n",
       "      <td>0.0</td>\n",
       "      <td>0.0</td>\n",
       "      <td>0.0</td>\n",
       "      <td>0.0</td>\n",
       "      <td>0.0</td>\n",
       "      <td>1.0</td>\n",
       "      <td>0.0</td>\n",
       "      <td>0.0</td>\n",
       "    </tr>\n",
       "  </tbody>\n",
       "</table>\n",
       "<p>5 rows × 36 columns</p>\n",
       "</div>"
      ],
      "text/plain": [
       "    0    1    2    3    4    5    6    7    8    9   ...   26   27   28   29  \\\n",
       "0  1.0  0.0  0.0  1.0  0.0  1.0  0.0  0.0  0.0  0.0  ...  0.0  0.0  0.0  1.0   \n",
       "1  0.0  1.0  0.0  1.0  0.0  1.0  0.0  0.0  0.0  0.0  ...  0.0  0.0  0.0  0.0   \n",
       "2  1.0  0.0  0.0  1.0  0.0  1.0  0.0  0.0  0.0  0.0  ...  0.0  0.0  0.0  0.0   \n",
       "3  0.0  1.0  0.0  1.0  0.0  1.0  0.0  0.0  0.0  0.0  ...  0.0  0.0  0.0  1.0   \n",
       "4  1.0  0.0  0.0  1.0  0.0  1.0  0.0  0.0  0.0  0.0  ...  1.0  0.0  0.0  0.0   \n",
       "\n",
       "    30   31   32   33   34   35  \n",
       "0  0.0  1.0  1.0  1.0  0.0  0.0  \n",
       "1  0.0  1.0  1.0  1.0  0.0  0.0  \n",
       "2  0.0  1.0  1.0  1.0  0.0  0.0  \n",
       "3  0.0  1.0  1.0  0.0  0.0  0.0  \n",
       "4  0.0  0.0  0.0  1.0  0.0  0.0  \n",
       "\n",
       "[5 rows x 36 columns]"
      ]
     },
     "execution_count": 13,
     "metadata": {},
     "output_type": "execute_result"
    }
   ],
   "source": [
    "# let's inspect the test set\n",
    "\n",
    "pd.DataFrame(X_test_enc).head()"
   ]
  },
  {
   "cell_type": "markdown",
   "id": "fc2c5b62",
   "metadata": {},
   "source": [
    "## One hot encoding with Feature-Engine"
   ]
  },
  {
   "cell_type": "code",
   "execution_count": 14,
   "id": "7076f2d3",
   "metadata": {},
   "outputs": [],
   "source": [
    "# let's create the encoder\n",
    "\n",
    "ohe_enc = OneHotCategoricalEncoder(\n",
    "    top_categories=None,\n",
    "    drop_last=True)  # to return k-1, false to return k"
   ]
  },
  {
   "cell_type": "code",
   "execution_count": 15,
   "id": "d56af531",
   "metadata": {},
   "outputs": [
    {
     "data": {
      "text/plain": [
       "OneHotCategoricalEncoder(drop_last=True, top_categories=None,\n",
       "                         variables=['A1', 'A4', 'A5', 'A6', 'A7', 'A9', 'A10',\n",
       "                                    'A12', 'A13'])"
      ]
     },
     "execution_count": 15,
     "metadata": {},
     "output_type": "execute_result"
    }
   ],
   "source": [
    "# fit the encoder to the train set: it will learn the variables and \n",
    "# categories to encode\n",
    "\n",
    "ohe_enc.fit(X_train)"
   ]
  },
  {
   "cell_type": "code",
   "execution_count": 16,
   "id": "1ae12f40",
   "metadata": {},
   "outputs": [
    {
     "data": {
      "text/plain": [
       "['A1', 'A4', 'A5', 'A6', 'A7', 'A9', 'A10', 'A12', 'A13']"
      ]
     },
     "execution_count": 16,
     "metadata": {},
     "output_type": "execute_result"
    }
   ],
   "source": [
    "# we can see which variables the encoder will encode\n",
    "\n",
    "ohe_enc.variables"
   ]
  },
  {
   "cell_type": "code",
   "execution_count": 17,
   "id": "8412efea",
   "metadata": {},
   "outputs": [
    {
     "name": "stderr",
     "output_type": "stream",
     "text": [
      "C:\\Users\\Sole\\Anaconda3\\envs\\feml\\lib\\site-packages\\sklearn\\utils\\validation.py:933: FutureWarning: Passing attributes to check_is_fitted is deprecated and will be removed in 0.23. The attributes argument is ignored.\n",
      "  \"argument is ignored.\", FutureWarning)\n"
     ]
    }
   ],
   "source": [
    "# let's transform train and test set\n",
    "\n",
    "X_train_enc = ohe_enc.transform(X_train)\n",
    "X_test_enc = ohe_enc.transform(X_test)"
   ]
  },
  {
   "cell_type": "code",
   "execution_count": 18,
   "id": "abb67b56",
   "metadata": {},
   "outputs": [
    {
     "data": {
      "text/html": [
       "<div>\n",
       "<style scoped>\n",
       "    .dataframe tbody tr th:only-of-type {\n",
       "        vertical-align: middle;\n",
       "    }\n",
       "\n",
       "    .dataframe tbody tr th {\n",
       "        vertical-align: top;\n",
       "    }\n",
       "\n",
       "    .dataframe thead th {\n",
       "        text-align: right;\n",
       "    }\n",
       "</style>\n",
       "<table border=\"1\" class=\"dataframe\">\n",
       "  <thead>\n",
       "    <tr style=\"text-align: right;\">\n",
       "      <th></th>\n",
       "      <th>A2</th>\n",
       "      <th>A3</th>\n",
       "      <th>A8</th>\n",
       "      <th>A11</th>\n",
       "      <th>A14</th>\n",
       "      <th>A15</th>\n",
       "      <th>A1_a</th>\n",
       "      <th>A1_b</th>\n",
       "      <th>A4_u</th>\n",
       "      <th>A4_y</th>\n",
       "      <th>...</th>\n",
       "      <th>A7_z</th>\n",
       "      <th>A7_bb</th>\n",
       "      <th>A7_j</th>\n",
       "      <th>A7_Missing</th>\n",
       "      <th>A7_n</th>\n",
       "      <th>A9_t</th>\n",
       "      <th>A10_t</th>\n",
       "      <th>A12_t</th>\n",
       "      <th>A13_g</th>\n",
       "      <th>A13_s</th>\n",
       "    </tr>\n",
       "  </thead>\n",
       "  <tbody>\n",
       "    <tr>\n",
       "      <td>596</td>\n",
       "      <td>46.08</td>\n",
       "      <td>3.000</td>\n",
       "      <td>2.375</td>\n",
       "      <td>8</td>\n",
       "      <td>396.0</td>\n",
       "      <td>4159</td>\n",
       "      <td>1</td>\n",
       "      <td>0</td>\n",
       "      <td>1</td>\n",
       "      <td>0</td>\n",
       "      <td>...</td>\n",
       "      <td>0</td>\n",
       "      <td>0</td>\n",
       "      <td>0</td>\n",
       "      <td>0</td>\n",
       "      <td>0</td>\n",
       "      <td>1</td>\n",
       "      <td>1</td>\n",
       "      <td>1</td>\n",
       "      <td>1</td>\n",
       "      <td>0</td>\n",
       "    </tr>\n",
       "    <tr>\n",
       "      <td>303</td>\n",
       "      <td>15.92</td>\n",
       "      <td>2.875</td>\n",
       "      <td>0.085</td>\n",
       "      <td>0</td>\n",
       "      <td>120.0</td>\n",
       "      <td>0</td>\n",
       "      <td>1</td>\n",
       "      <td>0</td>\n",
       "      <td>1</td>\n",
       "      <td>0</td>\n",
       "      <td>...</td>\n",
       "      <td>0</td>\n",
       "      <td>0</td>\n",
       "      <td>0</td>\n",
       "      <td>0</td>\n",
       "      <td>0</td>\n",
       "      <td>0</td>\n",
       "      <td>0</td>\n",
       "      <td>0</td>\n",
       "      <td>1</td>\n",
       "      <td>0</td>\n",
       "    </tr>\n",
       "    <tr>\n",
       "      <td>204</td>\n",
       "      <td>36.33</td>\n",
       "      <td>2.125</td>\n",
       "      <td>0.085</td>\n",
       "      <td>1</td>\n",
       "      <td>50.0</td>\n",
       "      <td>1187</td>\n",
       "      <td>0</td>\n",
       "      <td>1</td>\n",
       "      <td>0</td>\n",
       "      <td>1</td>\n",
       "      <td>...</td>\n",
       "      <td>0</td>\n",
       "      <td>0</td>\n",
       "      <td>0</td>\n",
       "      <td>0</td>\n",
       "      <td>0</td>\n",
       "      <td>1</td>\n",
       "      <td>1</td>\n",
       "      <td>0</td>\n",
       "      <td>1</td>\n",
       "      <td>0</td>\n",
       "    </tr>\n",
       "    <tr>\n",
       "      <td>351</td>\n",
       "      <td>22.17</td>\n",
       "      <td>0.585</td>\n",
       "      <td>0.000</td>\n",
       "      <td>0</td>\n",
       "      <td>100.0</td>\n",
       "      <td>0</td>\n",
       "      <td>0</td>\n",
       "      <td>1</td>\n",
       "      <td>0</td>\n",
       "      <td>1</td>\n",
       "      <td>...</td>\n",
       "      <td>0</td>\n",
       "      <td>0</td>\n",
       "      <td>0</td>\n",
       "      <td>0</td>\n",
       "      <td>0</td>\n",
       "      <td>0</td>\n",
       "      <td>0</td>\n",
       "      <td>0</td>\n",
       "      <td>1</td>\n",
       "      <td>0</td>\n",
       "    </tr>\n",
       "    <tr>\n",
       "      <td>118</td>\n",
       "      <td>57.83</td>\n",
       "      <td>7.040</td>\n",
       "      <td>14.000</td>\n",
       "      <td>6</td>\n",
       "      <td>360.0</td>\n",
       "      <td>1332</td>\n",
       "      <td>0</td>\n",
       "      <td>1</td>\n",
       "      <td>1</td>\n",
       "      <td>0</td>\n",
       "      <td>...</td>\n",
       "      <td>0</td>\n",
       "      <td>0</td>\n",
       "      <td>0</td>\n",
       "      <td>0</td>\n",
       "      <td>0</td>\n",
       "      <td>1</td>\n",
       "      <td>1</td>\n",
       "      <td>1</td>\n",
       "      <td>1</td>\n",
       "      <td>0</td>\n",
       "    </tr>\n",
       "  </tbody>\n",
       "</table>\n",
       "<p>5 rows × 42 columns</p>\n",
       "</div>"
      ],
      "text/plain": [
       "        A2     A3      A8  A11    A14   A15  A1_a  A1_b  A4_u  A4_y  ...  \\\n",
       "596  46.08  3.000   2.375    8  396.0  4159     1     0     1     0  ...   \n",
       "303  15.92  2.875   0.085    0  120.0     0     1     0     1     0  ...   \n",
       "204  36.33  2.125   0.085    1   50.0  1187     0     1     0     1  ...   \n",
       "351  22.17  0.585   0.000    0  100.0     0     0     1     0     1  ...   \n",
       "118  57.83  7.040  14.000    6  360.0  1332     0     1     1     0  ...   \n",
       "\n",
       "     A7_z  A7_bb  A7_j  A7_Missing  A7_n  A9_t  A10_t  A12_t  A13_g  A13_s  \n",
       "596     0      0     0           0     0     1      1      1      1      0  \n",
       "303     0      0     0           0     0     0      0      0      1      0  \n",
       "204     0      0     0           0     0     1      1      0      1      0  \n",
       "351     0      0     0           0     0     0      0      0      1      0  \n",
       "118     0      0     0           0     0     1      1      1      1      0  \n",
       "\n",
       "[5 rows x 42 columns]"
      ]
     },
     "execution_count": 18,
     "metadata": {},
     "output_type": "execute_result"
    }
   ],
   "source": [
    "# let's inspect the encoded train set\n",
    "\n",
    "X_train_enc.head()"
   ]
  },
  {
   "cell_type": "code",
   "execution_count": 19,
   "id": "a2eaa3b4",
   "metadata": {},
   "outputs": [
    {
     "data": {
      "text/html": [
       "<div>\n",
       "<style scoped>\n",
       "    .dataframe tbody tr th:only-of-type {\n",
       "        vertical-align: middle;\n",
       "    }\n",
       "\n",
       "    .dataframe tbody tr th {\n",
       "        vertical-align: top;\n",
       "    }\n",
       "\n",
       "    .dataframe thead th {\n",
       "        text-align: right;\n",
       "    }\n",
       "</style>\n",
       "<table border=\"1\" class=\"dataframe\">\n",
       "  <thead>\n",
       "    <tr style=\"text-align: right;\">\n",
       "      <th></th>\n",
       "      <th>A2</th>\n",
       "      <th>A3</th>\n",
       "      <th>A8</th>\n",
       "      <th>A11</th>\n",
       "      <th>A14</th>\n",
       "      <th>A15</th>\n",
       "      <th>A1_a</th>\n",
       "      <th>A1_b</th>\n",
       "      <th>A4_u</th>\n",
       "      <th>A4_y</th>\n",
       "      <th>...</th>\n",
       "      <th>A7_z</th>\n",
       "      <th>A7_bb</th>\n",
       "      <th>A7_j</th>\n",
       "      <th>A7_Missing</th>\n",
       "      <th>A7_n</th>\n",
       "      <th>A9_t</th>\n",
       "      <th>A10_t</th>\n",
       "      <th>A12_t</th>\n",
       "      <th>A13_g</th>\n",
       "      <th>A13_s</th>\n",
       "    </tr>\n",
       "  </thead>\n",
       "  <tbody>\n",
       "    <tr>\n",
       "      <td>14</td>\n",
       "      <td>45.83</td>\n",
       "      <td>10.50</td>\n",
       "      <td>5.000</td>\n",
       "      <td>7</td>\n",
       "      <td>0.0</td>\n",
       "      <td>0</td>\n",
       "      <td>1</td>\n",
       "      <td>0</td>\n",
       "      <td>1</td>\n",
       "      <td>0</td>\n",
       "      <td>...</td>\n",
       "      <td>0</td>\n",
       "      <td>0</td>\n",
       "      <td>0</td>\n",
       "      <td>0</td>\n",
       "      <td>0</td>\n",
       "      <td>1</td>\n",
       "      <td>1</td>\n",
       "      <td>1</td>\n",
       "      <td>1</td>\n",
       "      <td>0</td>\n",
       "    </tr>\n",
       "    <tr>\n",
       "      <td>586</td>\n",
       "      <td>64.08</td>\n",
       "      <td>20.00</td>\n",
       "      <td>17.500</td>\n",
       "      <td>9</td>\n",
       "      <td>0.0</td>\n",
       "      <td>1000</td>\n",
       "      <td>0</td>\n",
       "      <td>1</td>\n",
       "      <td>1</td>\n",
       "      <td>0</td>\n",
       "      <td>...</td>\n",
       "      <td>0</td>\n",
       "      <td>0</td>\n",
       "      <td>0</td>\n",
       "      <td>0</td>\n",
       "      <td>0</td>\n",
       "      <td>1</td>\n",
       "      <td>1</td>\n",
       "      <td>1</td>\n",
       "      <td>1</td>\n",
       "      <td>0</td>\n",
       "    </tr>\n",
       "    <tr>\n",
       "      <td>140</td>\n",
       "      <td>31.25</td>\n",
       "      <td>3.75</td>\n",
       "      <td>0.625</td>\n",
       "      <td>9</td>\n",
       "      <td>181.0</td>\n",
       "      <td>0</td>\n",
       "      <td>1</td>\n",
       "      <td>0</td>\n",
       "      <td>1</td>\n",
       "      <td>0</td>\n",
       "      <td>...</td>\n",
       "      <td>0</td>\n",
       "      <td>0</td>\n",
       "      <td>0</td>\n",
       "      <td>0</td>\n",
       "      <td>0</td>\n",
       "      <td>1</td>\n",
       "      <td>1</td>\n",
       "      <td>1</td>\n",
       "      <td>1</td>\n",
       "      <td>0</td>\n",
       "    </tr>\n",
       "    <tr>\n",
       "      <td>492</td>\n",
       "      <td>39.25</td>\n",
       "      <td>9.50</td>\n",
       "      <td>6.500</td>\n",
       "      <td>14</td>\n",
       "      <td>240.0</td>\n",
       "      <td>4607</td>\n",
       "      <td>0</td>\n",
       "      <td>1</td>\n",
       "      <td>1</td>\n",
       "      <td>0</td>\n",
       "      <td>...</td>\n",
       "      <td>0</td>\n",
       "      <td>0</td>\n",
       "      <td>0</td>\n",
       "      <td>0</td>\n",
       "      <td>0</td>\n",
       "      <td>1</td>\n",
       "      <td>1</td>\n",
       "      <td>0</td>\n",
       "      <td>1</td>\n",
       "      <td>0</td>\n",
       "    </tr>\n",
       "    <tr>\n",
       "      <td>350</td>\n",
       "      <td>26.17</td>\n",
       "      <td>2.00</td>\n",
       "      <td>0.000</td>\n",
       "      <td>0</td>\n",
       "      <td>276.0</td>\n",
       "      <td>1</td>\n",
       "      <td>1</td>\n",
       "      <td>0</td>\n",
       "      <td>1</td>\n",
       "      <td>0</td>\n",
       "      <td>...</td>\n",
       "      <td>0</td>\n",
       "      <td>0</td>\n",
       "      <td>1</td>\n",
       "      <td>0</td>\n",
       "      <td>0</td>\n",
       "      <td>0</td>\n",
       "      <td>0</td>\n",
       "      <td>1</td>\n",
       "      <td>1</td>\n",
       "      <td>0</td>\n",
       "    </tr>\n",
       "  </tbody>\n",
       "</table>\n",
       "<p>5 rows × 42 columns</p>\n",
       "</div>"
      ],
      "text/plain": [
       "        A2     A3      A8  A11    A14   A15  A1_a  A1_b  A4_u  A4_y  ...  \\\n",
       "14   45.83  10.50   5.000    7    0.0     0     1     0     1     0  ...   \n",
       "586  64.08  20.00  17.500    9    0.0  1000     0     1     1     0  ...   \n",
       "140  31.25   3.75   0.625    9  181.0     0     1     0     1     0  ...   \n",
       "492  39.25   9.50   6.500   14  240.0  4607     0     1     1     0  ...   \n",
       "350  26.17   2.00   0.000    0  276.0     1     1     0     1     0  ...   \n",
       "\n",
       "     A7_z  A7_bb  A7_j  A7_Missing  A7_n  A9_t  A10_t  A12_t  A13_g  A13_s  \n",
       "14      0      0     0           0     0     1      1      1      1      0  \n",
       "586     0      0     0           0     0     1      1      1      1      0  \n",
       "140     0      0     0           0     0     1      1      1      1      0  \n",
       "492     0      0     0           0     0     1      1      0      1      0  \n",
       "350     0      0     1           0     0     0      0      1      1      0  \n",
       "\n",
       "[5 rows x 42 columns]"
      ]
     },
     "execution_count": 19,
     "metadata": {},
     "output_type": "execute_result"
    }
   ],
   "source": [
    "# let's inspect the encoded test set\n",
    "\n",
    "X_test_enc.head()"
   ]
  },
  {
   "cell_type": "markdown",
   "id": "d66f4b60",
   "metadata": {},
   "source": [
    "# One Hot Encoding Top Categories"
   ]
  },
  {
   "cell_type": "code",
   "execution_count": 2,
   "id": "53bc6c0d",
   "metadata": {},
   "outputs": [
    {
     "data": {
      "text/html": [
       "<div>\n",
       "<style scoped>\n",
       "    .dataframe tbody tr th:only-of-type {\n",
       "        vertical-align: middle;\n",
       "    }\n",
       "\n",
       "    .dataframe tbody tr th {\n",
       "        vertical-align: top;\n",
       "    }\n",
       "\n",
       "    .dataframe thead th {\n",
       "        text-align: right;\n",
       "    }\n",
       "</style>\n",
       "<table border=\"1\" class=\"dataframe\">\n",
       "  <thead>\n",
       "    <tr style=\"text-align: right;\">\n",
       "      <th></th>\n",
       "      <th>A1</th>\n",
       "      <th>A2</th>\n",
       "      <th>A3</th>\n",
       "      <th>A4</th>\n",
       "      <th>A5</th>\n",
       "      <th>A6</th>\n",
       "      <th>A7</th>\n",
       "      <th>A8</th>\n",
       "      <th>A9</th>\n",
       "      <th>A10</th>\n",
       "      <th>A11</th>\n",
       "      <th>A12</th>\n",
       "      <th>A13</th>\n",
       "      <th>A14</th>\n",
       "      <th>A15</th>\n",
       "      <th>A16</th>\n",
       "    </tr>\n",
       "  </thead>\n",
       "  <tbody>\n",
       "    <tr>\n",
       "      <td>0</td>\n",
       "      <td>b</td>\n",
       "      <td>30.83</td>\n",
       "      <td>0.000</td>\n",
       "      <td>u</td>\n",
       "      <td>g</td>\n",
       "      <td>w</td>\n",
       "      <td>v</td>\n",
       "      <td>1.25</td>\n",
       "      <td>t</td>\n",
       "      <td>t</td>\n",
       "      <td>1</td>\n",
       "      <td>f</td>\n",
       "      <td>g</td>\n",
       "      <td>202.0</td>\n",
       "      <td>0</td>\n",
       "      <td>1</td>\n",
       "    </tr>\n",
       "    <tr>\n",
       "      <td>1</td>\n",
       "      <td>a</td>\n",
       "      <td>58.67</td>\n",
       "      <td>4.460</td>\n",
       "      <td>u</td>\n",
       "      <td>g</td>\n",
       "      <td>q</td>\n",
       "      <td>h</td>\n",
       "      <td>3.04</td>\n",
       "      <td>t</td>\n",
       "      <td>t</td>\n",
       "      <td>6</td>\n",
       "      <td>f</td>\n",
       "      <td>g</td>\n",
       "      <td>43.0</td>\n",
       "      <td>560</td>\n",
       "      <td>1</td>\n",
       "    </tr>\n",
       "    <tr>\n",
       "      <td>2</td>\n",
       "      <td>a</td>\n",
       "      <td>24.50</td>\n",
       "      <td>0.500</td>\n",
       "      <td>u</td>\n",
       "      <td>g</td>\n",
       "      <td>q</td>\n",
       "      <td>h</td>\n",
       "      <td>1.50</td>\n",
       "      <td>t</td>\n",
       "      <td>f</td>\n",
       "      <td>0</td>\n",
       "      <td>f</td>\n",
       "      <td>g</td>\n",
       "      <td>280.0</td>\n",
       "      <td>824</td>\n",
       "      <td>1</td>\n",
       "    </tr>\n",
       "    <tr>\n",
       "      <td>3</td>\n",
       "      <td>b</td>\n",
       "      <td>27.83</td>\n",
       "      <td>1.540</td>\n",
       "      <td>u</td>\n",
       "      <td>g</td>\n",
       "      <td>w</td>\n",
       "      <td>v</td>\n",
       "      <td>3.75</td>\n",
       "      <td>t</td>\n",
       "      <td>t</td>\n",
       "      <td>5</td>\n",
       "      <td>t</td>\n",
       "      <td>g</td>\n",
       "      <td>100.0</td>\n",
       "      <td>3</td>\n",
       "      <td>1</td>\n",
       "    </tr>\n",
       "    <tr>\n",
       "      <td>4</td>\n",
       "      <td>b</td>\n",
       "      <td>20.17</td>\n",
       "      <td>5.625</td>\n",
       "      <td>u</td>\n",
       "      <td>g</td>\n",
       "      <td>w</td>\n",
       "      <td>v</td>\n",
       "      <td>1.71</td>\n",
       "      <td>t</td>\n",
       "      <td>f</td>\n",
       "      <td>0</td>\n",
       "      <td>f</td>\n",
       "      <td>s</td>\n",
       "      <td>120.0</td>\n",
       "      <td>0</td>\n",
       "      <td>1</td>\n",
       "    </tr>\n",
       "  </tbody>\n",
       "</table>\n",
       "</div>"
      ],
      "text/plain": [
       "  A1     A2     A3 A4 A5 A6 A7    A8 A9 A10  A11 A12 A13    A14  A15  A16\n",
       "0  b  30.83  0.000  u  g  w  v  1.25  t   t    1   f   g  202.0    0    1\n",
       "1  a  58.67  4.460  u  g  q  h  3.04  t   t    6   f   g   43.0  560    1\n",
       "2  a  24.50  0.500  u  g  q  h  1.50  t   f    0   f   g  280.0  824    1\n",
       "3  b  27.83  1.540  u  g  w  v  3.75  t   t    5   t   g  100.0    3    1\n",
       "4  b  20.17  5.625  u  g  w  v  1.71  t   f    0   f   s  120.0    0    1"
      ]
     },
     "execution_count": 2,
     "metadata": {},
     "output_type": "execute_result"
    }
   ],
   "source": [
    "# let's load the data set\n",
    "\n",
    "data = pd.read_csv('https://raw.githubusercontent.com/univai-ghf/FeatureProcessingAndSelectionWorkshop/main/Data/creditApprovalUCI.csv')\n",
    "data.dropna(inplace=True)\n",
    "data.head()"
   ]
  },
  {
   "cell_type": "code",
   "execution_count": 3,
   "id": "695218be",
   "metadata": {},
   "outputs": [],
   "source": [
    "# make a list with the categorical variables\n",
    "\n",
    "vars_categorical = ['A1', 'A4', 'A5', 'A6', 'A7', 'A9', 'A10', 'A12', 'A13']"
   ]
  },
  {
   "cell_type": "code",
   "execution_count": 4,
   "id": "913fcda6",
   "metadata": {},
   "outputs": [
    {
     "data": {
      "text/plain": [
       "((483, 15), (207, 15))"
      ]
     },
     "execution_count": 4,
     "metadata": {},
     "output_type": "execute_result"
    }
   ],
   "source": [
    "# let's separate into training and testing set\n",
    "\n",
    "X_train, X_test, y_train, y_test = train_test_split(\n",
    "    data.drop(labels=['A16'], axis=1),  # predictors\n",
    "    data['A16'],  # target\n",
    "    test_size=0.3,  # percentage of obs in test set\n",
    "    random_state=0)  # seed to ensure reproducibility\n",
    "\n",
    "X_train.shape, X_test.shape"
   ]
  },
  {
   "cell_type": "markdown",
   "id": "dd6085fe",
   "metadata": {},
   "source": [
    "## One Hot Encoding of top categories with pandas"
   ]
  },
  {
   "cell_type": "code",
   "execution_count": 5,
   "id": "c82826d1",
   "metadata": {},
   "outputs": [
    {
     "data": {
      "text/plain": [
       "array(['c', 'q', 'w', 'ff', 'm', 'i', 'e', 'cc', 'x', 'd', 'k', 'j',\n",
       "       'Missing', 'aa', 'r'], dtype=object)"
      ]
     },
     "execution_count": 5,
     "metadata": {},
     "output_type": "execute_result"
    }
   ],
   "source": [
    "# let's inspect the unique categories of A6\n",
    "\n",
    "X_train['A6'].unique()"
   ]
  },
  {
   "cell_type": "code",
   "execution_count": 6,
   "id": "6f4e95dc",
   "metadata": {
    "scrolled": true
   },
   "outputs": [
    {
     "data": {
      "text/plain": [
       "c    93\n",
       "q    56\n",
       "w    48\n",
       "i    41\n",
       "k    38\n",
       "Name: A6, dtype: int64"
      ]
     },
     "execution_count": 6,
     "metadata": {},
     "output_type": "execute_result"
    }
   ],
   "source": [
    "# let's find the top 5 most frequent categories in A6\n",
    "\n",
    "X_train['A6'].value_counts().sort_values(ascending=False).head(5)"
   ]
  },
  {
   "cell_type": "code",
   "execution_count": 7,
   "id": "cd660b29",
   "metadata": {},
   "outputs": [
    {
     "data": {
      "text/plain": [
       "['c', 'q', 'w', 'i', 'k']"
      ]
     },
     "execution_count": 7,
     "metadata": {},
     "output_type": "execute_result"
    }
   ],
   "source": [
    "# let's make a list with the most frequent categories in A6\n",
    "\n",
    "top_5 = [\n",
    "    x for x in X_train['A6'].value_counts().sort_values(\n",
    "        ascending=False).head(5).index\n",
    "]\n",
    "\n",
    "top_5"
   ]
  },
  {
   "cell_type": "code",
   "execution_count": 8,
   "id": "56d206ba",
   "metadata": {},
   "outputs": [],
   "source": [
    "# and now let's create 5 binary variables to encode A6\n",
    "# in train and test sets\n",
    "\n",
    "for label in top_5:\n",
    "    X_train['A6' + '_' + label] = np.where(\n",
    "        X_train['A6'] == label, 1, 0)\n",
    "    \n",
    "    X_test['A6' + '_' + label] = np.where(\n",
    "        X_test['A6'] == label, 1, 0)"
   ]
  },
  {
   "cell_type": "code",
   "execution_count": 9,
   "id": "c9831926",
   "metadata": {},
   "outputs": [
    {
     "name": "stdout",
     "output_type": "stream",
     "text": [
      "     A6  A6_c  A6_q  A6_w  A6_i  A6_k\n",
      "596   c     1     0     0     0     0\n",
      "303   q     0     1     0     0     0\n",
      "204   w     0     0     1     0     0\n",
      "351  ff     0     0     0     0     0\n",
      "118   m     0     0     0     0     0\n",
      "247   q     0     1     0     0     0\n",
      "652   i     0     0     0     1     0\n",
      "513   e     0     0     0     0     0\n",
      "230  cc     0     0     0     0     0\n",
      "250   e     0     0     0     0     0\n"
     ]
    }
   ],
   "source": [
    "# let's visualise the result\n",
    "\n",
    "print(X_train[['A6'] + ['A6'+'_'+c for c in top_5]].head(10))"
   ]
  },
  {
   "cell_type": "markdown",
   "id": "453bf3ef",
   "metadata": {},
   "source": [
    "## One Hot Encoding of top categories with Feature-Engine"
   ]
  },
  {
   "cell_type": "code",
   "execution_count": 10,
   "id": "b2d32ce2",
   "metadata": {},
   "outputs": [],
   "source": [
    "# let's divide in train and test sets (again)\n",
    "\n",
    "X_train, X_test, y_train, y_test = train_test_split(\n",
    "    data.drop(labels=['A16'], axis=1),  # predictors\n",
    "    data['A16'],  # target\n",
    "    test_size=0.3,  # percentage of obs in test set\n",
    "    random_state=0)  # seed to ensure reproducibility"
   ]
  },
  {
   "cell_type": "code",
   "execution_count": 11,
   "id": "2476fcca",
   "metadata": {},
   "outputs": [
    {
     "data": {
      "text/plain": [
       "OneHotCategoricalEncoder(drop_last=False, top_categories=5,\n",
       "                         variables=['A6', 'A7'])"
      ]
     },
     "execution_count": 11,
     "metadata": {},
     "output_type": "execute_result"
    }
   ],
   "source": [
    "ohe_enc = OneHotCategoricalEncoder(\n",
    "    \n",
    "    # to indicate how many top categories\n",
    "    top_categories=5,  \n",
    "    \n",
    "    # we can select which variables to encode\n",
    "    variables=['A6', 'A7'],\n",
    "    \n",
    "    # to indicate if we drop one of the binaries\n",
    "    drop_last=False)\n",
    "\n",
    "ohe_enc.fit(X_train)"
   ]
  },
  {
   "cell_type": "code",
   "execution_count": 12,
   "id": "abf961ab",
   "metadata": {},
   "outputs": [
    {
     "data": {
      "text/plain": [
       "['A6', 'A7']"
      ]
     },
     "execution_count": 12,
     "metadata": {},
     "output_type": "execute_result"
    }
   ],
   "source": [
    "# the encoder stores the variables it will encode\n",
    "\n",
    "ohe_enc.variables"
   ]
  },
  {
   "cell_type": "code",
   "execution_count": 13,
   "id": "d7660d1e",
   "metadata": {},
   "outputs": [
    {
     "data": {
      "text/plain": [
       "{'A6': ['c', 'q', 'w', 'i', 'k'], 'A7': ['v', 'h', 'ff', 'bb', 'z']}"
      ]
     },
     "execution_count": 13,
     "metadata": {},
     "output_type": "execute_result"
    }
   ],
   "source": [
    "# the encoder stores the most frequent labels per variable\n",
    "\n",
    "ohe_enc.encoder_dict_"
   ]
  },
  {
   "cell_type": "code",
   "execution_count": 14,
   "id": "73fb0d70",
   "metadata": {},
   "outputs": [
    {
     "name": "stderr",
     "output_type": "stream",
     "text": [
      "C:\\Users\\Sole\\Anaconda3\\envs\\feml\\lib\\site-packages\\sklearn\\utils\\validation.py:933: FutureWarning: Passing attributes to check_is_fitted is deprecated and will be removed in 0.23. The attributes argument is ignored.\n",
      "  \"argument is ignored.\", FutureWarning)\n"
     ]
    }
   ],
   "source": [
    "# let's transform train and test sets\n",
    "\n",
    "X_train_enc = ohe_enc.transform(X_train)\n",
    "X_test_enc = ohe_enc.transform(X_test)"
   ]
  },
  {
   "cell_type": "code",
   "execution_count": 15,
   "id": "9310c2e2",
   "metadata": {},
   "outputs": [
    {
     "data": {
      "text/html": [
       "<div>\n",
       "<style scoped>\n",
       "    .dataframe tbody tr th:only-of-type {\n",
       "        vertical-align: middle;\n",
       "    }\n",
       "\n",
       "    .dataframe tbody tr th {\n",
       "        vertical-align: top;\n",
       "    }\n",
       "\n",
       "    .dataframe thead th {\n",
       "        text-align: right;\n",
       "    }\n",
       "</style>\n",
       "<table border=\"1\" class=\"dataframe\">\n",
       "  <thead>\n",
       "    <tr style=\"text-align: right;\">\n",
       "      <th></th>\n",
       "      <th>A1</th>\n",
       "      <th>A2</th>\n",
       "      <th>A3</th>\n",
       "      <th>A4</th>\n",
       "      <th>A5</th>\n",
       "      <th>A8</th>\n",
       "      <th>A9</th>\n",
       "      <th>A10</th>\n",
       "      <th>A11</th>\n",
       "      <th>A12</th>\n",
       "      <th>...</th>\n",
       "      <th>A6_c</th>\n",
       "      <th>A6_q</th>\n",
       "      <th>A6_w</th>\n",
       "      <th>A6_i</th>\n",
       "      <th>A6_k</th>\n",
       "      <th>A7_v</th>\n",
       "      <th>A7_h</th>\n",
       "      <th>A7_ff</th>\n",
       "      <th>A7_bb</th>\n",
       "      <th>A7_z</th>\n",
       "    </tr>\n",
       "  </thead>\n",
       "  <tbody>\n",
       "    <tr>\n",
       "      <td>596</td>\n",
       "      <td>a</td>\n",
       "      <td>46.08</td>\n",
       "      <td>3.000</td>\n",
       "      <td>u</td>\n",
       "      <td>g</td>\n",
       "      <td>2.375</td>\n",
       "      <td>t</td>\n",
       "      <td>t</td>\n",
       "      <td>8</td>\n",
       "      <td>t</td>\n",
       "      <td>...</td>\n",
       "      <td>1</td>\n",
       "      <td>0</td>\n",
       "      <td>0</td>\n",
       "      <td>0</td>\n",
       "      <td>0</td>\n",
       "      <td>1</td>\n",
       "      <td>0</td>\n",
       "      <td>0</td>\n",
       "      <td>0</td>\n",
       "      <td>0</td>\n",
       "    </tr>\n",
       "    <tr>\n",
       "      <td>303</td>\n",
       "      <td>a</td>\n",
       "      <td>15.92</td>\n",
       "      <td>2.875</td>\n",
       "      <td>u</td>\n",
       "      <td>g</td>\n",
       "      <td>0.085</td>\n",
       "      <td>f</td>\n",
       "      <td>f</td>\n",
       "      <td>0</td>\n",
       "      <td>f</td>\n",
       "      <td>...</td>\n",
       "      <td>0</td>\n",
       "      <td>1</td>\n",
       "      <td>0</td>\n",
       "      <td>0</td>\n",
       "      <td>0</td>\n",
       "      <td>1</td>\n",
       "      <td>0</td>\n",
       "      <td>0</td>\n",
       "      <td>0</td>\n",
       "      <td>0</td>\n",
       "    </tr>\n",
       "    <tr>\n",
       "      <td>204</td>\n",
       "      <td>b</td>\n",
       "      <td>36.33</td>\n",
       "      <td>2.125</td>\n",
       "      <td>y</td>\n",
       "      <td>p</td>\n",
       "      <td>0.085</td>\n",
       "      <td>t</td>\n",
       "      <td>t</td>\n",
       "      <td>1</td>\n",
       "      <td>f</td>\n",
       "      <td>...</td>\n",
       "      <td>0</td>\n",
       "      <td>0</td>\n",
       "      <td>1</td>\n",
       "      <td>0</td>\n",
       "      <td>0</td>\n",
       "      <td>1</td>\n",
       "      <td>0</td>\n",
       "      <td>0</td>\n",
       "      <td>0</td>\n",
       "      <td>0</td>\n",
       "    </tr>\n",
       "    <tr>\n",
       "      <td>351</td>\n",
       "      <td>b</td>\n",
       "      <td>22.17</td>\n",
       "      <td>0.585</td>\n",
       "      <td>y</td>\n",
       "      <td>p</td>\n",
       "      <td>0.000</td>\n",
       "      <td>f</td>\n",
       "      <td>f</td>\n",
       "      <td>0</td>\n",
       "      <td>f</td>\n",
       "      <td>...</td>\n",
       "      <td>0</td>\n",
       "      <td>0</td>\n",
       "      <td>0</td>\n",
       "      <td>0</td>\n",
       "      <td>0</td>\n",
       "      <td>0</td>\n",
       "      <td>0</td>\n",
       "      <td>1</td>\n",
       "      <td>0</td>\n",
       "      <td>0</td>\n",
       "    </tr>\n",
       "    <tr>\n",
       "      <td>118</td>\n",
       "      <td>b</td>\n",
       "      <td>57.83</td>\n",
       "      <td>7.040</td>\n",
       "      <td>u</td>\n",
       "      <td>g</td>\n",
       "      <td>14.000</td>\n",
       "      <td>t</td>\n",
       "      <td>t</td>\n",
       "      <td>6</td>\n",
       "      <td>t</td>\n",
       "      <td>...</td>\n",
       "      <td>0</td>\n",
       "      <td>0</td>\n",
       "      <td>0</td>\n",
       "      <td>0</td>\n",
       "      <td>0</td>\n",
       "      <td>1</td>\n",
       "      <td>0</td>\n",
       "      <td>0</td>\n",
       "      <td>0</td>\n",
       "      <td>0</td>\n",
       "    </tr>\n",
       "  </tbody>\n",
       "</table>\n",
       "<p>5 rows × 23 columns</p>\n",
       "</div>"
      ],
      "text/plain": [
       "    A1     A2     A3 A4 A5      A8 A9 A10  A11 A12  ... A6_c  A6_q  A6_w  \\\n",
       "596  a  46.08  3.000  u  g   2.375  t   t    8   t  ...    1     0     0   \n",
       "303  a  15.92  2.875  u  g   0.085  f   f    0   f  ...    0     1     0   \n",
       "204  b  36.33  2.125  y  p   0.085  t   t    1   f  ...    0     0     1   \n",
       "351  b  22.17  0.585  y  p   0.000  f   f    0   f  ...    0     0     0   \n",
       "118  b  57.83  7.040  u  g  14.000  t   t    6   t  ...    0     0     0   \n",
       "\n",
       "     A6_i  A6_k  A7_v  A7_h  A7_ff  A7_bb  A7_z  \n",
       "596     0     0     1     0      0      0     0  \n",
       "303     0     0     1     0      0      0     0  \n",
       "204     0     0     1     0      0      0     0  \n",
       "351     0     0     0     0      1      0     0  \n",
       "118     0     0     1     0      0      0     0  \n",
       "\n",
       "[5 rows x 23 columns]"
      ]
     },
     "execution_count": 15,
     "metadata": {},
     "output_type": "execute_result"
    }
   ],
   "source": [
    "# let's inspect the result\n",
    "\n",
    "X_train_enc.head()"
   ]
  },
  {
   "cell_type": "code",
   "execution_count": 16,
   "id": "3ccf0625",
   "metadata": {},
   "outputs": [
    {
     "data": {
      "text/html": [
       "<div>\n",
       "<style scoped>\n",
       "    .dataframe tbody tr th:only-of-type {\n",
       "        vertical-align: middle;\n",
       "    }\n",
       "\n",
       "    .dataframe tbody tr th {\n",
       "        vertical-align: top;\n",
       "    }\n",
       "\n",
       "    .dataframe thead th {\n",
       "        text-align: right;\n",
       "    }\n",
       "</style>\n",
       "<table border=\"1\" class=\"dataframe\">\n",
       "  <thead>\n",
       "    <tr style=\"text-align: right;\">\n",
       "      <th></th>\n",
       "      <th>A1</th>\n",
       "      <th>A2</th>\n",
       "      <th>A3</th>\n",
       "      <th>A4</th>\n",
       "      <th>A5</th>\n",
       "      <th>A8</th>\n",
       "      <th>A9</th>\n",
       "      <th>A10</th>\n",
       "      <th>A11</th>\n",
       "      <th>A12</th>\n",
       "      <th>...</th>\n",
       "      <th>A6_c</th>\n",
       "      <th>A6_q</th>\n",
       "      <th>A6_w</th>\n",
       "      <th>A6_i</th>\n",
       "      <th>A6_k</th>\n",
       "      <th>A7_v</th>\n",
       "      <th>A7_h</th>\n",
       "      <th>A7_ff</th>\n",
       "      <th>A7_bb</th>\n",
       "      <th>A7_z</th>\n",
       "    </tr>\n",
       "  </thead>\n",
       "  <tbody>\n",
       "    <tr>\n",
       "      <td>14</td>\n",
       "      <td>a</td>\n",
       "      <td>45.83</td>\n",
       "      <td>10.50</td>\n",
       "      <td>u</td>\n",
       "      <td>g</td>\n",
       "      <td>5.000</td>\n",
       "      <td>t</td>\n",
       "      <td>t</td>\n",
       "      <td>7</td>\n",
       "      <td>t</td>\n",
       "      <td>...</td>\n",
       "      <td>0</td>\n",
       "      <td>1</td>\n",
       "      <td>0</td>\n",
       "      <td>0</td>\n",
       "      <td>0</td>\n",
       "      <td>1</td>\n",
       "      <td>0</td>\n",
       "      <td>0</td>\n",
       "      <td>0</td>\n",
       "      <td>0</td>\n",
       "    </tr>\n",
       "    <tr>\n",
       "      <td>586</td>\n",
       "      <td>b</td>\n",
       "      <td>64.08</td>\n",
       "      <td>20.00</td>\n",
       "      <td>u</td>\n",
       "      <td>g</td>\n",
       "      <td>17.500</td>\n",
       "      <td>t</td>\n",
       "      <td>t</td>\n",
       "      <td>9</td>\n",
       "      <td>t</td>\n",
       "      <td>...</td>\n",
       "      <td>0</td>\n",
       "      <td>0</td>\n",
       "      <td>0</td>\n",
       "      <td>0</td>\n",
       "      <td>0</td>\n",
       "      <td>0</td>\n",
       "      <td>1</td>\n",
       "      <td>0</td>\n",
       "      <td>0</td>\n",
       "      <td>0</td>\n",
       "    </tr>\n",
       "    <tr>\n",
       "      <td>140</td>\n",
       "      <td>a</td>\n",
       "      <td>31.25</td>\n",
       "      <td>3.75</td>\n",
       "      <td>u</td>\n",
       "      <td>g</td>\n",
       "      <td>0.625</td>\n",
       "      <td>t</td>\n",
       "      <td>t</td>\n",
       "      <td>9</td>\n",
       "      <td>t</td>\n",
       "      <td>...</td>\n",
       "      <td>0</td>\n",
       "      <td>0</td>\n",
       "      <td>0</td>\n",
       "      <td>0</td>\n",
       "      <td>0</td>\n",
       "      <td>0</td>\n",
       "      <td>1</td>\n",
       "      <td>0</td>\n",
       "      <td>0</td>\n",
       "      <td>0</td>\n",
       "    </tr>\n",
       "    <tr>\n",
       "      <td>492</td>\n",
       "      <td>b</td>\n",
       "      <td>39.25</td>\n",
       "      <td>9.50</td>\n",
       "      <td>u</td>\n",
       "      <td>g</td>\n",
       "      <td>6.500</td>\n",
       "      <td>t</td>\n",
       "      <td>t</td>\n",
       "      <td>14</td>\n",
       "      <td>f</td>\n",
       "      <td>...</td>\n",
       "      <td>0</td>\n",
       "      <td>0</td>\n",
       "      <td>0</td>\n",
       "      <td>0</td>\n",
       "      <td>0</td>\n",
       "      <td>1</td>\n",
       "      <td>0</td>\n",
       "      <td>0</td>\n",
       "      <td>0</td>\n",
       "      <td>0</td>\n",
       "    </tr>\n",
       "    <tr>\n",
       "      <td>350</td>\n",
       "      <td>a</td>\n",
       "      <td>26.17</td>\n",
       "      <td>2.00</td>\n",
       "      <td>u</td>\n",
       "      <td>g</td>\n",
       "      <td>0.000</td>\n",
       "      <td>f</td>\n",
       "      <td>f</td>\n",
       "      <td>0</td>\n",
       "      <td>t</td>\n",
       "      <td>...</td>\n",
       "      <td>0</td>\n",
       "      <td>0</td>\n",
       "      <td>0</td>\n",
       "      <td>0</td>\n",
       "      <td>0</td>\n",
       "      <td>0</td>\n",
       "      <td>0</td>\n",
       "      <td>0</td>\n",
       "      <td>0</td>\n",
       "      <td>0</td>\n",
       "    </tr>\n",
       "  </tbody>\n",
       "</table>\n",
       "<p>5 rows × 23 columns</p>\n",
       "</div>"
      ],
      "text/plain": [
       "    A1     A2     A3 A4 A5      A8 A9 A10  A11 A12  ... A6_c  A6_q  A6_w  \\\n",
       "14   a  45.83  10.50  u  g   5.000  t   t    7   t  ...    0     1     0   \n",
       "586  b  64.08  20.00  u  g  17.500  t   t    9   t  ...    0     0     0   \n",
       "140  a  31.25   3.75  u  g   0.625  t   t    9   t  ...    0     0     0   \n",
       "492  b  39.25   9.50  u  g   6.500  t   t   14   f  ...    0     0     0   \n",
       "350  a  26.17   2.00  u  g   0.000  f   f    0   t  ...    0     0     0   \n",
       "\n",
       "     A6_i  A6_k  A7_v  A7_h  A7_ff  A7_bb  A7_z  \n",
       "14      0     0     1     0      0      0     0  \n",
       "586     0     0     0     1      0      0     0  \n",
       "140     0     0     0     1      0      0     0  \n",
       "492     0     0     1     0      0      0     0  \n",
       "350     0     0     0     0      0      0     0  \n",
       "\n",
       "[5 rows x 23 columns]"
      ]
     },
     "execution_count": 16,
     "metadata": {},
     "output_type": "execute_result"
    }
   ],
   "source": [
    "X_test_enc.head()"
   ]
  },
  {
   "cell_type": "markdown",
   "id": "27d4cd73",
   "metadata": {},
   "source": [
    "# Replacing Categories by Ordinal Numbers"
   ]
  },
  {
   "cell_type": "code",
   "execution_count": 2,
   "id": "0ab910b5",
   "metadata": {},
   "outputs": [
    {
     "data": {
      "text/html": [
       "<div>\n",
       "<style scoped>\n",
       "    .dataframe tbody tr th:only-of-type {\n",
       "        vertical-align: middle;\n",
       "    }\n",
       "\n",
       "    .dataframe tbody tr th {\n",
       "        vertical-align: top;\n",
       "    }\n",
       "\n",
       "    .dataframe thead th {\n",
       "        text-align: right;\n",
       "    }\n",
       "</style>\n",
       "<table border=\"1\" class=\"dataframe\">\n",
       "  <thead>\n",
       "    <tr style=\"text-align: right;\">\n",
       "      <th></th>\n",
       "      <th>A1</th>\n",
       "      <th>A2</th>\n",
       "      <th>A3</th>\n",
       "      <th>A4</th>\n",
       "      <th>A5</th>\n",
       "      <th>A6</th>\n",
       "      <th>A7</th>\n",
       "      <th>A8</th>\n",
       "      <th>A9</th>\n",
       "      <th>A10</th>\n",
       "      <th>A11</th>\n",
       "      <th>A12</th>\n",
       "      <th>A13</th>\n",
       "      <th>A14</th>\n",
       "      <th>A15</th>\n",
       "      <th>A16</th>\n",
       "    </tr>\n",
       "  </thead>\n",
       "  <tbody>\n",
       "    <tr>\n",
       "      <td>0</td>\n",
       "      <td>b</td>\n",
       "      <td>30.83</td>\n",
       "      <td>0.000</td>\n",
       "      <td>u</td>\n",
       "      <td>g</td>\n",
       "      <td>w</td>\n",
       "      <td>v</td>\n",
       "      <td>1.25</td>\n",
       "      <td>t</td>\n",
       "      <td>t</td>\n",
       "      <td>1</td>\n",
       "      <td>f</td>\n",
       "      <td>g</td>\n",
       "      <td>202.0</td>\n",
       "      <td>0</td>\n",
       "      <td>1</td>\n",
       "    </tr>\n",
       "    <tr>\n",
       "      <td>1</td>\n",
       "      <td>a</td>\n",
       "      <td>58.67</td>\n",
       "      <td>4.460</td>\n",
       "      <td>u</td>\n",
       "      <td>g</td>\n",
       "      <td>q</td>\n",
       "      <td>h</td>\n",
       "      <td>3.04</td>\n",
       "      <td>t</td>\n",
       "      <td>t</td>\n",
       "      <td>6</td>\n",
       "      <td>f</td>\n",
       "      <td>g</td>\n",
       "      <td>43.0</td>\n",
       "      <td>560</td>\n",
       "      <td>1</td>\n",
       "    </tr>\n",
       "    <tr>\n",
       "      <td>2</td>\n",
       "      <td>a</td>\n",
       "      <td>24.50</td>\n",
       "      <td>0.500</td>\n",
       "      <td>u</td>\n",
       "      <td>g</td>\n",
       "      <td>q</td>\n",
       "      <td>h</td>\n",
       "      <td>1.50</td>\n",
       "      <td>t</td>\n",
       "      <td>f</td>\n",
       "      <td>0</td>\n",
       "      <td>f</td>\n",
       "      <td>g</td>\n",
       "      <td>280.0</td>\n",
       "      <td>824</td>\n",
       "      <td>1</td>\n",
       "    </tr>\n",
       "    <tr>\n",
       "      <td>3</td>\n",
       "      <td>b</td>\n",
       "      <td>27.83</td>\n",
       "      <td>1.540</td>\n",
       "      <td>u</td>\n",
       "      <td>g</td>\n",
       "      <td>w</td>\n",
       "      <td>v</td>\n",
       "      <td>3.75</td>\n",
       "      <td>t</td>\n",
       "      <td>t</td>\n",
       "      <td>5</td>\n",
       "      <td>t</td>\n",
       "      <td>g</td>\n",
       "      <td>100.0</td>\n",
       "      <td>3</td>\n",
       "      <td>1</td>\n",
       "    </tr>\n",
       "    <tr>\n",
       "      <td>4</td>\n",
       "      <td>b</td>\n",
       "      <td>20.17</td>\n",
       "      <td>5.625</td>\n",
       "      <td>u</td>\n",
       "      <td>g</td>\n",
       "      <td>w</td>\n",
       "      <td>v</td>\n",
       "      <td>1.71</td>\n",
       "      <td>t</td>\n",
       "      <td>f</td>\n",
       "      <td>0</td>\n",
       "      <td>f</td>\n",
       "      <td>s</td>\n",
       "      <td>120.0</td>\n",
       "      <td>0</td>\n",
       "      <td>1</td>\n",
       "    </tr>\n",
       "  </tbody>\n",
       "</table>\n",
       "</div>"
      ],
      "text/plain": [
       "  A1     A2     A3 A4 A5 A6 A7    A8 A9 A10  A11 A12 A13    A14  A15  A16\n",
       "0  b  30.83  0.000  u  g  w  v  1.25  t   t    1   f   g  202.0    0    1\n",
       "1  a  58.67  4.460  u  g  q  h  3.04  t   t    6   f   g   43.0  560    1\n",
       "2  a  24.50  0.500  u  g  q  h  1.50  t   f    0   f   g  280.0  824    1\n",
       "3  b  27.83  1.540  u  g  w  v  3.75  t   t    5   t   g  100.0    3    1\n",
       "4  b  20.17  5.625  u  g  w  v  1.71  t   f    0   f   s  120.0    0    1"
      ]
     },
     "execution_count": 2,
     "metadata": {},
     "output_type": "execute_result"
    }
   ],
   "source": [
    "data = pd.read_csv('https://raw.githubusercontent.com/univai-ghf/FeatureProcessingAndSelectionWorkshop/main/Data/creditApprovalUCI.csv')\n",
    "data.dropna(inplace=True)\n",
    "data.head()"
   ]
  },
  {
   "cell_type": "code",
   "execution_count": 3,
   "id": "e7870a13",
   "metadata": {},
   "outputs": [],
   "source": [
    "# make a list with the categorical variables\n",
    "\n",
    "vars_categorical = ['A1', 'A4', 'A5', 'A6', 'A7', 'A9', 'A10', 'A12', 'A13']"
   ]
  },
  {
   "cell_type": "code",
   "execution_count": 4,
   "id": "cd49d2c6",
   "metadata": {},
   "outputs": [
    {
     "data": {
      "text/plain": [
       "((483, 15), (207, 15))"
      ]
     },
     "execution_count": 4,
     "metadata": {},
     "output_type": "execute_result"
    }
   ],
   "source": [
    "# let's separate into training and testing set\n",
    "\n",
    "X_train, X_test, y_train, y_test = train_test_split(\n",
    "    data.drop(labels=['A16'], axis=1),  # predictors\n",
    "    data['A16'],  # target\n",
    "    test_size=0.3,  # percentage of obs in test set\n",
    "    random_state=0)  # seed to ensure reproducibility\n",
    "\n",
    "X_train.shape, X_test.shape"
   ]
  },
  {
   "cell_type": "markdown",
   "id": "9c4acaa1",
   "metadata": {},
   "source": [
    "## Ordinal encoding with pandas"
   ]
  },
  {
   "cell_type": "code",
   "execution_count": 5,
   "id": "f83a0146",
   "metadata": {},
   "outputs": [
    {
     "data": {
      "text/plain": [
       "{'v': 0,\n",
       " 'ff': 1,\n",
       " 'h': 2,\n",
       " 'dd': 3,\n",
       " 'z': 4,\n",
       " 'bb': 5,\n",
       " 'j': 6,\n",
       " 'Missing': 7,\n",
       " 'n': 8,\n",
       " 'o': 9}"
      ]
     },
     "execution_count": 5,
     "metadata": {},
     "output_type": "execute_result"
    }
   ],
   "source": [
    "# let's create a dictionary with the mappings of categories to numbers for A7\n",
    "\n",
    "ordinal_mapping = {\n",
    "    k: i\n",
    "    for i, k in enumerate(X_train['A7'].unique(), 0)\n",
    "}\n",
    "\n",
    "ordinal_mapping"
   ]
  },
  {
   "cell_type": "code",
   "execution_count": 6,
   "id": "8958e2a4",
   "metadata": {
    "scrolled": true
   },
   "outputs": [],
   "source": [
    "# replace the labels with the integers\n",
    "\n",
    "X_train['A7'] = X_train['A7'].map(ordinal_mapping)\n",
    "X_test['A7'] = X_test['A7'].map(ordinal_mapping)"
   ]
  },
  {
   "cell_type": "code",
   "execution_count": 7,
   "id": "2f77e756",
   "metadata": {},
   "outputs": [
    {
     "data": {
      "text/plain": [
       "596    0\n",
       "303    0\n",
       "204    0\n",
       "351    1\n",
       "118    0\n",
       "247    2\n",
       "652    0\n",
       "513    3\n",
       "230    0\n",
       "250    4\n",
       "Name: A7, dtype: int64"
      ]
     },
     "execution_count": 7,
     "metadata": {},
     "output_type": "execute_result"
    }
   ],
   "source": [
    "# let's explore the result\n",
    "\n",
    "X_train['A7'].head(10)"
   ]
  },
  {
   "cell_type": "markdown",
   "id": "48353c23",
   "metadata": {},
   "source": [
    "### Putting the code in a function"
   ]
  },
  {
   "cell_type": "code",
   "execution_count": 8,
   "id": "5eaef03c",
   "metadata": {},
   "outputs": [],
   "source": [
    "# we can turn the previous commands into 2 functions\n",
    "\n",
    "def find_category_mappings(df, variable):\n",
    "    return {k: i for i, k in enumerate(df[variable].unique(), 0)}\n",
    "\n",
    "\n",
    "def integer_encode(train, test, variable, ordinal_mapping):\n",
    "\n",
    "    X_train[variable] = X_train[variable].map(ordinal_mapping)\n",
    "    X_test[variable] = X_test[variable].map(ordinal_mapping)"
   ]
  },
  {
   "cell_type": "code",
   "execution_count": 9,
   "id": "ba8ad908",
   "metadata": {},
   "outputs": [],
   "source": [
    "# and now we run a loop over the remaining categorical variables\n",
    "# and encode them to numbers\n",
    "\n",
    "for variable in vars_categorical:\n",
    "    \n",
    "    if variable != 'A7':  # we encoded this one already\n",
    "        \n",
    "        mappings = find_category_mappings(X_train, variable)\n",
    "        \n",
    "        integer_encode(X_train, X_test, variable, mappings)"
   ]
  },
  {
   "cell_type": "code",
   "execution_count": 10,
   "id": "fa2469d5",
   "metadata": {},
   "outputs": [
    {
     "data": {
      "text/html": [
       "<div>\n",
       "<style scoped>\n",
       "    .dataframe tbody tr th:only-of-type {\n",
       "        vertical-align: middle;\n",
       "    }\n",
       "\n",
       "    .dataframe tbody tr th {\n",
       "        vertical-align: top;\n",
       "    }\n",
       "\n",
       "    .dataframe thead th {\n",
       "        text-align: right;\n",
       "    }\n",
       "</style>\n",
       "<table border=\"1\" class=\"dataframe\">\n",
       "  <thead>\n",
       "    <tr style=\"text-align: right;\">\n",
       "      <th></th>\n",
       "      <th>A1</th>\n",
       "      <th>A4</th>\n",
       "      <th>A5</th>\n",
       "      <th>A6</th>\n",
       "      <th>A7</th>\n",
       "      <th>A9</th>\n",
       "      <th>A10</th>\n",
       "      <th>A12</th>\n",
       "      <th>A13</th>\n",
       "    </tr>\n",
       "  </thead>\n",
       "  <tbody>\n",
       "    <tr>\n",
       "      <td>596</td>\n",
       "      <td>0</td>\n",
       "      <td>0</td>\n",
       "      <td>0</td>\n",
       "      <td>0</td>\n",
       "      <td>0</td>\n",
       "      <td>0</td>\n",
       "      <td>0</td>\n",
       "      <td>0</td>\n",
       "      <td>0</td>\n",
       "    </tr>\n",
       "    <tr>\n",
       "      <td>303</td>\n",
       "      <td>0</td>\n",
       "      <td>0</td>\n",
       "      <td>0</td>\n",
       "      <td>1</td>\n",
       "      <td>0</td>\n",
       "      <td>1</td>\n",
       "      <td>1</td>\n",
       "      <td>1</td>\n",
       "      <td>0</td>\n",
       "    </tr>\n",
       "    <tr>\n",
       "      <td>204</td>\n",
       "      <td>1</td>\n",
       "      <td>1</td>\n",
       "      <td>1</td>\n",
       "      <td>2</td>\n",
       "      <td>0</td>\n",
       "      <td>0</td>\n",
       "      <td>0</td>\n",
       "      <td>1</td>\n",
       "      <td>0</td>\n",
       "    </tr>\n",
       "    <tr>\n",
       "      <td>351</td>\n",
       "      <td>1</td>\n",
       "      <td>1</td>\n",
       "      <td>1</td>\n",
       "      <td>3</td>\n",
       "      <td>1</td>\n",
       "      <td>1</td>\n",
       "      <td>1</td>\n",
       "      <td>1</td>\n",
       "      <td>0</td>\n",
       "    </tr>\n",
       "    <tr>\n",
       "      <td>118</td>\n",
       "      <td>1</td>\n",
       "      <td>0</td>\n",
       "      <td>0</td>\n",
       "      <td>4</td>\n",
       "      <td>0</td>\n",
       "      <td>0</td>\n",
       "      <td>0</td>\n",
       "      <td>0</td>\n",
       "      <td>0</td>\n",
       "    </tr>\n",
       "  </tbody>\n",
       "</table>\n",
       "</div>"
      ],
      "text/plain": [
       "     A1  A4  A5  A6  A7  A9  A10  A12  A13\n",
       "596   0   0   0   0   0   0    0    0    0\n",
       "303   0   0   0   1   0   1    1    1    0\n",
       "204   1   1   1   2   0   0    0    1    0\n",
       "351   1   1   1   3   1   1    1    1    0\n",
       "118   1   0   0   4   0   0    0    0    0"
      ]
     },
     "execution_count": 10,
     "metadata": {},
     "output_type": "execute_result"
    }
   ],
   "source": [
    "# let's inspect the results\n",
    "\n",
    "X_train[vars_categorical].head()"
   ]
  },
  {
   "cell_type": "markdown",
   "id": "123d4d08",
   "metadata": {},
   "source": [
    "## Ordinal encoding with Scikit-learn"
   ]
  },
  {
   "cell_type": "code",
   "execution_count": 11,
   "id": "4bdb70a2",
   "metadata": {},
   "outputs": [
    {
     "data": {
      "text/plain": [
       "((483, 15), (207, 15))"
      ]
     },
     "execution_count": 11,
     "metadata": {},
     "output_type": "execute_result"
    }
   ],
   "source": [
    "# let's separate into training and testing set\n",
    "\n",
    "X_train, X_test, y_train, y_test = train_test_split(\n",
    "    data.drop(labels=['A16'], axis=1),  # predictors\n",
    "    data['A16'],  # target\n",
    "    test_size=0.3,  # percentage of obs in test set\n",
    "    random_state=0)  # seed to ensure reproducibility\n",
    "\n",
    "X_train.shape, X_test.shape"
   ]
  },
  {
   "cell_type": "code",
   "execution_count": 12,
   "id": "def90224",
   "metadata": {},
   "outputs": [],
   "source": [
    "# let's create an encoder\n",
    "\n",
    "le = OrdinalEncoder()"
   ]
  },
  {
   "cell_type": "code",
   "execution_count": 13,
   "id": "753c460d",
   "metadata": {},
   "outputs": [
    {
     "data": {
      "text/plain": [
       "OrdinalEncoder(categories='auto', dtype=<class 'numpy.float64'>)"
      ]
     },
     "execution_count": 13,
     "metadata": {},
     "output_type": "execute_result"
    }
   ],
   "source": [
    "# let's fit the encoder to the train set\n",
    "le.fit(X_train[vars_categorical])"
   ]
  },
  {
   "cell_type": "code",
   "execution_count": 14,
   "id": "c523f508",
   "metadata": {},
   "outputs": [
    {
     "data": {
      "text/plain": [
       "[array(['Missing', 'a', 'b'], dtype=object),\n",
       " array(['Missing', 'l', 'u', 'y'], dtype=object),\n",
       " array(['Missing', 'g', 'gg', 'p'], dtype=object),\n",
       " array(['Missing', 'aa', 'c', 'cc', 'd', 'e', 'ff', 'i', 'j', 'k', 'm',\n",
       "        'q', 'r', 'w', 'x'], dtype=object),\n",
       " array(['Missing', 'bb', 'dd', 'ff', 'h', 'j', 'n', 'o', 'v', 'z'],\n",
       "       dtype=object),\n",
       " array(['f', 't'], dtype=object),\n",
       " array(['f', 't'], dtype=object),\n",
       " array(['f', 't'], dtype=object),\n",
       " array(['g', 'p', 's'], dtype=object)]"
      ]
     },
     "execution_count": 14,
     "metadata": {},
     "output_type": "execute_result"
    }
   ],
   "source": [
    "# we can see the unique classes\n",
    "\n",
    "le.categories_"
   ]
  },
  {
   "cell_type": "code",
   "execution_count": 15,
   "id": "9fced58d",
   "metadata": {},
   "outputs": [],
   "source": [
    "# let's transform train and test sets\n",
    "\n",
    "X_train_enc = le.transform(X_train[vars_categorical])\n",
    "X_test_enc = le.transform(X_test[vars_categorical])"
   ]
  },
  {
   "cell_type": "code",
   "execution_count": 16,
   "id": "396bc886",
   "metadata": {},
   "outputs": [
    {
     "data": {
      "text/html": [
       "<div>\n",
       "<style scoped>\n",
       "    .dataframe tbody tr th:only-of-type {\n",
       "        vertical-align: middle;\n",
       "    }\n",
       "\n",
       "    .dataframe tbody tr th {\n",
       "        vertical-align: top;\n",
       "    }\n",
       "\n",
       "    .dataframe thead th {\n",
       "        text-align: right;\n",
       "    }\n",
       "</style>\n",
       "<table border=\"1\" class=\"dataframe\">\n",
       "  <thead>\n",
       "    <tr style=\"text-align: right;\">\n",
       "      <th></th>\n",
       "      <th>A1</th>\n",
       "      <th>A4</th>\n",
       "      <th>A5</th>\n",
       "      <th>A6</th>\n",
       "      <th>A7</th>\n",
       "      <th>A9</th>\n",
       "      <th>A10</th>\n",
       "      <th>A12</th>\n",
       "      <th>A13</th>\n",
       "    </tr>\n",
       "  </thead>\n",
       "  <tbody>\n",
       "    <tr>\n",
       "      <td>0</td>\n",
       "      <td>1.0</td>\n",
       "      <td>2.0</td>\n",
       "      <td>1.0</td>\n",
       "      <td>2.0</td>\n",
       "      <td>8.0</td>\n",
       "      <td>1.0</td>\n",
       "      <td>1.0</td>\n",
       "      <td>1.0</td>\n",
       "      <td>0.0</td>\n",
       "    </tr>\n",
       "    <tr>\n",
       "      <td>1</td>\n",
       "      <td>1.0</td>\n",
       "      <td>2.0</td>\n",
       "      <td>1.0</td>\n",
       "      <td>11.0</td>\n",
       "      <td>8.0</td>\n",
       "      <td>0.0</td>\n",
       "      <td>0.0</td>\n",
       "      <td>0.0</td>\n",
       "      <td>0.0</td>\n",
       "    </tr>\n",
       "    <tr>\n",
       "      <td>2</td>\n",
       "      <td>2.0</td>\n",
       "      <td>3.0</td>\n",
       "      <td>3.0</td>\n",
       "      <td>13.0</td>\n",
       "      <td>8.0</td>\n",
       "      <td>1.0</td>\n",
       "      <td>1.0</td>\n",
       "      <td>0.0</td>\n",
       "      <td>0.0</td>\n",
       "    </tr>\n",
       "    <tr>\n",
       "      <td>3</td>\n",
       "      <td>2.0</td>\n",
       "      <td>3.0</td>\n",
       "      <td>3.0</td>\n",
       "      <td>6.0</td>\n",
       "      <td>3.0</td>\n",
       "      <td>0.0</td>\n",
       "      <td>0.0</td>\n",
       "      <td>0.0</td>\n",
       "      <td>0.0</td>\n",
       "    </tr>\n",
       "    <tr>\n",
       "      <td>4</td>\n",
       "      <td>2.0</td>\n",
       "      <td>2.0</td>\n",
       "      <td>1.0</td>\n",
       "      <td>10.0</td>\n",
       "      <td>8.0</td>\n",
       "      <td>1.0</td>\n",
       "      <td>1.0</td>\n",
       "      <td>1.0</td>\n",
       "      <td>0.0</td>\n",
       "    </tr>\n",
       "  </tbody>\n",
       "</table>\n",
       "</div>"
      ],
      "text/plain": [
       "    A1   A4   A5    A6   A7   A9  A10  A12  A13\n",
       "0  1.0  2.0  1.0   2.0  8.0  1.0  1.0  1.0  0.0\n",
       "1  1.0  2.0  1.0  11.0  8.0  0.0  0.0  0.0  0.0\n",
       "2  2.0  3.0  3.0  13.0  8.0  1.0  1.0  0.0  0.0\n",
       "3  2.0  3.0  3.0   6.0  3.0  0.0  0.0  0.0  0.0\n",
       "4  2.0  2.0  1.0  10.0  8.0  1.0  1.0  1.0  0.0"
      ]
     },
     "execution_count": 16,
     "metadata": {},
     "output_type": "execute_result"
    }
   ],
   "source": [
    "#let's inspect the result\n",
    "\n",
    "\n",
    "pd.DataFrame(X_train_enc, columns=vars_categorical).head()"
   ]
  },
  {
   "cell_type": "markdown",
   "id": "950624f4",
   "metadata": {},
   "source": [
    "## One hot encoding with Feature-Engine"
   ]
  },
  {
   "cell_type": "code",
   "execution_count": 17,
   "id": "939973ad",
   "metadata": {},
   "outputs": [],
   "source": [
    "# let's create the encoder\n",
    "\n",
    "ordinal_enc = OrdinalCategoricalEncoder(\n",
    "    encoding_method='arbitrary',\n",
    "    variables=vars_categorical)"
   ]
  },
  {
   "cell_type": "code",
   "execution_count": 18,
   "id": "6c2c79f5",
   "metadata": {},
   "outputs": [
    {
     "data": {
      "text/plain": [
       "OrdinalCategoricalEncoder(encoding_method='arbitrary',\n",
       "                          variables=['A1', 'A4', 'A5', 'A6', 'A7', 'A9', 'A10',\n",
       "                                     'A12', 'A13'])"
      ]
     },
     "execution_count": 18,
     "metadata": {},
     "output_type": "execute_result"
    }
   ],
   "source": [
    "# let's fit the encoder to the train set\n",
    "\n",
    "ordinal_enc.fit(X_train)"
   ]
  },
  {
   "cell_type": "code",
   "execution_count": 19,
   "id": "6a36495f",
   "metadata": {},
   "outputs": [
    {
     "data": {
      "text/plain": [
       "['A1', 'A4', 'A5', 'A6', 'A7', 'A9', 'A10', 'A12', 'A13']"
      ]
     },
     "execution_count": 19,
     "metadata": {},
     "output_type": "execute_result"
    }
   ],
   "source": [
    "# let's inspect which variables the encoder will encode\n",
    "\n",
    "ordinal_enc.variables"
   ]
  },
  {
   "cell_type": "code",
   "execution_count": 20,
   "id": "d96f1fb2",
   "metadata": {},
   "outputs": [
    {
     "data": {
      "text/plain": [
       "{'A1': {'a': 0, 'b': 1, 'Missing': 2},\n",
       " 'A4': {'u': 0, 'y': 1, 'Missing': 2, 'l': 3},\n",
       " 'A5': {'g': 0, 'p': 1, 'Missing': 2, 'gg': 3},\n",
       " 'A6': {'c': 0,\n",
       "  'q': 1,\n",
       "  'w': 2,\n",
       "  'ff': 3,\n",
       "  'm': 4,\n",
       "  'i': 5,\n",
       "  'e': 6,\n",
       "  'cc': 7,\n",
       "  'x': 8,\n",
       "  'd': 9,\n",
       "  'k': 10,\n",
       "  'j': 11,\n",
       "  'Missing': 12,\n",
       "  'aa': 13,\n",
       "  'r': 14},\n",
       " 'A7': {'v': 0,\n",
       "  'ff': 1,\n",
       "  'h': 2,\n",
       "  'dd': 3,\n",
       "  'z': 4,\n",
       "  'bb': 5,\n",
       "  'j': 6,\n",
       "  'Missing': 7,\n",
       "  'n': 8,\n",
       "  'o': 9},\n",
       " 'A9': {'t': 0, 'f': 1},\n",
       " 'A10': {'t': 0, 'f': 1},\n",
       " 'A12': {'t': 0, 'f': 1},\n",
       " 'A13': {'g': 0, 's': 1, 'p': 2}}"
      ]
     },
     "execution_count": 20,
     "metadata": {},
     "output_type": "execute_result"
    }
   ],
   "source": [
    "# in the encoder dict we can observe the numbers\n",
    "# assigned to each category for all the indicated variables\n",
    "\n",
    "ordinal_enc.encoder_dict_"
   ]
  },
  {
   "cell_type": "code",
   "execution_count": 21,
   "id": "d9f0e072",
   "metadata": {},
   "outputs": [
    {
     "name": "stderr",
     "output_type": "stream",
     "text": [
      "C:\\Users\\Sole\\Anaconda3\\envs\\feml\\lib\\site-packages\\sklearn\\utils\\validation.py:933: FutureWarning: Passing attributes to check_is_fitted is deprecated and will be removed in 0.23. The attributes argument is ignored.\n",
      "  \"argument is ignored.\", FutureWarning)\n"
     ]
    }
   ],
   "source": [
    "# let's transform the train and test sets\n",
    "\n",
    "X_train = ordinal_enc.transform(X_train)\n",
    "X_test = ordinal_enc.transform(X_test)"
   ]
  },
  {
   "cell_type": "code",
   "execution_count": 22,
   "id": "63bdec54",
   "metadata": {},
   "outputs": [
    {
     "data": {
      "text/html": [
       "<div>\n",
       "<style scoped>\n",
       "    .dataframe tbody tr th:only-of-type {\n",
       "        vertical-align: middle;\n",
       "    }\n",
       "\n",
       "    .dataframe tbody tr th {\n",
       "        vertical-align: top;\n",
       "    }\n",
       "\n",
       "    .dataframe thead th {\n",
       "        text-align: right;\n",
       "    }\n",
       "</style>\n",
       "<table border=\"1\" class=\"dataframe\">\n",
       "  <thead>\n",
       "    <tr style=\"text-align: right;\">\n",
       "      <th></th>\n",
       "      <th>A1</th>\n",
       "      <th>A2</th>\n",
       "      <th>A3</th>\n",
       "      <th>A4</th>\n",
       "      <th>A5</th>\n",
       "      <th>A6</th>\n",
       "      <th>A7</th>\n",
       "      <th>A8</th>\n",
       "      <th>A9</th>\n",
       "      <th>A10</th>\n",
       "      <th>A11</th>\n",
       "      <th>A12</th>\n",
       "      <th>A13</th>\n",
       "      <th>A14</th>\n",
       "      <th>A15</th>\n",
       "    </tr>\n",
       "  </thead>\n",
       "  <tbody>\n",
       "    <tr>\n",
       "      <td>596</td>\n",
       "      <td>0</td>\n",
       "      <td>46.08</td>\n",
       "      <td>3.000</td>\n",
       "      <td>0</td>\n",
       "      <td>0</td>\n",
       "      <td>0</td>\n",
       "      <td>0</td>\n",
       "      <td>2.375</td>\n",
       "      <td>0</td>\n",
       "      <td>0</td>\n",
       "      <td>8</td>\n",
       "      <td>0</td>\n",
       "      <td>0</td>\n",
       "      <td>396.0</td>\n",
       "      <td>4159</td>\n",
       "    </tr>\n",
       "    <tr>\n",
       "      <td>303</td>\n",
       "      <td>0</td>\n",
       "      <td>15.92</td>\n",
       "      <td>2.875</td>\n",
       "      <td>0</td>\n",
       "      <td>0</td>\n",
       "      <td>1</td>\n",
       "      <td>0</td>\n",
       "      <td>0.085</td>\n",
       "      <td>1</td>\n",
       "      <td>1</td>\n",
       "      <td>0</td>\n",
       "      <td>1</td>\n",
       "      <td>0</td>\n",
       "      <td>120.0</td>\n",
       "      <td>0</td>\n",
       "    </tr>\n",
       "    <tr>\n",
       "      <td>204</td>\n",
       "      <td>1</td>\n",
       "      <td>36.33</td>\n",
       "      <td>2.125</td>\n",
       "      <td>1</td>\n",
       "      <td>1</td>\n",
       "      <td>2</td>\n",
       "      <td>0</td>\n",
       "      <td>0.085</td>\n",
       "      <td>0</td>\n",
       "      <td>0</td>\n",
       "      <td>1</td>\n",
       "      <td>1</td>\n",
       "      <td>0</td>\n",
       "      <td>50.0</td>\n",
       "      <td>1187</td>\n",
       "    </tr>\n",
       "    <tr>\n",
       "      <td>351</td>\n",
       "      <td>1</td>\n",
       "      <td>22.17</td>\n",
       "      <td>0.585</td>\n",
       "      <td>1</td>\n",
       "      <td>1</td>\n",
       "      <td>3</td>\n",
       "      <td>1</td>\n",
       "      <td>0.000</td>\n",
       "      <td>1</td>\n",
       "      <td>1</td>\n",
       "      <td>0</td>\n",
       "      <td>1</td>\n",
       "      <td>0</td>\n",
       "      <td>100.0</td>\n",
       "      <td>0</td>\n",
       "    </tr>\n",
       "    <tr>\n",
       "      <td>118</td>\n",
       "      <td>1</td>\n",
       "      <td>57.83</td>\n",
       "      <td>7.040</td>\n",
       "      <td>0</td>\n",
       "      <td>0</td>\n",
       "      <td>4</td>\n",
       "      <td>0</td>\n",
       "      <td>14.000</td>\n",
       "      <td>0</td>\n",
       "      <td>0</td>\n",
       "      <td>6</td>\n",
       "      <td>0</td>\n",
       "      <td>0</td>\n",
       "      <td>360.0</td>\n",
       "      <td>1332</td>\n",
       "    </tr>\n",
       "  </tbody>\n",
       "</table>\n",
       "</div>"
      ],
      "text/plain": [
       "     A1     A2     A3  A4  A5  A6  A7      A8  A9  A10  A11  A12  A13    A14  \\\n",
       "596   0  46.08  3.000   0   0   0   0   2.375   0    0    8    0    0  396.0   \n",
       "303   0  15.92  2.875   0   0   1   0   0.085   1    1    0    1    0  120.0   \n",
       "204   1  36.33  2.125   1   1   2   0   0.085   0    0    1    1    0   50.0   \n",
       "351   1  22.17  0.585   1   1   3   1   0.000   1    1    0    1    0  100.0   \n",
       "118   1  57.83  7.040   0   0   4   0  14.000   0    0    6    0    0  360.0   \n",
       "\n",
       "      A15  \n",
       "596  4159  \n",
       "303     0  \n",
       "204  1187  \n",
       "351     0  \n",
       "118  1332  "
      ]
     },
     "execution_count": 22,
     "metadata": {},
     "output_type": "execute_result"
    }
   ],
   "source": [
    "# let's explore the result\n",
    "\n",
    "X_train.head()"
   ]
  },
  {
   "cell_type": "code",
   "execution_count": null,
   "id": "f6c65163",
   "metadata": {},
   "outputs": [],
   "source": []
  },
  {
   "cell_type": "markdown",
   "id": "457b3a2d",
   "metadata": {},
   "source": [
    "# Replace Categories by Counts Frequencies"
   ]
  },
  {
   "cell_type": "code",
   "execution_count": 2,
   "id": "b0aeae21",
   "metadata": {},
   "outputs": [
    {
     "data": {
      "text/html": [
       "<div>\n",
       "<style scoped>\n",
       "    .dataframe tbody tr th:only-of-type {\n",
       "        vertical-align: middle;\n",
       "    }\n",
       "\n",
       "    .dataframe tbody tr th {\n",
       "        vertical-align: top;\n",
       "    }\n",
       "\n",
       "    .dataframe thead th {\n",
       "        text-align: right;\n",
       "    }\n",
       "</style>\n",
       "<table border=\"1\" class=\"dataframe\">\n",
       "  <thead>\n",
       "    <tr style=\"text-align: right;\">\n",
       "      <th></th>\n",
       "      <th>A1</th>\n",
       "      <th>A2</th>\n",
       "      <th>A3</th>\n",
       "      <th>A4</th>\n",
       "      <th>A5</th>\n",
       "      <th>A6</th>\n",
       "      <th>A7</th>\n",
       "      <th>A8</th>\n",
       "      <th>A9</th>\n",
       "      <th>A10</th>\n",
       "      <th>A11</th>\n",
       "      <th>A12</th>\n",
       "      <th>A13</th>\n",
       "      <th>A14</th>\n",
       "      <th>A15</th>\n",
       "      <th>A16</th>\n",
       "    </tr>\n",
       "  </thead>\n",
       "  <tbody>\n",
       "    <tr>\n",
       "      <td>0</td>\n",
       "      <td>b</td>\n",
       "      <td>30.83</td>\n",
       "      <td>0.000</td>\n",
       "      <td>u</td>\n",
       "      <td>g</td>\n",
       "      <td>w</td>\n",
       "      <td>v</td>\n",
       "      <td>1.25</td>\n",
       "      <td>t</td>\n",
       "      <td>t</td>\n",
       "      <td>1</td>\n",
       "      <td>f</td>\n",
       "      <td>g</td>\n",
       "      <td>202.0</td>\n",
       "      <td>0</td>\n",
       "      <td>1</td>\n",
       "    </tr>\n",
       "    <tr>\n",
       "      <td>1</td>\n",
       "      <td>a</td>\n",
       "      <td>58.67</td>\n",
       "      <td>4.460</td>\n",
       "      <td>u</td>\n",
       "      <td>g</td>\n",
       "      <td>q</td>\n",
       "      <td>h</td>\n",
       "      <td>3.04</td>\n",
       "      <td>t</td>\n",
       "      <td>t</td>\n",
       "      <td>6</td>\n",
       "      <td>f</td>\n",
       "      <td>g</td>\n",
       "      <td>43.0</td>\n",
       "      <td>560</td>\n",
       "      <td>1</td>\n",
       "    </tr>\n",
       "    <tr>\n",
       "      <td>2</td>\n",
       "      <td>a</td>\n",
       "      <td>24.50</td>\n",
       "      <td>0.500</td>\n",
       "      <td>u</td>\n",
       "      <td>g</td>\n",
       "      <td>q</td>\n",
       "      <td>h</td>\n",
       "      <td>1.50</td>\n",
       "      <td>t</td>\n",
       "      <td>f</td>\n",
       "      <td>0</td>\n",
       "      <td>f</td>\n",
       "      <td>g</td>\n",
       "      <td>280.0</td>\n",
       "      <td>824</td>\n",
       "      <td>1</td>\n",
       "    </tr>\n",
       "    <tr>\n",
       "      <td>3</td>\n",
       "      <td>b</td>\n",
       "      <td>27.83</td>\n",
       "      <td>1.540</td>\n",
       "      <td>u</td>\n",
       "      <td>g</td>\n",
       "      <td>w</td>\n",
       "      <td>v</td>\n",
       "      <td>3.75</td>\n",
       "      <td>t</td>\n",
       "      <td>t</td>\n",
       "      <td>5</td>\n",
       "      <td>t</td>\n",
       "      <td>g</td>\n",
       "      <td>100.0</td>\n",
       "      <td>3</td>\n",
       "      <td>1</td>\n",
       "    </tr>\n",
       "    <tr>\n",
       "      <td>4</td>\n",
       "      <td>b</td>\n",
       "      <td>20.17</td>\n",
       "      <td>5.625</td>\n",
       "      <td>u</td>\n",
       "      <td>g</td>\n",
       "      <td>w</td>\n",
       "      <td>v</td>\n",
       "      <td>1.71</td>\n",
       "      <td>t</td>\n",
       "      <td>f</td>\n",
       "      <td>0</td>\n",
       "      <td>f</td>\n",
       "      <td>s</td>\n",
       "      <td>120.0</td>\n",
       "      <td>0</td>\n",
       "      <td>1</td>\n",
       "    </tr>\n",
       "  </tbody>\n",
       "</table>\n",
       "</div>"
      ],
      "text/plain": [
       "  A1     A2     A3 A4 A5 A6 A7    A8 A9 A10  A11 A12 A13    A14  A15  A16\n",
       "0  b  30.83  0.000  u  g  w  v  1.25  t   t    1   f   g  202.0    0    1\n",
       "1  a  58.67  4.460  u  g  q  h  3.04  t   t    6   f   g   43.0  560    1\n",
       "2  a  24.50  0.500  u  g  q  h  1.50  t   f    0   f   g  280.0  824    1\n",
       "3  b  27.83  1.540  u  g  w  v  3.75  t   t    5   t   g  100.0    3    1\n",
       "4  b  20.17  5.625  u  g  w  v  1.71  t   f    0   f   s  120.0    0    1"
      ]
     },
     "execution_count": 2,
     "metadata": {},
     "output_type": "execute_result"
    }
   ],
   "source": [
    "data = pd.read_csv('https://raw.githubusercontent.com/univai-ghf/FeatureProcessingAndSelectionWorkshop/main/Data/creditApprovalUCI.csv')\n",
    "data.dropna(inplace=True)\n",
    "data.head()"
   ]
  },
  {
   "cell_type": "code",
   "execution_count": 3,
   "id": "a6c2069d",
   "metadata": {},
   "outputs": [
    {
     "data": {
      "text/plain": [
       "((483, 15), (207, 15))"
      ]
     },
     "execution_count": 3,
     "metadata": {},
     "output_type": "execute_result"
    }
   ],
   "source": [
    "# let's separate into training and testing set\n",
    "\n",
    "X_train, X_test, y_train, y_test = train_test_split(\n",
    "    data.drop(labels=['A16'], axis=1),  # predictors\n",
    "    data['A16'],  # target\n",
    "    test_size=0.3,  # percentage of obs in test set\n",
    "    random_state=0)  # seed to ensure reproducibility\n",
    "\n",
    "X_train.shape, X_test.shape"
   ]
  },
  {
   "cell_type": "markdown",
   "id": "b731f4d0",
   "metadata": {},
   "source": [
    "## Count encoding with pandas"
   ]
  },
  {
   "cell_type": "code",
   "execution_count": 4,
   "id": "4592c5ca",
   "metadata": {},
   "outputs": [
    {
     "data": {
      "text/plain": [
       "{'v': 277,\n",
       " 'h': 101,\n",
       " 'ff': 41,\n",
       " 'bb': 39,\n",
       " 'z': 7,\n",
       " 'dd': 5,\n",
       " 'j': 5,\n",
       " 'Missing': 4,\n",
       " 'n': 3,\n",
       " 'o': 1}"
      ]
     },
     "execution_count": 4,
     "metadata": {},
     "output_type": "execute_result"
    }
   ],
   "source": [
    "# let's obtain the counts for each category in the variable A7\n",
    "\n",
    "count_map = X_train['A7'].value_counts().to_dict()\n",
    "\n",
    "count_map"
   ]
  },
  {
   "cell_type": "code",
   "execution_count": 5,
   "id": "5f4c8c82",
   "metadata": {
    "scrolled": true
   },
   "outputs": [],
   "source": [
    "# replace the labels with the counts\n",
    "\n",
    "X_train['A7'] = X_train['A7'].map(count_map)\n",
    "X_test['A7'] = X_test['A7'].map(count_map)"
   ]
  },
  {
   "cell_type": "code",
   "execution_count": 6,
   "id": "11dd7c31",
   "metadata": {},
   "outputs": [
    {
     "data": {
      "text/plain": [
       "596    277\n",
       "303    277\n",
       "204    277\n",
       "351     41\n",
       "118    277\n",
       "247    101\n",
       "652    277\n",
       "513      5\n",
       "230    277\n",
       "250      7\n",
       "Name: A7, dtype: int64"
      ]
     },
     "execution_count": 6,
     "metadata": {},
     "output_type": "execute_result"
    }
   ],
   "source": [
    "# let's explore the result\n",
    "\n",
    "X_train['A7'].head(10)"
   ]
  },
  {
   "cell_type": "code",
   "execution_count": 7,
   "id": "c9564ccf",
   "metadata": {},
   "outputs": [
    {
     "data": {
      "text/plain": [
       "{'c': 0.19254658385093168,\n",
       " 'q': 0.11594202898550725,\n",
       " 'w': 0.09937888198757763,\n",
       " 'i': 0.08488612836438923,\n",
       " 'k': 0.07867494824016563,\n",
       " 'ff': 0.07867494824016563,\n",
       " 'aa': 0.07039337474120083,\n",
       " 'cc': 0.062111801242236024,\n",
       " 'm': 0.053830227743271224,\n",
       " 'x': 0.049689440993788817,\n",
       " 'e': 0.043478260869565216,\n",
       " 'd': 0.043478260869565216,\n",
       " 'j': 0.016563146997929608,\n",
       " 'Missing': 0.008281573498964804,\n",
       " 'r': 0.002070393374741201}"
      ]
     },
     "execution_count": 7,
     "metadata": {},
     "output_type": "execute_result"
    }
   ],
   "source": [
    "# if instead of the count we would like the frequency\n",
    "# we need only divide the count by the total number of observations:\n",
    "\n",
    "frequency_map = (X_train['A6'].value_counts() / len(X_train) ).to_dict()\n",
    "frequency_map"
   ]
  },
  {
   "cell_type": "code",
   "execution_count": 8,
   "id": "235eb547",
   "metadata": {},
   "outputs": [],
   "source": [
    "# replace the labels with the frequency\n",
    "\n",
    "X_train['A6'] = X_train['A6'].map(frequency_map)\n",
    "X_test['A6'] = X_test['A6'].map(frequency_map)"
   ]
  },
  {
   "cell_type": "markdown",
   "id": "e8341e9f",
   "metadata": {},
   "source": [
    "### Putting the code into functions to smooth the process"
   ]
  },
  {
   "cell_type": "code",
   "execution_count": 9,
   "id": "bb97826b",
   "metadata": {},
   "outputs": [],
   "source": [
    "def count_mappings(df, variable):\n",
    "    return df[variable].value_counts().to_dict()\n",
    "\n",
    "\n",
    "def frequency_mappings(df, variable):\n",
    "    return (df[variable].value_counts() / len(df)).to_dict()\n",
    "\n",
    "\n",
    "def encode(train, test, variable, mapping):\n",
    "    X_train[variable] = X_train[variable].map(mapping)\n",
    "    X_test[variable] = X_test[variable].map(mapping)"
   ]
  },
  {
   "cell_type": "code",
   "execution_count": 10,
   "id": "a2ac42e8",
   "metadata": {},
   "outputs": [],
   "source": [
    "# make a list with the categorical variables\n",
    "\n",
    "vars_categorical = ['A1', 'A4', 'A5', 'A6', 'A7', 'A9', 'A10', 'A12', 'A13']"
   ]
  },
  {
   "cell_type": "code",
   "execution_count": 11,
   "id": "7839f289",
   "metadata": {},
   "outputs": [],
   "source": [
    "# encode multiple categorical variables with the functions\n",
    "# above\n",
    "\n",
    "for variable in vars_categorical:\n",
    "    mappings = count_mappings(X_train, variable)\n",
    "    encode(X_train, X_test, variable, mappings)"
   ]
  },
  {
   "cell_type": "markdown",
   "id": "a6d89ee3",
   "metadata": {},
   "source": [
    "## Count and frequency encoding with Feature-Engine"
   ]
  },
  {
   "cell_type": "code",
   "execution_count": 12,
   "id": "03985e7a",
   "metadata": {},
   "outputs": [],
   "source": [
    "# let's divide into train and test sets (again)\n",
    "\n",
    "X_train, X_test, y_train, y_test = train_test_split(\n",
    "    data.drop(labels=['A16'], axis=1),  # predictors\n",
    "    data['A16'],  # target\n",
    "    test_size=0.3,  # percentage of obs in test set\n",
    "    random_state=0)  # seed to ensure reproducibility"
   ]
  },
  {
   "cell_type": "code",
   "execution_count": 13,
   "id": "02e8141f",
   "metadata": {},
   "outputs": [],
   "source": [
    "# let's create an encoder\n",
    "\n",
    "count_enc = CountFrequencyCategoricalEncoder(\n",
    "    encoding_method='count', # to do frequency ==> encoding_method='frequency'\n",
    "    variables=None)"
   ]
  },
  {
   "cell_type": "code",
   "execution_count": 14,
   "id": "8097bc87",
   "metadata": {},
   "outputs": [
    {
     "data": {
      "text/plain": [
       "CountFrequencyCategoricalEncoder(encoding_method='count',\n",
       "                                 variables=['A1', 'A4', 'A5', 'A6', 'A7', 'A9',\n",
       "                                            'A10', 'A12', 'A13'])"
      ]
     },
     "execution_count": 14,
     "metadata": {},
     "output_type": "execute_result"
    }
   ],
   "source": [
    "# fit the encoder to the train set\n",
    "count_enc.fit(X_train)"
   ]
  },
  {
   "cell_type": "code",
   "execution_count": 15,
   "id": "eaa36c31",
   "metadata": {},
   "outputs": [
    {
     "data": {
      "text/plain": [
       "['A1', 'A4', 'A5', 'A6', 'A7', 'A9', 'A10', 'A12', 'A13']"
      ]
     },
     "execution_count": 15,
     "metadata": {},
     "output_type": "execute_result"
    }
   ],
   "source": [
    "# the encoder stores the variables it will encode\n",
    "\n",
    "count_enc.variables"
   ]
  },
  {
   "cell_type": "code",
   "execution_count": 16,
   "id": "c9348195",
   "metadata": {},
   "outputs": [
    {
     "data": {
      "text/plain": [
       "{'A1': {'b': 335, 'a': 144, 'Missing': 4},\n",
       " 'A4': {'u': 363, 'y': 115, 'Missing': 4, 'l': 1},\n",
       " 'A5': {'g': 363, 'p': 115, 'Missing': 4, 'gg': 1},\n",
       " 'A6': {'c': 93,\n",
       "  'q': 56,\n",
       "  'w': 48,\n",
       "  'i': 41,\n",
       "  'k': 38,\n",
       "  'ff': 38,\n",
       "  'aa': 34,\n",
       "  'cc': 30,\n",
       "  'm': 26,\n",
       "  'x': 24,\n",
       "  'e': 21,\n",
       "  'd': 21,\n",
       "  'j': 8,\n",
       "  'Missing': 4,\n",
       "  'r': 1},\n",
       " 'A7': {'v': 277,\n",
       "  'h': 101,\n",
       "  'ff': 41,\n",
       "  'bb': 39,\n",
       "  'z': 7,\n",
       "  'dd': 5,\n",
       "  'j': 5,\n",
       "  'Missing': 4,\n",
       "  'n': 3,\n",
       "  'o': 1},\n",
       " 'A9': {'t': 256, 'f': 227},\n",
       " 'A10': {'f': 271, 't': 212},\n",
       " 'A12': {'f': 263, 't': 220},\n",
       " 'A13': {'g': 441, 's': 38, 'p': 4}}"
      ]
     },
     "execution_count": 16,
     "metadata": {},
     "output_type": "execute_result"
    }
   ],
   "source": [
    "# in the encoder dict contains the counts or frequencies\n",
    "# per category per variable\n",
    "\n",
    "count_enc.encoder_dict_"
   ]
  },
  {
   "cell_type": "code",
   "execution_count": 17,
   "id": "3ea5a9be",
   "metadata": {},
   "outputs": [
    {
     "name": "stderr",
     "output_type": "stream",
     "text": [
      "C:\\Users\\Sole\\Anaconda3\\envs\\feml\\lib\\site-packages\\sklearn\\utils\\validation.py:933: FutureWarning: Passing attributes to check_is_fitted is deprecated and will be removed in 0.23. The attributes argument is ignored.\n",
      "  \"argument is ignored.\", FutureWarning)\n"
     ]
    }
   ],
   "source": [
    "# let's transform train and test sets\n",
    "\n",
    "X_train_enc = count_enc.transform(X_train)\n",
    "X_test_enc = count_enc.transform(X_test)"
   ]
  },
  {
   "cell_type": "code",
   "execution_count": 18,
   "id": "90b9c237",
   "metadata": {},
   "outputs": [
    {
     "data": {
      "text/html": [
       "<div>\n",
       "<style scoped>\n",
       "    .dataframe tbody tr th:only-of-type {\n",
       "        vertical-align: middle;\n",
       "    }\n",
       "\n",
       "    .dataframe tbody tr th {\n",
       "        vertical-align: top;\n",
       "    }\n",
       "\n",
       "    .dataframe thead th {\n",
       "        text-align: right;\n",
       "    }\n",
       "</style>\n",
       "<table border=\"1\" class=\"dataframe\">\n",
       "  <thead>\n",
       "    <tr style=\"text-align: right;\">\n",
       "      <th></th>\n",
       "      <th>A1</th>\n",
       "      <th>A2</th>\n",
       "      <th>A3</th>\n",
       "      <th>A4</th>\n",
       "      <th>A5</th>\n",
       "      <th>A6</th>\n",
       "      <th>A7</th>\n",
       "      <th>A8</th>\n",
       "      <th>A9</th>\n",
       "      <th>A10</th>\n",
       "      <th>A11</th>\n",
       "      <th>A12</th>\n",
       "      <th>A13</th>\n",
       "      <th>A14</th>\n",
       "      <th>A15</th>\n",
       "    </tr>\n",
       "  </thead>\n",
       "  <tbody>\n",
       "    <tr>\n",
       "      <td>596</td>\n",
       "      <td>144</td>\n",
       "      <td>46.08</td>\n",
       "      <td>3.000</td>\n",
       "      <td>363</td>\n",
       "      <td>363</td>\n",
       "      <td>93</td>\n",
       "      <td>277</td>\n",
       "      <td>2.375</td>\n",
       "      <td>256</td>\n",
       "      <td>212</td>\n",
       "      <td>8</td>\n",
       "      <td>220</td>\n",
       "      <td>441</td>\n",
       "      <td>396.0</td>\n",
       "      <td>4159</td>\n",
       "    </tr>\n",
       "    <tr>\n",
       "      <td>303</td>\n",
       "      <td>144</td>\n",
       "      <td>15.92</td>\n",
       "      <td>2.875</td>\n",
       "      <td>363</td>\n",
       "      <td>363</td>\n",
       "      <td>56</td>\n",
       "      <td>277</td>\n",
       "      <td>0.085</td>\n",
       "      <td>227</td>\n",
       "      <td>271</td>\n",
       "      <td>0</td>\n",
       "      <td>263</td>\n",
       "      <td>441</td>\n",
       "      <td>120.0</td>\n",
       "      <td>0</td>\n",
       "    </tr>\n",
       "    <tr>\n",
       "      <td>204</td>\n",
       "      <td>335</td>\n",
       "      <td>36.33</td>\n",
       "      <td>2.125</td>\n",
       "      <td>115</td>\n",
       "      <td>115</td>\n",
       "      <td>48</td>\n",
       "      <td>277</td>\n",
       "      <td>0.085</td>\n",
       "      <td>256</td>\n",
       "      <td>212</td>\n",
       "      <td>1</td>\n",
       "      <td>263</td>\n",
       "      <td>441</td>\n",
       "      <td>50.0</td>\n",
       "      <td>1187</td>\n",
       "    </tr>\n",
       "    <tr>\n",
       "      <td>351</td>\n",
       "      <td>335</td>\n",
       "      <td>22.17</td>\n",
       "      <td>0.585</td>\n",
       "      <td>115</td>\n",
       "      <td>115</td>\n",
       "      <td>38</td>\n",
       "      <td>41</td>\n",
       "      <td>0.000</td>\n",
       "      <td>227</td>\n",
       "      <td>271</td>\n",
       "      <td>0</td>\n",
       "      <td>263</td>\n",
       "      <td>441</td>\n",
       "      <td>100.0</td>\n",
       "      <td>0</td>\n",
       "    </tr>\n",
       "    <tr>\n",
       "      <td>118</td>\n",
       "      <td>335</td>\n",
       "      <td>57.83</td>\n",
       "      <td>7.040</td>\n",
       "      <td>363</td>\n",
       "      <td>363</td>\n",
       "      <td>26</td>\n",
       "      <td>277</td>\n",
       "      <td>14.000</td>\n",
       "      <td>256</td>\n",
       "      <td>212</td>\n",
       "      <td>6</td>\n",
       "      <td>220</td>\n",
       "      <td>441</td>\n",
       "      <td>360.0</td>\n",
       "      <td>1332</td>\n",
       "    </tr>\n",
       "  </tbody>\n",
       "</table>\n",
       "</div>"
      ],
      "text/plain": [
       "      A1     A2     A3   A4   A5  A6   A7      A8   A9  A10  A11  A12  A13  \\\n",
       "596  144  46.08  3.000  363  363  93  277   2.375  256  212    8  220  441   \n",
       "303  144  15.92  2.875  363  363  56  277   0.085  227  271    0  263  441   \n",
       "204  335  36.33  2.125  115  115  48  277   0.085  256  212    1  263  441   \n",
       "351  335  22.17  0.585  115  115  38   41   0.000  227  271    0  263  441   \n",
       "118  335  57.83  7.040  363  363  26  277  14.000  256  212    6  220  441   \n",
       "\n",
       "       A14   A15  \n",
       "596  396.0  4159  \n",
       "303  120.0     0  \n",
       "204   50.0  1187  \n",
       "351  100.0     0  \n",
       "118  360.0  1332  "
      ]
     },
     "execution_count": 18,
     "metadata": {},
     "output_type": "execute_result"
    }
   ],
   "source": [
    "# let's inspect the result\n",
    "\n",
    "X_train_enc.head()"
   ]
  },
  {
   "cell_type": "code",
   "execution_count": 19,
   "id": "f3a42928",
   "metadata": {},
   "outputs": [
    {
     "data": {
      "text/html": [
       "<div>\n",
       "<style scoped>\n",
       "    .dataframe tbody tr th:only-of-type {\n",
       "        vertical-align: middle;\n",
       "    }\n",
       "\n",
       "    .dataframe tbody tr th {\n",
       "        vertical-align: top;\n",
       "    }\n",
       "\n",
       "    .dataframe thead th {\n",
       "        text-align: right;\n",
       "    }\n",
       "</style>\n",
       "<table border=\"1\" class=\"dataframe\">\n",
       "  <thead>\n",
       "    <tr style=\"text-align: right;\">\n",
       "      <th></th>\n",
       "      <th>A1</th>\n",
       "      <th>A2</th>\n",
       "      <th>A3</th>\n",
       "      <th>A4</th>\n",
       "      <th>A5</th>\n",
       "      <th>A6</th>\n",
       "      <th>A7</th>\n",
       "      <th>A8</th>\n",
       "      <th>A9</th>\n",
       "      <th>A10</th>\n",
       "      <th>A11</th>\n",
       "      <th>A12</th>\n",
       "      <th>A13</th>\n",
       "      <th>A14</th>\n",
       "      <th>A15</th>\n",
       "    </tr>\n",
       "  </thead>\n",
       "  <tbody>\n",
       "    <tr>\n",
       "      <td>14</td>\n",
       "      <td>144</td>\n",
       "      <td>45.83</td>\n",
       "      <td>10.50</td>\n",
       "      <td>363</td>\n",
       "      <td>363</td>\n",
       "      <td>56</td>\n",
       "      <td>277</td>\n",
       "      <td>5.000</td>\n",
       "      <td>256</td>\n",
       "      <td>212</td>\n",
       "      <td>7</td>\n",
       "      <td>220</td>\n",
       "      <td>441</td>\n",
       "      <td>0.0</td>\n",
       "      <td>0</td>\n",
       "    </tr>\n",
       "    <tr>\n",
       "      <td>586</td>\n",
       "      <td>335</td>\n",
       "      <td>64.08</td>\n",
       "      <td>20.00</td>\n",
       "      <td>363</td>\n",
       "      <td>363</td>\n",
       "      <td>24</td>\n",
       "      <td>101</td>\n",
       "      <td>17.500</td>\n",
       "      <td>256</td>\n",
       "      <td>212</td>\n",
       "      <td>9</td>\n",
       "      <td>220</td>\n",
       "      <td>441</td>\n",
       "      <td>0.0</td>\n",
       "      <td>1000</td>\n",
       "    </tr>\n",
       "    <tr>\n",
       "      <td>140</td>\n",
       "      <td>144</td>\n",
       "      <td>31.25</td>\n",
       "      <td>3.75</td>\n",
       "      <td>363</td>\n",
       "      <td>363</td>\n",
       "      <td>30</td>\n",
       "      <td>101</td>\n",
       "      <td>0.625</td>\n",
       "      <td>256</td>\n",
       "      <td>212</td>\n",
       "      <td>9</td>\n",
       "      <td>220</td>\n",
       "      <td>441</td>\n",
       "      <td>181.0</td>\n",
       "      <td>0</td>\n",
       "    </tr>\n",
       "    <tr>\n",
       "      <td>492</td>\n",
       "      <td>335</td>\n",
       "      <td>39.25</td>\n",
       "      <td>9.50</td>\n",
       "      <td>363</td>\n",
       "      <td>363</td>\n",
       "      <td>26</td>\n",
       "      <td>277</td>\n",
       "      <td>6.500</td>\n",
       "      <td>256</td>\n",
       "      <td>212</td>\n",
       "      <td>14</td>\n",
       "      <td>263</td>\n",
       "      <td>441</td>\n",
       "      <td>240.0</td>\n",
       "      <td>4607</td>\n",
       "    </tr>\n",
       "    <tr>\n",
       "      <td>350</td>\n",
       "      <td>144</td>\n",
       "      <td>26.17</td>\n",
       "      <td>2.00</td>\n",
       "      <td>363</td>\n",
       "      <td>363</td>\n",
       "      <td>8</td>\n",
       "      <td>5</td>\n",
       "      <td>0.000</td>\n",
       "      <td>227</td>\n",
       "      <td>271</td>\n",
       "      <td>0</td>\n",
       "      <td>220</td>\n",
       "      <td>441</td>\n",
       "      <td>276.0</td>\n",
       "      <td>1</td>\n",
       "    </tr>\n",
       "  </tbody>\n",
       "</table>\n",
       "</div>"
      ],
      "text/plain": [
       "      A1     A2     A3   A4   A5  A6   A7      A8   A9  A10  A11  A12  A13  \\\n",
       "14   144  45.83  10.50  363  363  56  277   5.000  256  212    7  220  441   \n",
       "586  335  64.08  20.00  363  363  24  101  17.500  256  212    9  220  441   \n",
       "140  144  31.25   3.75  363  363  30  101   0.625  256  212    9  220  441   \n",
       "492  335  39.25   9.50  363  363  26  277   6.500  256  212   14  263  441   \n",
       "350  144  26.17   2.00  363  363   8    5   0.000  227  271    0  220  441   \n",
       "\n",
       "       A14   A15  \n",
       "14     0.0     0  \n",
       "586    0.0  1000  \n",
       "140  181.0     0  \n",
       "492  240.0  4607  \n",
       "350  276.0     1  "
      ]
     },
     "execution_count": 19,
     "metadata": {},
     "output_type": "execute_result"
    }
   ],
   "source": [
    "X_test_enc.head()"
   ]
  },
  {
   "cell_type": "markdown",
   "id": "3a8fa98c",
   "metadata": {},
   "source": [
    "# Ordered Ordinal Encoding"
   ]
  },
  {
   "cell_type": "code",
   "execution_count": 2,
   "id": "44ee08b7",
   "metadata": {},
   "outputs": [
    {
     "data": {
      "text/html": [
       "<div>\n",
       "<style scoped>\n",
       "    .dataframe tbody tr th:only-of-type {\n",
       "        vertical-align: middle;\n",
       "    }\n",
       "\n",
       "    .dataframe tbody tr th {\n",
       "        vertical-align: top;\n",
       "    }\n",
       "\n",
       "    .dataframe thead th {\n",
       "        text-align: right;\n",
       "    }\n",
       "</style>\n",
       "<table border=\"1\" class=\"dataframe\">\n",
       "  <thead>\n",
       "    <tr style=\"text-align: right;\">\n",
       "      <th></th>\n",
       "      <th>A1</th>\n",
       "      <th>A2</th>\n",
       "      <th>A3</th>\n",
       "      <th>A4</th>\n",
       "      <th>A5</th>\n",
       "      <th>A6</th>\n",
       "      <th>A7</th>\n",
       "      <th>A8</th>\n",
       "      <th>A9</th>\n",
       "      <th>A10</th>\n",
       "      <th>A11</th>\n",
       "      <th>A12</th>\n",
       "      <th>A13</th>\n",
       "      <th>A14</th>\n",
       "      <th>A15</th>\n",
       "      <th>A16</th>\n",
       "    </tr>\n",
       "  </thead>\n",
       "  <tbody>\n",
       "    <tr>\n",
       "      <td>0</td>\n",
       "      <td>b</td>\n",
       "      <td>30.83</td>\n",
       "      <td>0.000</td>\n",
       "      <td>u</td>\n",
       "      <td>g</td>\n",
       "      <td>w</td>\n",
       "      <td>v</td>\n",
       "      <td>1.25</td>\n",
       "      <td>t</td>\n",
       "      <td>t</td>\n",
       "      <td>1</td>\n",
       "      <td>f</td>\n",
       "      <td>g</td>\n",
       "      <td>202.0</td>\n",
       "      <td>0</td>\n",
       "      <td>1</td>\n",
       "    </tr>\n",
       "    <tr>\n",
       "      <td>1</td>\n",
       "      <td>a</td>\n",
       "      <td>58.67</td>\n",
       "      <td>4.460</td>\n",
       "      <td>u</td>\n",
       "      <td>g</td>\n",
       "      <td>q</td>\n",
       "      <td>h</td>\n",
       "      <td>3.04</td>\n",
       "      <td>t</td>\n",
       "      <td>t</td>\n",
       "      <td>6</td>\n",
       "      <td>f</td>\n",
       "      <td>g</td>\n",
       "      <td>43.0</td>\n",
       "      <td>560</td>\n",
       "      <td>1</td>\n",
       "    </tr>\n",
       "    <tr>\n",
       "      <td>2</td>\n",
       "      <td>a</td>\n",
       "      <td>24.50</td>\n",
       "      <td>0.500</td>\n",
       "      <td>u</td>\n",
       "      <td>g</td>\n",
       "      <td>q</td>\n",
       "      <td>h</td>\n",
       "      <td>1.50</td>\n",
       "      <td>t</td>\n",
       "      <td>f</td>\n",
       "      <td>0</td>\n",
       "      <td>f</td>\n",
       "      <td>g</td>\n",
       "      <td>280.0</td>\n",
       "      <td>824</td>\n",
       "      <td>1</td>\n",
       "    </tr>\n",
       "    <tr>\n",
       "      <td>3</td>\n",
       "      <td>b</td>\n",
       "      <td>27.83</td>\n",
       "      <td>1.540</td>\n",
       "      <td>u</td>\n",
       "      <td>g</td>\n",
       "      <td>w</td>\n",
       "      <td>v</td>\n",
       "      <td>3.75</td>\n",
       "      <td>t</td>\n",
       "      <td>t</td>\n",
       "      <td>5</td>\n",
       "      <td>t</td>\n",
       "      <td>g</td>\n",
       "      <td>100.0</td>\n",
       "      <td>3</td>\n",
       "      <td>1</td>\n",
       "    </tr>\n",
       "    <tr>\n",
       "      <td>4</td>\n",
       "      <td>b</td>\n",
       "      <td>20.17</td>\n",
       "      <td>5.625</td>\n",
       "      <td>u</td>\n",
       "      <td>g</td>\n",
       "      <td>w</td>\n",
       "      <td>v</td>\n",
       "      <td>1.71</td>\n",
       "      <td>t</td>\n",
       "      <td>f</td>\n",
       "      <td>0</td>\n",
       "      <td>f</td>\n",
       "      <td>s</td>\n",
       "      <td>120.0</td>\n",
       "      <td>0</td>\n",
       "      <td>1</td>\n",
       "    </tr>\n",
       "  </tbody>\n",
       "</table>\n",
       "</div>"
      ],
      "text/plain": [
       "  A1     A2     A3 A4 A5 A6 A7    A8 A9 A10  A11 A12 A13    A14  A15  A16\n",
       "0  b  30.83  0.000  u  g  w  v  1.25  t   t    1   f   g  202.0    0    1\n",
       "1  a  58.67  4.460  u  g  q  h  3.04  t   t    6   f   g   43.0  560    1\n",
       "2  a  24.50  0.500  u  g  q  h  1.50  t   f    0   f   g  280.0  824    1\n",
       "3  b  27.83  1.540  u  g  w  v  3.75  t   t    5   t   g  100.0    3    1\n",
       "4  b  20.17  5.625  u  g  w  v  1.71  t   f    0   f   s  120.0    0    1"
      ]
     },
     "execution_count": 2,
     "metadata": {},
     "output_type": "execute_result"
    }
   ],
   "source": [
    "data = pd.read_csv('https://raw.githubusercontent.com/univai-ghf/FeatureProcessingAndSelectionWorkshop/main/Data/creditApprovalUCI.csv')\n",
    "data.dropna(inplace=True)\n",
    "data.head()"
   ]
  },
  {
   "cell_type": "code",
   "execution_count": 3,
   "id": "b9c34c77",
   "metadata": {},
   "outputs": [],
   "source": [
    "# make a list with the categorical variables\n",
    "\n",
    "vars_categorical = ['A1', 'A4', 'A5', 'A6', 'A7', 'A9', 'A10', 'A12', 'A13']"
   ]
  },
  {
   "cell_type": "code",
   "execution_count": 4,
   "id": "b6d14d70",
   "metadata": {},
   "outputs": [
    {
     "data": {
      "text/plain": [
       "((483, 16), (207, 16))"
      ]
     },
     "execution_count": 4,
     "metadata": {},
     "output_type": "execute_result"
    }
   ],
   "source": [
    "# let's separate into training and testing set\n",
    "\n",
    "X_train, X_test, y_train, y_test = train_test_split(\n",
    "    data,  # all data\n",
    "    data['A16'],  # target\n",
    "    test_size=0.3,  # percentage of obs in test set\n",
    "    random_state=0)  # seed to ensure reproducibility\n",
    "\n",
    "X_train.shape, X_test.shape"
   ]
  },
  {
   "cell_type": "markdown",
   "id": "2883624f",
   "metadata": {},
   "source": [
    "## Ordered integer encoding with pandas"
   ]
  },
  {
   "cell_type": "code",
   "execution_count": 5,
   "id": "f51f74c5",
   "metadata": {},
   "outputs": [
    {
     "data": {
      "image/png": "[encoded data removed]",
      "text/plain": [
       "<Figure size 432x288 with 1 Axes>"
      ]
     },
     "metadata": {
      "needs_background": "light"
     },
     "output_type": "display_data"
    }
   ],
   "source": [
    "X_train.groupby(['A7'])['A16'].mean().plot()\n",
    "plt.title('Relationship between A7 and the target')\n",
    "plt.ylabel('Mean of target')\n",
    "plt.show()"
   ]
  },
  {
   "cell_type": "code",
   "execution_count": 6,
   "id": "8769f622",
   "metadata": {
    "scrolled": true
   },
   "outputs": [
    {
     "data": {
      "text/plain": [
       "A7\n",
       "o          0.000000\n",
       "ff         0.146341\n",
       "j          0.200000\n",
       "dd         0.400000\n",
       "v          0.418773\n",
       "bb         0.512821\n",
       "h          0.603960\n",
       "n          0.666667\n",
       "z          0.714286\n",
       "Missing    1.000000\n",
       "Name: A16, dtype: float64"
      ]
     },
     "execution_count": 6,
     "metadata": {},
     "output_type": "execute_result"
    }
   ],
   "source": [
    "# let's order the labels in A7 according to the mean target value\n",
    "\n",
    "X_train.groupby(['A7'])['A16'].mean().sort_values()"
   ]
  },
  {
   "cell_type": "code",
   "execution_count": 7,
   "id": "beb7f270",
   "metadata": {},
   "outputs": [
    {
     "data": {
      "text/plain": [
       "Index(['o', 'ff', 'j', 'dd', 'v', 'bb', 'h', 'n', 'z', 'Missing'], dtype='object', name='A7')"
      ]
     },
     "execution_count": 7,
     "metadata": {},
     "output_type": "execute_result"
    }
   ],
   "source": [
    "# let's we generate an ordered list with the labels of A7\n",
    "\n",
    "ordered_labels = X_train.groupby(['A7'])['A16'].mean().sort_values().index\n",
    "\n",
    "ordered_labels"
   ]
  },
  {
   "cell_type": "code",
   "execution_count": 8,
   "id": "8d5d0edc",
   "metadata": {},
   "outputs": [
    {
     "data": {
      "text/plain": [
       "{'o': 0,\n",
       " 'ff': 1,\n",
       " 'j': 2,\n",
       " 'dd': 3,\n",
       " 'v': 4,\n",
       " 'bb': 5,\n",
       " 'h': 6,\n",
       " 'n': 7,\n",
       " 'z': 8,\n",
       " 'Missing': 9}"
      ]
     },
     "execution_count": 8,
     "metadata": {},
     "output_type": "execute_result"
    }
   ],
   "source": [
    "# next let's create a dictionary with the mappings of categories to numbers\n",
    "\n",
    "ordinal_mapping = {k: i for i, k in enumerate(ordered_labels, 0)}\n",
    "\n",
    "ordinal_mapping"
   ]
  },
  {
   "cell_type": "code",
   "execution_count": 9,
   "id": "958e3bca",
   "metadata": {},
   "outputs": [
    {
     "name": "stderr",
     "output_type": "stream",
     "text": [
      "C:\\Users\\Sole\\Anaconda3\\envs\\feml\\lib\\site-packages\\ipykernel_launcher.py:3: SettingWithCopyWarning: \n",
      "A value is trying to be set on a copy of a slice from a DataFrame.\n",
      "Try using .loc[row_indexer,col_indexer] = value instead\n",
      "\n",
      "See the caveats in the documentation: http://pandas.pydata.org/pandas-docs/stable/user_guide/indexing.html#returning-a-view-versus-a-copy\n",
      "  This is separate from the ipykernel package so we can avoid doing imports until\n",
      "C:\\Users\\Sole\\Anaconda3\\envs\\feml\\lib\\site-packages\\ipykernel_launcher.py:4: SettingWithCopyWarning: \n",
      "A value is trying to be set on a copy of a slice from a DataFrame.\n",
      "Try using .loc[row_indexer,col_indexer] = value instead\n",
      "\n",
      "See the caveats in the documentation: http://pandas.pydata.org/pandas-docs/stable/user_guide/indexing.html#returning-a-view-versus-a-copy\n",
      "  after removing the cwd from sys.path.\n"
     ]
    }
   ],
   "source": [
    "# replace the labels with the ordered numbers\n",
    "\n",
    "X_train['A7'] = X_train['A7'].map(ordinal_mapping)\n",
    "X_test['A7'] = X_test['A7'].map(ordinal_mapping)"
   ]
  },
  {
   "cell_type": "code",
   "execution_count": 10,
   "id": "14f31daf",
   "metadata": {},
   "outputs": [
    {
     "data": {
      "text/plain": [
       "596    4\n",
       "303    4\n",
       "204    4\n",
       "351    1\n",
       "118    4\n",
       "Name: A7, dtype: int64"
      ]
     },
     "execution_count": 10,
     "metadata": {},
     "output_type": "execute_result"
    }
   ],
   "source": [
    "# let's inspect the encoded variable\n",
    "X_train['A7'].head()"
   ]
  },
  {
   "cell_type": "code",
   "execution_count": 11,
   "id": "7e5a0739",
   "metadata": {},
   "outputs": [
    {
     "data": {
      "image/png": "[encoded data removed]",
      "text/plain": [
       "<Figure size 432x288 with 1 Axes>"
      ]
     },
     "metadata": {
      "needs_background": "light"
     },
     "output_type": "display_data"
    }
   ],
   "source": [
    "# let's explore the monotonic relationship\n",
    "\n",
    "X_train.groupby(['A7'])['A16'].mean().plot()\n",
    "plt.title('Relationship between A7 and the target')\n",
    "plt.ylabel('Mean of target')\n",
    "plt.show()"
   ]
  },
  {
   "cell_type": "markdown",
   "id": "bb7c71a0",
   "metadata": {},
   "source": [
    "## Ordered integer encoding with Feature-Engine"
   ]
  },
  {
   "cell_type": "code",
   "execution_count": 12,
   "id": "9b510329",
   "metadata": {},
   "outputs": [],
   "source": [
    "X_train, X_test, y_train, y_test = train_test_split(\n",
    "    data.drop(labels=['A16'], axis=1),  # predictors\n",
    "    data['A16'],  # target\n",
    "    test_size=0.3,  # percentage of obs in test set\n",
    "    random_state=0)  # seed to ensure reproducibility"
   ]
  },
  {
   "cell_type": "code",
   "execution_count": 13,
   "id": "87f3fab9",
   "metadata": {},
   "outputs": [],
   "source": [
    "# let's create the encoder\n",
    "ordinal_enc = OrdinalCategoricalEncoder(\n",
    "    encoding_method='ordered')"
   ]
  },
  {
   "cell_type": "code",
   "execution_count": 14,
   "id": "deb869f8",
   "metadata": {},
   "outputs": [
    {
     "data": {
      "text/plain": [
       "OrdinalCategoricalEncoder(encoding_method='ordered',\n",
       "                          variables=['A1', 'A4', 'A5', 'A6', 'A7', 'A9', 'A10',\n",
       "                                     'A12', 'A13'])"
      ]
     },
     "execution_count": 14,
     "metadata": {},
     "output_type": "execute_result"
    }
   ],
   "source": [
    "# when fitting the transformer, we need to pass the target as well\n",
    "# just like with any Scikit-learn predictor class\n",
    "\n",
    "ordinal_enc.fit(X_train, y_train)"
   ]
  },
  {
   "cell_type": "code",
   "execution_count": 15,
   "id": "3d3fbcac",
   "metadata": {},
   "outputs": [
    {
     "data": {
      "text/plain": [
       "['A1', 'A4', 'A5', 'A6', 'A7', 'A9', 'A10', 'A12', 'A13']"
      ]
     },
     "execution_count": 15,
     "metadata": {},
     "output_type": "execute_result"
    }
   ],
   "source": [
    "# the encoder stores the variables that it will encode\n",
    "\n",
    "ordinal_enc.variables"
   ]
  },
  {
   "cell_type": "code",
   "execution_count": 16,
   "id": "2bb24b8d",
   "metadata": {},
   "outputs": [
    {
     "data": {
      "text/plain": [
       "{'A1': {'b': 0, 'a': 1, 'Missing': 2},\n",
       " 'A4': {'y': 0, 'u': 1, 'Missing': 2, 'l': 3},\n",
       " 'A5': {'p': 0, 'g': 1, 'Missing': 2, 'gg': 3},\n",
       " 'A6': {'ff': 0,\n",
       "  'd': 1,\n",
       "  'j': 2,\n",
       "  'i': 3,\n",
       "  'k': 4,\n",
       "  'm': 5,\n",
       "  'aa': 6,\n",
       "  'c': 7,\n",
       "  'w': 8,\n",
       "  'e': 9,\n",
       "  'q': 10,\n",
       "  'cc': 11,\n",
       "  'x': 12,\n",
       "  'Missing': 13,\n",
       "  'r': 14},\n",
       " 'A7': {'o': 0,\n",
       "  'ff': 1,\n",
       "  'j': 2,\n",
       "  'dd': 3,\n",
       "  'v': 4,\n",
       "  'bb': 5,\n",
       "  'h': 6,\n",
       "  'n': 7,\n",
       "  'z': 8,\n",
       "  'Missing': 9},\n",
       " 'A9': {'f': 0, 't': 1},\n",
       " 'A10': {'f': 0, 't': 1},\n",
       " 'A12': {'t': 0, 'f': 1},\n",
       " 'A13': {'s': 0, 'g': 1, 'p': 2}}"
      ]
     },
     "execution_count": 16,
     "metadata": {},
     "output_type": "execute_result"
    }
   ],
   "source": [
    "# in the encoder dict we can observe the numbers that will\n",
    "#replace each category in each variable\n",
    "\n",
    "ordinal_enc.encoder_dict_"
   ]
  },
  {
   "cell_type": "code",
   "execution_count": 17,
   "id": "0dbfb2b3",
   "metadata": {},
   "outputs": [
    {
     "name": "stderr",
     "output_type": "stream",
     "text": [
      "C:\\Users\\Sole\\Anaconda3\\envs\\feml\\lib\\site-packages\\sklearn\\utils\\validation.py:933: FutureWarning: Passing attributes to check_is_fitted is deprecated and will be removed in 0.23. The attributes argument is ignored.\n",
      "  \"argument is ignored.\", FutureWarning)\n"
     ]
    }
   ],
   "source": [
    "# let's transform train and test sets\n",
    "\n",
    "X_train_enc = ordinal_enc.transform(X_train)\n",
    "X_test_enc = ordinal_enc.transform(X_test)"
   ]
  },
  {
   "cell_type": "code",
   "execution_count": 18,
   "id": "6be7c5f0",
   "metadata": {},
   "outputs": [
    {
     "data": {
      "text/html": [
       "<div>\n",
       "<style scoped>\n",
       "    .dataframe tbody tr th:only-of-type {\n",
       "        vertical-align: middle;\n",
       "    }\n",
       "\n",
       "    .dataframe tbody tr th {\n",
       "        vertical-align: top;\n",
       "    }\n",
       "\n",
       "    .dataframe thead th {\n",
       "        text-align: right;\n",
       "    }\n",
       "</style>\n",
       "<table border=\"1\" class=\"dataframe\">\n",
       "  <thead>\n",
       "    <tr style=\"text-align: right;\">\n",
       "      <th></th>\n",
       "      <th>A1</th>\n",
       "      <th>A2</th>\n",
       "      <th>A3</th>\n",
       "      <th>A4</th>\n",
       "      <th>A5</th>\n",
       "      <th>A6</th>\n",
       "      <th>A7</th>\n",
       "      <th>A8</th>\n",
       "      <th>A9</th>\n",
       "      <th>A10</th>\n",
       "      <th>A11</th>\n",
       "      <th>A12</th>\n",
       "      <th>A13</th>\n",
       "      <th>A14</th>\n",
       "      <th>A15</th>\n",
       "    </tr>\n",
       "  </thead>\n",
       "  <tbody>\n",
       "    <tr>\n",
       "      <td>596</td>\n",
       "      <td>1</td>\n",
       "      <td>46.08</td>\n",
       "      <td>3.000</td>\n",
       "      <td>1</td>\n",
       "      <td>1</td>\n",
       "      <td>7</td>\n",
       "      <td>4</td>\n",
       "      <td>2.375</td>\n",
       "      <td>1</td>\n",
       "      <td>1</td>\n",
       "      <td>8</td>\n",
       "      <td>0</td>\n",
       "      <td>1</td>\n",
       "      <td>396.0</td>\n",
       "      <td>4159</td>\n",
       "    </tr>\n",
       "    <tr>\n",
       "      <td>303</td>\n",
       "      <td>1</td>\n",
       "      <td>15.92</td>\n",
       "      <td>2.875</td>\n",
       "      <td>1</td>\n",
       "      <td>1</td>\n",
       "      <td>10</td>\n",
       "      <td>4</td>\n",
       "      <td>0.085</td>\n",
       "      <td>0</td>\n",
       "      <td>0</td>\n",
       "      <td>0</td>\n",
       "      <td>1</td>\n",
       "      <td>1</td>\n",
       "      <td>120.0</td>\n",
       "      <td>0</td>\n",
       "    </tr>\n",
       "    <tr>\n",
       "      <td>204</td>\n",
       "      <td>0</td>\n",
       "      <td>36.33</td>\n",
       "      <td>2.125</td>\n",
       "      <td>0</td>\n",
       "      <td>0</td>\n",
       "      <td>8</td>\n",
       "      <td>4</td>\n",
       "      <td>0.085</td>\n",
       "      <td>1</td>\n",
       "      <td>1</td>\n",
       "      <td>1</td>\n",
       "      <td>1</td>\n",
       "      <td>1</td>\n",
       "      <td>50.0</td>\n",
       "      <td>1187</td>\n",
       "    </tr>\n",
       "    <tr>\n",
       "      <td>351</td>\n",
       "      <td>0</td>\n",
       "      <td>22.17</td>\n",
       "      <td>0.585</td>\n",
       "      <td>0</td>\n",
       "      <td>0</td>\n",
       "      <td>0</td>\n",
       "      <td>1</td>\n",
       "      <td>0.000</td>\n",
       "      <td>0</td>\n",
       "      <td>0</td>\n",
       "      <td>0</td>\n",
       "      <td>1</td>\n",
       "      <td>1</td>\n",
       "      <td>100.0</td>\n",
       "      <td>0</td>\n",
       "    </tr>\n",
       "    <tr>\n",
       "      <td>118</td>\n",
       "      <td>0</td>\n",
       "      <td>57.83</td>\n",
       "      <td>7.040</td>\n",
       "      <td>1</td>\n",
       "      <td>1</td>\n",
       "      <td>5</td>\n",
       "      <td>4</td>\n",
       "      <td>14.000</td>\n",
       "      <td>1</td>\n",
       "      <td>1</td>\n",
       "      <td>6</td>\n",
       "      <td>0</td>\n",
       "      <td>1</td>\n",
       "      <td>360.0</td>\n",
       "      <td>1332</td>\n",
       "    </tr>\n",
       "  </tbody>\n",
       "</table>\n",
       "</div>"
      ],
      "text/plain": [
       "     A1     A2     A3  A4  A5  A6  A7      A8  A9  A10  A11  A12  A13    A14  \\\n",
       "596   1  46.08  3.000   1   1   7   4   2.375   1    1    8    0    1  396.0   \n",
       "303   1  15.92  2.875   1   1  10   4   0.085   0    0    0    1    1  120.0   \n",
       "204   0  36.33  2.125   0   0   8   4   0.085   1    1    1    1    1   50.0   \n",
       "351   0  22.17  0.585   0   0   0   1   0.000   0    0    0    1    1  100.0   \n",
       "118   0  57.83  7.040   1   1   5   4  14.000   1    1    6    0    1  360.0   \n",
       "\n",
       "      A15  \n",
       "596  4159  \n",
       "303     0  \n",
       "204  1187  \n",
       "351     0  \n",
       "118  1332  "
      ]
     },
     "execution_count": 18,
     "metadata": {},
     "output_type": "execute_result"
    }
   ],
   "source": [
    "X_train_enc.head()"
   ]
  },
  {
   "cell_type": "code",
   "execution_count": 19,
   "id": "fe201a1c",
   "metadata": {},
   "outputs": [
    {
     "data": {
      "text/html": [
       "<div>\n",
       "<style scoped>\n",
       "    .dataframe tbody tr th:only-of-type {\n",
       "        vertical-align: middle;\n",
       "    }\n",
       "\n",
       "    .dataframe tbody tr th {\n",
       "        vertical-align: top;\n",
       "    }\n",
       "\n",
       "    .dataframe thead th {\n",
       "        text-align: right;\n",
       "    }\n",
       "</style>\n",
       "<table border=\"1\" class=\"dataframe\">\n",
       "  <thead>\n",
       "    <tr style=\"text-align: right;\">\n",
       "      <th></th>\n",
       "      <th>A1</th>\n",
       "      <th>A2</th>\n",
       "      <th>A3</th>\n",
       "      <th>A4</th>\n",
       "      <th>A5</th>\n",
       "      <th>A6</th>\n",
       "      <th>A7</th>\n",
       "      <th>A8</th>\n",
       "      <th>A9</th>\n",
       "      <th>A10</th>\n",
       "      <th>A11</th>\n",
       "      <th>A12</th>\n",
       "      <th>A13</th>\n",
       "      <th>A14</th>\n",
       "      <th>A15</th>\n",
       "    </tr>\n",
       "  </thead>\n",
       "  <tbody>\n",
       "    <tr>\n",
       "      <td>14</td>\n",
       "      <td>1</td>\n",
       "      <td>45.83</td>\n",
       "      <td>10.50</td>\n",
       "      <td>1</td>\n",
       "      <td>1</td>\n",
       "      <td>10</td>\n",
       "      <td>4</td>\n",
       "      <td>5.000</td>\n",
       "      <td>1</td>\n",
       "      <td>1</td>\n",
       "      <td>7</td>\n",
       "      <td>0</td>\n",
       "      <td>1</td>\n",
       "      <td>0.0</td>\n",
       "      <td>0</td>\n",
       "    </tr>\n",
       "    <tr>\n",
       "      <td>586</td>\n",
       "      <td>0</td>\n",
       "      <td>64.08</td>\n",
       "      <td>20.00</td>\n",
       "      <td>1</td>\n",
       "      <td>1</td>\n",
       "      <td>12</td>\n",
       "      <td>6</td>\n",
       "      <td>17.500</td>\n",
       "      <td>1</td>\n",
       "      <td>1</td>\n",
       "      <td>9</td>\n",
       "      <td>0</td>\n",
       "      <td>1</td>\n",
       "      <td>0.0</td>\n",
       "      <td>1000</td>\n",
       "    </tr>\n",
       "    <tr>\n",
       "      <td>140</td>\n",
       "      <td>1</td>\n",
       "      <td>31.25</td>\n",
       "      <td>3.75</td>\n",
       "      <td>1</td>\n",
       "      <td>1</td>\n",
       "      <td>11</td>\n",
       "      <td>6</td>\n",
       "      <td>0.625</td>\n",
       "      <td>1</td>\n",
       "      <td>1</td>\n",
       "      <td>9</td>\n",
       "      <td>0</td>\n",
       "      <td>1</td>\n",
       "      <td>181.0</td>\n",
       "      <td>0</td>\n",
       "    </tr>\n",
       "    <tr>\n",
       "      <td>492</td>\n",
       "      <td>0</td>\n",
       "      <td>39.25</td>\n",
       "      <td>9.50</td>\n",
       "      <td>1</td>\n",
       "      <td>1</td>\n",
       "      <td>5</td>\n",
       "      <td>4</td>\n",
       "      <td>6.500</td>\n",
       "      <td>1</td>\n",
       "      <td>1</td>\n",
       "      <td>14</td>\n",
       "      <td>1</td>\n",
       "      <td>1</td>\n",
       "      <td>240.0</td>\n",
       "      <td>4607</td>\n",
       "    </tr>\n",
       "    <tr>\n",
       "      <td>350</td>\n",
       "      <td>1</td>\n",
       "      <td>26.17</td>\n",
       "      <td>2.00</td>\n",
       "      <td>1</td>\n",
       "      <td>1</td>\n",
       "      <td>2</td>\n",
       "      <td>2</td>\n",
       "      <td>0.000</td>\n",
       "      <td>0</td>\n",
       "      <td>0</td>\n",
       "      <td>0</td>\n",
       "      <td>0</td>\n",
       "      <td>1</td>\n",
       "      <td>276.0</td>\n",
       "      <td>1</td>\n",
       "    </tr>\n",
       "  </tbody>\n",
       "</table>\n",
       "</div>"
      ],
      "text/plain": [
       "     A1     A2     A3  A4  A5  A6  A7      A8  A9  A10  A11  A12  A13    A14  \\\n",
       "14    1  45.83  10.50   1   1  10   4   5.000   1    1    7    0    1    0.0   \n",
       "586   0  64.08  20.00   1   1  12   6  17.500   1    1    9    0    1    0.0   \n",
       "140   1  31.25   3.75   1   1  11   6   0.625   1    1    9    0    1  181.0   \n",
       "492   0  39.25   9.50   1   1   5   4   6.500   1    1   14    1    1  240.0   \n",
       "350   1  26.17   2.00   1   1   2   2   0.000   0    0    0    0    1  276.0   \n",
       "\n",
       "      A15  \n",
       "14      0  \n",
       "586  1000  \n",
       "140     0  \n",
       "492  4607  \n",
       "350     1  "
      ]
     },
     "execution_count": 19,
     "metadata": {},
     "output_type": "execute_result"
    }
   ],
   "source": [
    "X_test_enc.head()"
   ]
  },
  {
   "cell_type": "code",
   "execution_count": null,
   "id": "e1fc733c",
   "metadata": {},
   "outputs": [],
   "source": []
  },
  {
   "cell_type": "markdown",
   "id": "caffe9e7",
   "metadata": {},
   "source": [
    "# Target Mean Encoding"
   ]
  },
  {
   "cell_type": "code",
   "execution_count": 2,
   "id": "c9a9f983",
   "metadata": {},
   "outputs": [
    {
     "data": {
      "text/html": [
       "<div>\n",
       "<style scoped>\n",
       "    .dataframe tbody tr th:only-of-type {\n",
       "        vertical-align: middle;\n",
       "    }\n",
       "\n",
       "    .dataframe tbody tr th {\n",
       "        vertical-align: top;\n",
       "    }\n",
       "\n",
       "    .dataframe thead th {\n",
       "        text-align: right;\n",
       "    }\n",
       "</style>\n",
       "<table border=\"1\" class=\"dataframe\">\n",
       "  <thead>\n",
       "    <tr style=\"text-align: right;\">\n",
       "      <th></th>\n",
       "      <th>A1</th>\n",
       "      <th>A2</th>\n",
       "      <th>A3</th>\n",
       "      <th>A4</th>\n",
       "      <th>A5</th>\n",
       "      <th>A6</th>\n",
       "      <th>A7</th>\n",
       "      <th>A8</th>\n",
       "      <th>A9</th>\n",
       "      <th>A10</th>\n",
       "      <th>A11</th>\n",
       "      <th>A12</th>\n",
       "      <th>A13</th>\n",
       "      <th>A14</th>\n",
       "      <th>A15</th>\n",
       "      <th>A16</th>\n",
       "    </tr>\n",
       "  </thead>\n",
       "  <tbody>\n",
       "    <tr>\n",
       "      <td>0</td>\n",
       "      <td>b</td>\n",
       "      <td>30.83</td>\n",
       "      <td>0.000</td>\n",
       "      <td>u</td>\n",
       "      <td>g</td>\n",
       "      <td>w</td>\n",
       "      <td>v</td>\n",
       "      <td>1.25</td>\n",
       "      <td>t</td>\n",
       "      <td>t</td>\n",
       "      <td>1</td>\n",
       "      <td>f</td>\n",
       "      <td>g</td>\n",
       "      <td>202.0</td>\n",
       "      <td>0</td>\n",
       "      <td>1</td>\n",
       "    </tr>\n",
       "    <tr>\n",
       "      <td>1</td>\n",
       "      <td>a</td>\n",
       "      <td>58.67</td>\n",
       "      <td>4.460</td>\n",
       "      <td>u</td>\n",
       "      <td>g</td>\n",
       "      <td>q</td>\n",
       "      <td>h</td>\n",
       "      <td>3.04</td>\n",
       "      <td>t</td>\n",
       "      <td>t</td>\n",
       "      <td>6</td>\n",
       "      <td>f</td>\n",
       "      <td>g</td>\n",
       "      <td>43.0</td>\n",
       "      <td>560</td>\n",
       "      <td>1</td>\n",
       "    </tr>\n",
       "    <tr>\n",
       "      <td>2</td>\n",
       "      <td>a</td>\n",
       "      <td>24.50</td>\n",
       "      <td>0.500</td>\n",
       "      <td>u</td>\n",
       "      <td>g</td>\n",
       "      <td>q</td>\n",
       "      <td>h</td>\n",
       "      <td>1.50</td>\n",
       "      <td>t</td>\n",
       "      <td>f</td>\n",
       "      <td>0</td>\n",
       "      <td>f</td>\n",
       "      <td>g</td>\n",
       "      <td>280.0</td>\n",
       "      <td>824</td>\n",
       "      <td>1</td>\n",
       "    </tr>\n",
       "    <tr>\n",
       "      <td>3</td>\n",
       "      <td>b</td>\n",
       "      <td>27.83</td>\n",
       "      <td>1.540</td>\n",
       "      <td>u</td>\n",
       "      <td>g</td>\n",
       "      <td>w</td>\n",
       "      <td>v</td>\n",
       "      <td>3.75</td>\n",
       "      <td>t</td>\n",
       "      <td>t</td>\n",
       "      <td>5</td>\n",
       "      <td>t</td>\n",
       "      <td>g</td>\n",
       "      <td>100.0</td>\n",
       "      <td>3</td>\n",
       "      <td>1</td>\n",
       "    </tr>\n",
       "    <tr>\n",
       "      <td>4</td>\n",
       "      <td>b</td>\n",
       "      <td>20.17</td>\n",
       "      <td>5.625</td>\n",
       "      <td>u</td>\n",
       "      <td>g</td>\n",
       "      <td>w</td>\n",
       "      <td>v</td>\n",
       "      <td>1.71</td>\n",
       "      <td>t</td>\n",
       "      <td>f</td>\n",
       "      <td>0</td>\n",
       "      <td>f</td>\n",
       "      <td>s</td>\n",
       "      <td>120.0</td>\n",
       "      <td>0</td>\n",
       "      <td>1</td>\n",
       "    </tr>\n",
       "  </tbody>\n",
       "</table>\n",
       "</div>"
      ],
      "text/plain": [
       "  A1     A2     A3 A4 A5 A6 A7    A8 A9 A10  A11 A12 A13    A14  A15  A16\n",
       "0  b  30.83  0.000  u  g  w  v  1.25  t   t    1   f   g  202.0    0    1\n",
       "1  a  58.67  4.460  u  g  q  h  3.04  t   t    6   f   g   43.0  560    1\n",
       "2  a  24.50  0.500  u  g  q  h  1.50  t   f    0   f   g  280.0  824    1\n",
       "3  b  27.83  1.540  u  g  w  v  3.75  t   t    5   t   g  100.0    3    1\n",
       "4  b  20.17  5.625  u  g  w  v  1.71  t   f    0   f   s  120.0    0    1"
      ]
     },
     "execution_count": 2,
     "metadata": {},
     "output_type": "execute_result"
    }
   ],
   "source": [
    "data = pd.read_csv('https://raw.githubusercontent.com/univai-ghf/FeatureProcessingAndSelectionWorkshop/main/Data/creditApprovalUCI.csv')\n",
    "data.dropna(inplace=True)\n",
    "data.head()"
   ]
  },
  {
   "cell_type": "code",
   "execution_count": 3,
   "id": "4fdd7710",
   "metadata": {},
   "outputs": [],
   "source": [
    "# make a list with the categorical variables\n",
    "\n",
    "vars_categorical = ['A1', 'A4', 'A5', 'A6', 'A7', 'A9', 'A10', 'A12', 'A13']"
   ]
  },
  {
   "cell_type": "code",
   "execution_count": 4,
   "id": "a5318a56",
   "metadata": {},
   "outputs": [
    {
     "data": {
      "text/plain": [
       "((483, 16), (207, 16))"
      ]
     },
     "execution_count": 4,
     "metadata": {},
     "output_type": "execute_result"
    }
   ],
   "source": [
    "# let's separate into training and testing set\n",
    "\n",
    "X_train, X_test, y_train, y_test = train_test_split(\n",
    "    data,  # all data\n",
    "    data['A16'],  # target\n",
    "    test_size=0.3,  # percentage of obs in test set\n",
    "    random_state=0)  # seed to ensure reproducibility\n",
    "\n",
    "X_train.shape, X_test.shape"
   ]
  },
  {
   "cell_type": "markdown",
   "id": "786139ec",
   "metadata": {},
   "source": [
    "## Target mean encoding with pandas"
   ]
  },
  {
   "cell_type": "code",
   "execution_count": 5,
   "id": "03a2c7c6",
   "metadata": {},
   "outputs": [
    {
     "data": {
      "image/png": "[encoded data removed]",
      "text/plain": [
       "<Figure size 432x288 with 1 Axes>"
      ]
     },
     "metadata": {
      "needs_background": "light"
     },
     "output_type": "display_data"
    }
   ],
   "source": [
    "X_train.groupby(['A7'])['A16'].mean().plot()\n",
    "plt.title('Relationship between A7 and the target')\n",
    "plt.ylabel('Mean of target')\n",
    "plt.show()"
   ]
  },
  {
   "cell_type": "code",
   "execution_count": 6,
   "id": "52a9caab",
   "metadata": {
    "scrolled": true
   },
   "outputs": [
    {
     "data": {
      "text/plain": [
       "{'Missing': 1.0,\n",
       " 'bb': 0.5128205128205128,\n",
       " 'dd': 0.4,\n",
       " 'ff': 0.14634146341463414,\n",
       " 'h': 0.6039603960396039,\n",
       " 'j': 0.2,\n",
       " 'n': 0.6666666666666666,\n",
       " 'o': 0.0,\n",
       " 'v': 0.4187725631768953,\n",
       " 'z': 0.7142857142857143}"
      ]
     },
     "execution_count": 6,
     "metadata": {},
     "output_type": "execute_result"
    }
   ],
   "source": [
    "# let's create a dictionary with the target mean per category\n",
    "# for the variable A7\n",
    "\n",
    "ordered_labels = X_train.groupby(['A7'])['A16'].mean().to_dict()\n",
    "\n",
    "ordered_labels"
   ]
  },
  {
   "cell_type": "code",
   "execution_count": 7,
   "id": "ec99fe43",
   "metadata": {},
   "outputs": [
    {
     "name": "stderr",
     "output_type": "stream",
     "text": [
      "C:\\Users\\Sole\\Anaconda3\\envs\\feml\\lib\\site-packages\\ipykernel_launcher.py:3: SettingWithCopyWarning: \n",
      "A value is trying to be set on a copy of a slice from a DataFrame.\n",
      "Try using .loc[row_indexer,col_indexer] = value instead\n",
      "\n",
      "See the caveats in the documentation: http://pandas.pydata.org/pandas-docs/stable/user_guide/indexing.html#returning-a-view-versus-a-copy\n",
      "  This is separate from the ipykernel package so we can avoid doing imports until\n",
      "C:\\Users\\Sole\\Anaconda3\\envs\\feml\\lib\\site-packages\\ipykernel_launcher.py:4: SettingWithCopyWarning: \n",
      "A value is trying to be set on a copy of a slice from a DataFrame.\n",
      "Try using .loc[row_indexer,col_indexer] = value instead\n",
      "\n",
      "See the caveats in the documentation: http://pandas.pydata.org/pandas-docs/stable/user_guide/indexing.html#returning-a-view-versus-a-copy\n",
      "  after removing the cwd from sys.path.\n"
     ]
    }
   ],
   "source": [
    "# replace the labels with the target mean\n",
    "\n",
    "X_train['A7'] = X_train['A7'].map(ordered_labels)\n",
    "X_test['A7'] = X_test['A7'].map(ordered_labels)"
   ]
  },
  {
   "cell_type": "code",
   "execution_count": 8,
   "id": "265c4887",
   "metadata": {},
   "outputs": [
    {
     "data": {
      "text/plain": [
       "596    0.418773\n",
       "303    0.418773\n",
       "204    0.418773\n",
       "351    0.146341\n",
       "118    0.418773\n",
       "Name: A7, dtype: float64"
      ]
     },
     "execution_count": 8,
     "metadata": {},
     "output_type": "execute_result"
    }
   ],
   "source": [
    "# let's inspect the result\n",
    "\n",
    "X_train['A7'].head()"
   ]
  },
  {
   "cell_type": "code",
   "execution_count": 9,
   "id": "754b1c4e",
   "metadata": {},
   "outputs": [
    {
     "data": {
      "image/png": "[encoded data removed]",
      "text/plain": [
       "<Figure size 432x288 with 1 Axes>"
      ]
     },
     "metadata": {
      "needs_background": "light"
     },
     "output_type": "display_data"
    }
   ],
   "source": [
    "X_train.groupby(['A7'])['A16'].mean().plot()\n",
    "plt.title('Relationship between A7 and the target')\n",
    "plt.ylabel('Mean of target')\n",
    "plt.show()"
   ]
  },
  {
   "cell_type": "markdown",
   "id": "0bc523de",
   "metadata": {},
   "source": [
    "## Target mean encoding with Feature-Engine"
   ]
  },
  {
   "cell_type": "code",
   "execution_count": 10,
   "id": "4e6628d8",
   "metadata": {},
   "outputs": [],
   "source": [
    "X_train, X_test, y_train, y_test = train_test_split(\n",
    "    data.drop(labels=['A16'], axis=1),  # predictors\n",
    "    data['A16'],  # target\n",
    "    test_size=0.3,  # percentage of obs in test set\n",
    "    random_state=0)  # seed to ensure reproducibility"
   ]
  },
  {
   "cell_type": "code",
   "execution_count": 11,
   "id": "a4970b16",
   "metadata": {},
   "outputs": [],
   "source": [
    "# let's create the encoder\n",
    "\n",
    "mean_enc = MeanCategoricalEncoder(variables=None)"
   ]
  },
  {
   "cell_type": "code",
   "execution_count": 12,
   "id": "90bf41af",
   "metadata": {},
   "outputs": [
    {
     "data": {
      "text/plain": [
       "MeanCategoricalEncoder(variables=['A1', 'A4', 'A5', 'A6', 'A7', 'A9', 'A10',\n",
       "                                  'A12', 'A13'])"
      ]
     },
     "execution_count": 12,
     "metadata": {},
     "output_type": "execute_result"
    }
   ],
   "source": [
    "# when fitting the transformer, we need to pass the target as well\n",
    "# just like with any Scikit-learn predictor class\n",
    "\n",
    "mean_enc.fit(X_train, y_train)"
   ]
  },
  {
   "cell_type": "code",
   "execution_count": 13,
   "id": "7786f5fa",
   "metadata": {},
   "outputs": [
    {
     "data": {
      "text/plain": [
       "['A1', 'A4', 'A5', 'A6', 'A7', 'A9', 'A10', 'A12', 'A13']"
      ]
     },
     "execution_count": 13,
     "metadata": {},
     "output_type": "execute_result"
    }
   ],
   "source": [
    "# variables that will be encoded\n",
    "\n",
    "mean_enc.variables"
   ]
  },
  {
   "cell_type": "code",
   "execution_count": 14,
   "id": "c1918ab7",
   "metadata": {},
   "outputs": [
    {
     "data": {
      "text/plain": [
       "{'A1': {'Missing': 0.5, 'a': 0.4722222222222222, 'b': 0.4388059701492537},\n",
       " 'A4': {'Missing': 1.0,\n",
       "  'l': 1.0,\n",
       "  'u': 0.512396694214876,\n",
       "  'y': 0.22608695652173913},\n",
       " 'A5': {'Missing': 1.0,\n",
       "  'g': 0.512396694214876,\n",
       "  'gg': 1.0,\n",
       "  'p': 0.22608695652173913},\n",
       " 'A6': {'Missing': 1.0,\n",
       "  'aa': 0.4411764705882353,\n",
       "  'c': 0.45161290322580644,\n",
       "  'cc': 0.7,\n",
       "  'd': 0.19047619047619047,\n",
       "  'e': 0.6190476190476191,\n",
       "  'ff': 0.10526315789473684,\n",
       "  'i': 0.2682926829268293,\n",
       "  'j': 0.25,\n",
       "  'k': 0.2894736842105263,\n",
       "  'm': 0.4230769230769231,\n",
       "  'q': 0.625,\n",
       "  'r': 1.0,\n",
       "  'w': 0.5,\n",
       "  'x': 0.7916666666666666},\n",
       " 'A7': {'Missing': 1.0,\n",
       "  'bb': 0.5128205128205128,\n",
       "  'dd': 0.4,\n",
       "  'ff': 0.14634146341463414,\n",
       "  'h': 0.6039603960396039,\n",
       "  'j': 0.2,\n",
       "  'n': 0.6666666666666666,\n",
       "  'o': 0.0,\n",
       "  'v': 0.4187725631768953,\n",
       "  'z': 0.7142857142857143},\n",
       " 'A9': {'f': 0.07048458149779736, 't': 0.78515625},\n",
       " 'A10': {'f': 0.25092250922509224, 't': 0.7028301886792453},\n",
       " 'A12': {'f': 0.4524714828897338, 't': 0.44545454545454544},\n",
       " 'A13': {'g': 0.46485260770975056, 'p': 1.0, 's': 0.21052631578947367}}"
      ]
     },
     "execution_count": 14,
     "metadata": {},
     "output_type": "execute_result"
    }
   ],
   "source": [
    "# in the encoder dict we can observe the target mean per category\n",
    "# per variable\n",
    "\n",
    "mean_enc.encoder_dict_"
   ]
  },
  {
   "cell_type": "code",
   "execution_count": 15,
   "id": "c211c6dc",
   "metadata": {},
   "outputs": [
    {
     "name": "stderr",
     "output_type": "stream",
     "text": [
      "C:\\Users\\Sole\\Anaconda3\\envs\\feml\\lib\\site-packages\\sklearn\\utils\\validation.py:933: FutureWarning: Passing attributes to check_is_fitted is deprecated and will be removed in 0.23. The attributes argument is ignored.\n",
      "  \"argument is ignored.\", FutureWarning)\n"
     ]
    }
   ],
   "source": [
    "# let's transform train and test set\n",
    "\n",
    "X_train_enc = mean_enc.transform(X_train)\n",
    "X_test_enc = mean_enc.transform(X_test)"
   ]
  },
  {
   "cell_type": "code",
   "execution_count": 16,
   "id": "0bd5d96c",
   "metadata": {},
   "outputs": [
    {
     "data": {
      "text/html": [
       "<div>\n",
       "<style scoped>\n",
       "    .dataframe tbody tr th:only-of-type {\n",
       "        vertical-align: middle;\n",
       "    }\n",
       "\n",
       "    .dataframe tbody tr th {\n",
       "        vertical-align: top;\n",
       "    }\n",
       "\n",
       "    .dataframe thead th {\n",
       "        text-align: right;\n",
       "    }\n",
       "</style>\n",
       "<table border=\"1\" class=\"dataframe\">\n",
       "  <thead>\n",
       "    <tr style=\"text-align: right;\">\n",
       "      <th></th>\n",
       "      <th>A1</th>\n",
       "      <th>A2</th>\n",
       "      <th>A3</th>\n",
       "      <th>A4</th>\n",
       "      <th>A5</th>\n",
       "      <th>A6</th>\n",
       "      <th>A7</th>\n",
       "      <th>A8</th>\n",
       "      <th>A9</th>\n",
       "      <th>A10</th>\n",
       "      <th>A11</th>\n",
       "      <th>A12</th>\n",
       "      <th>A13</th>\n",
       "      <th>A14</th>\n",
       "      <th>A15</th>\n",
       "    </tr>\n",
       "  </thead>\n",
       "  <tbody>\n",
       "    <tr>\n",
       "      <td>596</td>\n",
       "      <td>0.472222</td>\n",
       "      <td>46.08</td>\n",
       "      <td>3.000</td>\n",
       "      <td>0.512397</td>\n",
       "      <td>0.512397</td>\n",
       "      <td>0.451613</td>\n",
       "      <td>0.418773</td>\n",
       "      <td>2.375</td>\n",
       "      <td>0.785156</td>\n",
       "      <td>0.702830</td>\n",
       "      <td>8</td>\n",
       "      <td>0.445455</td>\n",
       "      <td>0.464853</td>\n",
       "      <td>396.0</td>\n",
       "      <td>4159</td>\n",
       "    </tr>\n",
       "    <tr>\n",
       "      <td>303</td>\n",
       "      <td>0.472222</td>\n",
       "      <td>15.92</td>\n",
       "      <td>2.875</td>\n",
       "      <td>0.512397</td>\n",
       "      <td>0.512397</td>\n",
       "      <td>0.625000</td>\n",
       "      <td>0.418773</td>\n",
       "      <td>0.085</td>\n",
       "      <td>0.070485</td>\n",
       "      <td>0.250923</td>\n",
       "      <td>0</td>\n",
       "      <td>0.452471</td>\n",
       "      <td>0.464853</td>\n",
       "      <td>120.0</td>\n",
       "      <td>0</td>\n",
       "    </tr>\n",
       "    <tr>\n",
       "      <td>204</td>\n",
       "      <td>0.438806</td>\n",
       "      <td>36.33</td>\n",
       "      <td>2.125</td>\n",
       "      <td>0.226087</td>\n",
       "      <td>0.226087</td>\n",
       "      <td>0.500000</td>\n",
       "      <td>0.418773</td>\n",
       "      <td>0.085</td>\n",
       "      <td>0.785156</td>\n",
       "      <td>0.702830</td>\n",
       "      <td>1</td>\n",
       "      <td>0.452471</td>\n",
       "      <td>0.464853</td>\n",
       "      <td>50.0</td>\n",
       "      <td>1187</td>\n",
       "    </tr>\n",
       "    <tr>\n",
       "      <td>351</td>\n",
       "      <td>0.438806</td>\n",
       "      <td>22.17</td>\n",
       "      <td>0.585</td>\n",
       "      <td>0.226087</td>\n",
       "      <td>0.226087</td>\n",
       "      <td>0.105263</td>\n",
       "      <td>0.146341</td>\n",
       "      <td>0.000</td>\n",
       "      <td>0.070485</td>\n",
       "      <td>0.250923</td>\n",
       "      <td>0</td>\n",
       "      <td>0.452471</td>\n",
       "      <td>0.464853</td>\n",
       "      <td>100.0</td>\n",
       "      <td>0</td>\n",
       "    </tr>\n",
       "    <tr>\n",
       "      <td>118</td>\n",
       "      <td>0.438806</td>\n",
       "      <td>57.83</td>\n",
       "      <td>7.040</td>\n",
       "      <td>0.512397</td>\n",
       "      <td>0.512397</td>\n",
       "      <td>0.423077</td>\n",
       "      <td>0.418773</td>\n",
       "      <td>14.000</td>\n",
       "      <td>0.785156</td>\n",
       "      <td>0.702830</td>\n",
       "      <td>6</td>\n",
       "      <td>0.445455</td>\n",
       "      <td>0.464853</td>\n",
       "      <td>360.0</td>\n",
       "      <td>1332</td>\n",
       "    </tr>\n",
       "  </tbody>\n",
       "</table>\n",
       "</div>"
      ],
      "text/plain": [
       "           A1     A2     A3        A4        A5        A6        A7      A8  \\\n",
       "596  0.472222  46.08  3.000  0.512397  0.512397  0.451613  0.418773   2.375   \n",
       "303  0.472222  15.92  2.875  0.512397  0.512397  0.625000  0.418773   0.085   \n",
       "204  0.438806  36.33  2.125  0.226087  0.226087  0.500000  0.418773   0.085   \n",
       "351  0.438806  22.17  0.585  0.226087  0.226087  0.105263  0.146341   0.000   \n",
       "118  0.438806  57.83  7.040  0.512397  0.512397  0.423077  0.418773  14.000   \n",
       "\n",
       "           A9       A10  A11       A12       A13    A14   A15  \n",
       "596  0.785156  0.702830    8  0.445455  0.464853  396.0  4159  \n",
       "303  0.070485  0.250923    0  0.452471  0.464853  120.0     0  \n",
       "204  0.785156  0.702830    1  0.452471  0.464853   50.0  1187  \n",
       "351  0.070485  0.250923    0  0.452471  0.464853  100.0     0  \n",
       "118  0.785156  0.702830    6  0.445455  0.464853  360.0  1332  "
      ]
     },
     "execution_count": 16,
     "metadata": {},
     "output_type": "execute_result"
    }
   ],
   "source": [
    "X_train_enc.head()"
   ]
  },
  {
   "cell_type": "code",
   "execution_count": 17,
   "id": "cb4914cf",
   "metadata": {},
   "outputs": [
    {
     "data": {
      "text/html": [
       "<div>\n",
       "<style scoped>\n",
       "    .dataframe tbody tr th:only-of-type {\n",
       "        vertical-align: middle;\n",
       "    }\n",
       "\n",
       "    .dataframe tbody tr th {\n",
       "        vertical-align: top;\n",
       "    }\n",
       "\n",
       "    .dataframe thead th {\n",
       "        text-align: right;\n",
       "    }\n",
       "</style>\n",
       "<table border=\"1\" class=\"dataframe\">\n",
       "  <thead>\n",
       "    <tr style=\"text-align: right;\">\n",
       "      <th></th>\n",
       "      <th>A1</th>\n",
       "      <th>A2</th>\n",
       "      <th>A3</th>\n",
       "      <th>A4</th>\n",
       "      <th>A5</th>\n",
       "      <th>A6</th>\n",
       "      <th>A7</th>\n",
       "      <th>A8</th>\n",
       "      <th>A9</th>\n",
       "      <th>A10</th>\n",
       "      <th>A11</th>\n",
       "      <th>A12</th>\n",
       "      <th>A13</th>\n",
       "      <th>A14</th>\n",
       "      <th>A15</th>\n",
       "    </tr>\n",
       "  </thead>\n",
       "  <tbody>\n",
       "    <tr>\n",
       "      <td>14</td>\n",
       "      <td>0.472222</td>\n",
       "      <td>45.83</td>\n",
       "      <td>10.50</td>\n",
       "      <td>0.512397</td>\n",
       "      <td>0.512397</td>\n",
       "      <td>0.625000</td>\n",
       "      <td>0.418773</td>\n",
       "      <td>5.000</td>\n",
       "      <td>0.785156</td>\n",
       "      <td>0.702830</td>\n",
       "      <td>7</td>\n",
       "      <td>0.445455</td>\n",
       "      <td>0.464853</td>\n",
       "      <td>0.0</td>\n",
       "      <td>0</td>\n",
       "    </tr>\n",
       "    <tr>\n",
       "      <td>586</td>\n",
       "      <td>0.438806</td>\n",
       "      <td>64.08</td>\n",
       "      <td>20.00</td>\n",
       "      <td>0.512397</td>\n",
       "      <td>0.512397</td>\n",
       "      <td>0.791667</td>\n",
       "      <td>0.603960</td>\n",
       "      <td>17.500</td>\n",
       "      <td>0.785156</td>\n",
       "      <td>0.702830</td>\n",
       "      <td>9</td>\n",
       "      <td>0.445455</td>\n",
       "      <td>0.464853</td>\n",
       "      <td>0.0</td>\n",
       "      <td>1000</td>\n",
       "    </tr>\n",
       "    <tr>\n",
       "      <td>140</td>\n",
       "      <td>0.472222</td>\n",
       "      <td>31.25</td>\n",
       "      <td>3.75</td>\n",
       "      <td>0.512397</td>\n",
       "      <td>0.512397</td>\n",
       "      <td>0.700000</td>\n",
       "      <td>0.603960</td>\n",
       "      <td>0.625</td>\n",
       "      <td>0.785156</td>\n",
       "      <td>0.702830</td>\n",
       "      <td>9</td>\n",
       "      <td>0.445455</td>\n",
       "      <td>0.464853</td>\n",
       "      <td>181.0</td>\n",
       "      <td>0</td>\n",
       "    </tr>\n",
       "    <tr>\n",
       "      <td>492</td>\n",
       "      <td>0.438806</td>\n",
       "      <td>39.25</td>\n",
       "      <td>9.50</td>\n",
       "      <td>0.512397</td>\n",
       "      <td>0.512397</td>\n",
       "      <td>0.423077</td>\n",
       "      <td>0.418773</td>\n",
       "      <td>6.500</td>\n",
       "      <td>0.785156</td>\n",
       "      <td>0.702830</td>\n",
       "      <td>14</td>\n",
       "      <td>0.452471</td>\n",
       "      <td>0.464853</td>\n",
       "      <td>240.0</td>\n",
       "      <td>4607</td>\n",
       "    </tr>\n",
       "    <tr>\n",
       "      <td>350</td>\n",
       "      <td>0.472222</td>\n",
       "      <td>26.17</td>\n",
       "      <td>2.00</td>\n",
       "      <td>0.512397</td>\n",
       "      <td>0.512397</td>\n",
       "      <td>0.250000</td>\n",
       "      <td>0.200000</td>\n",
       "      <td>0.000</td>\n",
       "      <td>0.070485</td>\n",
       "      <td>0.250923</td>\n",
       "      <td>0</td>\n",
       "      <td>0.445455</td>\n",
       "      <td>0.464853</td>\n",
       "      <td>276.0</td>\n",
       "      <td>1</td>\n",
       "    </tr>\n",
       "  </tbody>\n",
       "</table>\n",
       "</div>"
      ],
      "text/plain": [
       "           A1     A2     A3        A4        A5        A6        A7      A8  \\\n",
       "14   0.472222  45.83  10.50  0.512397  0.512397  0.625000  0.418773   5.000   \n",
       "586  0.438806  64.08  20.00  0.512397  0.512397  0.791667  0.603960  17.500   \n",
       "140  0.472222  31.25   3.75  0.512397  0.512397  0.700000  0.603960   0.625   \n",
       "492  0.438806  39.25   9.50  0.512397  0.512397  0.423077  0.418773   6.500   \n",
       "350  0.472222  26.17   2.00  0.512397  0.512397  0.250000  0.200000   0.000   \n",
       "\n",
       "           A9       A10  A11       A12       A13    A14   A15  \n",
       "14   0.785156  0.702830    7  0.445455  0.464853    0.0     0  \n",
       "586  0.785156  0.702830    9  0.445455  0.464853    0.0  1000  \n",
       "140  0.785156  0.702830    9  0.445455  0.464853  181.0     0  \n",
       "492  0.785156  0.702830   14  0.452471  0.464853  240.0  4607  \n",
       "350  0.070485  0.250923    0  0.445455  0.464853  276.0     1  "
      ]
     },
     "execution_count": 17,
     "metadata": {},
     "output_type": "execute_result"
    }
   ],
   "source": [
    "X_test_enc.head()"
   ]
  },
  {
   "cell_type": "code",
   "execution_count": null,
   "id": "19cff510",
   "metadata": {},
   "outputs": [],
   "source": []
  },
  {
   "cell_type": "markdown",
   "id": "80a54c3f",
   "metadata": {},
   "source": [
    "# Weight of Evidence"
   ]
  },
  {
   "cell_type": "code",
   "execution_count": 2,
   "id": "e7cf3223",
   "metadata": {},
   "outputs": [
    {
     "data": {
      "text/html": [
       "<div>\n",
       "<style scoped>\n",
       "    .dataframe tbody tr th:only-of-type {\n",
       "        vertical-align: middle;\n",
       "    }\n",
       "\n",
       "    .dataframe tbody tr th {\n",
       "        vertical-align: top;\n",
       "    }\n",
       "\n",
       "    .dataframe thead th {\n",
       "        text-align: right;\n",
       "    }\n",
       "</style>\n",
       "<table border=\"1\" class=\"dataframe\">\n",
       "  <thead>\n",
       "    <tr style=\"text-align: right;\">\n",
       "      <th></th>\n",
       "      <th>A1</th>\n",
       "      <th>A2</th>\n",
       "      <th>A3</th>\n",
       "      <th>A4</th>\n",
       "      <th>A5</th>\n",
       "      <th>A6</th>\n",
       "      <th>A7</th>\n",
       "      <th>A8</th>\n",
       "      <th>A9</th>\n",
       "      <th>A10</th>\n",
       "      <th>A11</th>\n",
       "      <th>A12</th>\n",
       "      <th>A13</th>\n",
       "      <th>A14</th>\n",
       "      <th>A15</th>\n",
       "      <th>A16</th>\n",
       "    </tr>\n",
       "  </thead>\n",
       "  <tbody>\n",
       "    <tr>\n",
       "      <th>0</th>\n",
       "      <td>b</td>\n",
       "      <td>30.83</td>\n",
       "      <td>0.000</td>\n",
       "      <td>u</td>\n",
       "      <td>g</td>\n",
       "      <td>w</td>\n",
       "      <td>v</td>\n",
       "      <td>1.25</td>\n",
       "      <td>t</td>\n",
       "      <td>t</td>\n",
       "      <td>1</td>\n",
       "      <td>f</td>\n",
       "      <td>g</td>\n",
       "      <td>202.0</td>\n",
       "      <td>0</td>\n",
       "      <td>1</td>\n",
       "    </tr>\n",
       "    <tr>\n",
       "      <th>1</th>\n",
       "      <td>a</td>\n",
       "      <td>58.67</td>\n",
       "      <td>4.460</td>\n",
       "      <td>u</td>\n",
       "      <td>g</td>\n",
       "      <td>q</td>\n",
       "      <td>h</td>\n",
       "      <td>3.04</td>\n",
       "      <td>t</td>\n",
       "      <td>t</td>\n",
       "      <td>6</td>\n",
       "      <td>f</td>\n",
       "      <td>g</td>\n",
       "      <td>43.0</td>\n",
       "      <td>560</td>\n",
       "      <td>1</td>\n",
       "    </tr>\n",
       "    <tr>\n",
       "      <th>2</th>\n",
       "      <td>a</td>\n",
       "      <td>24.50</td>\n",
       "      <td>0.500</td>\n",
       "      <td>u</td>\n",
       "      <td>g</td>\n",
       "      <td>q</td>\n",
       "      <td>h</td>\n",
       "      <td>1.50</td>\n",
       "      <td>t</td>\n",
       "      <td>f</td>\n",
       "      <td>0</td>\n",
       "      <td>f</td>\n",
       "      <td>g</td>\n",
       "      <td>280.0</td>\n",
       "      <td>824</td>\n",
       "      <td>1</td>\n",
       "    </tr>\n",
       "    <tr>\n",
       "      <th>3</th>\n",
       "      <td>b</td>\n",
       "      <td>27.83</td>\n",
       "      <td>1.540</td>\n",
       "      <td>u</td>\n",
       "      <td>g</td>\n",
       "      <td>w</td>\n",
       "      <td>v</td>\n",
       "      <td>3.75</td>\n",
       "      <td>t</td>\n",
       "      <td>t</td>\n",
       "      <td>5</td>\n",
       "      <td>t</td>\n",
       "      <td>g</td>\n",
       "      <td>100.0</td>\n",
       "      <td>3</td>\n",
       "      <td>1</td>\n",
       "    </tr>\n",
       "    <tr>\n",
       "      <th>4</th>\n",
       "      <td>b</td>\n",
       "      <td>20.17</td>\n",
       "      <td>5.625</td>\n",
       "      <td>u</td>\n",
       "      <td>g</td>\n",
       "      <td>w</td>\n",
       "      <td>v</td>\n",
       "      <td>1.71</td>\n",
       "      <td>t</td>\n",
       "      <td>f</td>\n",
       "      <td>0</td>\n",
       "      <td>f</td>\n",
       "      <td>s</td>\n",
       "      <td>120.0</td>\n",
       "      <td>0</td>\n",
       "      <td>1</td>\n",
       "    </tr>\n",
       "  </tbody>\n",
       "</table>\n",
       "</div>"
      ],
      "text/plain": [
       "  A1     A2     A3 A4 A5 A6 A7    A8 A9 A10  A11 A12 A13    A14  A15  A16\n",
       "0  b  30.83  0.000  u  g  w  v  1.25  t   t    1   f   g  202.0    0    1\n",
       "1  a  58.67  4.460  u  g  q  h  3.04  t   t    6   f   g   43.0  560    1\n",
       "2  a  24.50  0.500  u  g  q  h  1.50  t   f    0   f   g  280.0  824    1\n",
       "3  b  27.83  1.540  u  g  w  v  3.75  t   t    5   t   g  100.0    3    1\n",
       "4  b  20.17  5.625  u  g  w  v  1.71  t   f    0   f   s  120.0    0    1"
      ]
     },
     "execution_count": 2,
     "metadata": {},
     "output_type": "execute_result"
    }
   ],
   "source": [
    "data = pd.read_csv('https://raw.githubusercontent.com/univai-ghf/FeatureProcessingAndSelectionWorkshop/main/Data/creditApprovalUCI.csv')\n",
    "data.dropna(inplace=True)\n",
    "data.head()"
   ]
  },
  {
   "cell_type": "code",
   "execution_count": 3,
   "id": "e2fdd78a",
   "metadata": {},
   "outputs": [],
   "source": [
    "# make a list with the categorical variables\n",
    "\n",
    "vars_categorical = ['A1', 'A4', 'A5', 'A6', 'A7', 'A9', 'A10', 'A12', 'A13']"
   ]
  },
  {
   "cell_type": "code",
   "execution_count": 4,
   "id": "6d3ff5bc",
   "metadata": {},
   "outputs": [
    {
     "data": {
      "text/plain": [
       "((483, 16), (207, 16))"
      ]
     },
     "execution_count": 4,
     "metadata": {},
     "output_type": "execute_result"
    }
   ],
   "source": [
    "# let's separate into training and testing set\n",
    "\n",
    "X_train, X_test, y_train, y_test = train_test_split(\n",
    "    data,  # all data\n",
    "    data['A16'],  # target\n",
    "    test_size=0.3,  # percentage of obs in test set\n",
    "    random_state=0)  # seed to ensure reproducibility\n",
    "\n",
    "X_train.shape, X_test.shape"
   ]
  },
  {
   "cell_type": "markdown",
   "id": "aa22ba55",
   "metadata": {},
   "source": [
    "## Weight of Evidence with pandas"
   ]
  },
  {
   "cell_type": "code",
   "execution_count": 5,
   "id": "10aa5f2a",
   "metadata": {},
   "outputs": [
    {
     "data": {
      "image/png": "[encoded data removed]",
      "text/plain": [
       "<Figure size 432x288 with 1 Axes>"
      ]
     },
     "metadata": {
      "needs_background": "light"
     },
     "output_type": "display_data"
    }
   ],
   "source": [
    "X_train.groupby(['A1'])['A16'].mean().plot()\n",
    "plt.title('Relationship between A7 and the target')\n",
    "plt.ylabel('Mean of target')\n",
    "plt.show()"
   ]
  },
  {
   "cell_type": "code",
   "execution_count": 6,
   "id": "27ea363b",
   "metadata": {},
   "outputs": [
    {
     "name": "stderr",
     "output_type": "stream",
     "text": [
      "<ipython-input-6-24a2eeb34fc7>:2: SettingWithCopyWarning: \n",
      "A value is trying to be set on a copy of a slice from a DataFrame.\n",
      "Try using .loc[row_indexer,col_indexer] = value instead\n",
      "\n",
      "See the caveats in the documentation: https://pandas.pydata.org/pandas-docs/stable/user_guide/indexing.html#returning-a-view-versus-a-copy\n",
      "  X_train['A16_inv'] = 1 - X_train['A16']\n"
     ]
    }
   ],
   "source": [
    "# Add inverse of the target to train set\n",
    "X_train['A16_inv'] = 1 - X_train['A16']"
   ]
  },
  {
   "cell_type": "code",
   "execution_count": 7,
   "id": "3fa7b297",
   "metadata": {},
   "outputs": [],
   "source": [
    "# total numner of observations with target == 1\n",
    "total_p1 = X_train['A16'].sum()\n",
    "\n",
    "# total numner of observations with target == 0\n",
    "total_p0 = X_train['A16_inv'].sum()\n",
    "\n",
    "p1 = X_train.groupby(['A1'])['A16'].mean() / total_p1\n",
    "p0 = X_train.groupby(['A1'])['A16_inv'].mean() / total_p0\n",
    "\n",
    "woe = dict(np.log(p1 / p0))"
   ]
  },
  {
   "cell_type": "code",
   "execution_count": 8,
   "id": "1bfcd95e",
   "metadata": {},
   "outputs": [
    {
     "data": {
      "text/plain": [
       "{'Missing': 0.20359895524123955,\n",
       " 'a': 0.09237332013101507,\n",
       " 'b': -0.04241042080997362}"
      ]
     },
     "execution_count": 8,
     "metadata": {},
     "output_type": "execute_result"
    }
   ],
   "source": [
    "woe"
   ]
  },
  {
   "cell_type": "code",
   "execution_count": 9,
   "id": "f6436418",
   "metadata": {},
   "outputs": [
    {
     "name": "stderr",
     "output_type": "stream",
     "text": [
      "<ipython-input-9-6bfdd0caae9c>:3: SettingWithCopyWarning: \n",
      "A value is trying to be set on a copy of a slice from a DataFrame.\n",
      "Try using .loc[row_indexer,col_indexer] = value instead\n",
      "\n",
      "See the caveats in the documentation: https://pandas.pydata.org/pandas-docs/stable/user_guide/indexing.html#returning-a-view-versus-a-copy\n",
      "  X_train['A1'] = X_train['A1'].map(woe)\n",
      "<ipython-input-9-6bfdd0caae9c>:4: SettingWithCopyWarning: \n",
      "A value is trying to be set on a copy of a slice from a DataFrame.\n",
      "Try using .loc[row_indexer,col_indexer] = value instead\n",
      "\n",
      "See the caveats in the documentation: https://pandas.pydata.org/pandas-docs/stable/user_guide/indexing.html#returning-a-view-versus-a-copy\n",
      "  X_test['A1'] = X_test['A1'].map(woe)\n"
     ]
    }
   ],
   "source": [
    "# replace the labels with the woe\n",
    "\n",
    "X_train['A1'] = X_train['A1'].map(woe)\n",
    "X_test['A1'] = X_test['A1'].map(woe)"
   ]
  },
  {
   "cell_type": "code",
   "execution_count": 10,
   "id": "47544bf9",
   "metadata": {},
   "outputs": [
    {
     "data": {
      "text/plain": [
       "596    0.092373\n",
       "303    0.092373\n",
       "204   -0.042410\n",
       "351   -0.042410\n",
       "118   -0.042410\n",
       "Name: A1, dtype: float64"
      ]
     },
     "execution_count": 10,
     "metadata": {},
     "output_type": "execute_result"
    }
   ],
   "source": [
    "X_train['A1'].head()"
   ]
  },
  {
   "cell_type": "code",
   "execution_count": 11,
   "id": "28562780",
   "metadata": {},
   "outputs": [
    {
     "data": {
      "image/png": "[encoded data removed]",
      "text/plain": [
       "<Figure size 432x288 with 1 Axes>"
      ]
     },
     "metadata": {
      "needs_background": "light"
     },
     "output_type": "display_data"
    }
   ],
   "source": [
    "X_train.groupby(['A1'])['A16'].mean().plot()\n",
    "plt.title('Relationship between A7 and the target')\n",
    "plt.ylabel('Mean of target')\n",
    "plt.show()"
   ]
  },
  {
   "cell_type": "markdown",
   "id": "95af43a9",
   "metadata": {},
   "source": [
    "## Weight of Evidence with Feature-Engine"
   ]
  },
  {
   "cell_type": "code",
   "execution_count": 12,
   "id": "34f14885",
   "metadata": {},
   "outputs": [],
   "source": [
    "X_train, X_test, y_train, y_test = train_test_split(\n",
    "    data.drop(labels=['A16'], axis=1),  # predictors\n",
    "    data['A16'],  # target\n",
    "    test_size=0.3,  # percentage of obs in test set\n",
    "    random_state=0)  # seed to ensure reproducibility"
   ]
  },
  {
   "cell_type": "code",
   "execution_count": 13,
   "id": "9f6379e9",
   "metadata": {},
   "outputs": [],
   "source": [
    "# create the weight of evidence encoder\n",
    "\n",
    "woe_enc = WoERatioCategoricalEncoder(\n",
    "    encoding_method='woe',\n",
    "    variables=['A1', 'A10', 'A12'])"
   ]
  },
  {
   "cell_type": "code",
   "execution_count": 14,
   "id": "dafd5634",
   "metadata": {},
   "outputs": [
    {
     "data": {
      "text/plain": [
       "WoERatioCategoricalEncoder(encoding_method='woe',\n",
       "                           variables=['A1', 'A10', 'A12'])"
      ]
     },
     "execution_count": 14,
     "metadata": {},
     "output_type": "execute_result"
    }
   ],
   "source": [
    "# when fitting the transformer, we need to pass the target as well\n",
    "# just like with any Scikit-learn predictor class\n",
    "\n",
    "woe_enc.fit(X_train, y_train)"
   ]
  },
  {
   "cell_type": "code",
   "execution_count": 15,
   "id": "9d8eac26",
   "metadata": {},
   "outputs": [
    {
     "data": {
      "text/plain": [
       "['A1', 'A10', 'A12']"
      ]
     },
     "execution_count": 15,
     "metadata": {},
     "output_type": "execute_result"
    }
   ],
   "source": [
    "# let's inspect the variables that will be encoded\n",
    "\n",
    "woe_enc.variables"
   ]
  },
  {
   "cell_type": "code",
   "execution_count": 16,
   "id": "5bddbe36",
   "metadata": {},
   "outputs": [
    {
     "data": {
      "text/plain": [
       "{'A1': {'Missing': 0.20359895524123955,\n",
       "  'a': 0.09237332013101507,\n",
       "  'b': -0.04241042080997339},\n",
       " 'A10': {'f': -0.8900993186244411, 't': 1.064410534795166},\n",
       " 'A12': {'f': 0.012909148776768313, 't': -0.015454610821445114}}"
      ]
     },
     "execution_count": 16,
     "metadata": {},
     "output_type": "execute_result"
    }
   ],
   "source": [
    "# the encoder stores the woe values per category per variable\n",
    "\n",
    "woe_enc.encoder_dict_"
   ]
  },
  {
   "cell_type": "code",
   "execution_count": 17,
   "id": "76454698",
   "metadata": {},
   "outputs": [],
   "source": [
    "# let's transform train and test sets\n",
    "\n",
    "X_train_enc = woe_enc.transform(X_train)\n",
    "X_test_enc = woe_enc.transform(X_test)"
   ]
  },
  {
   "cell_type": "code",
   "execution_count": 18,
   "id": "391a3113",
   "metadata": {},
   "outputs": [
    {
     "data": {
      "text/html": [
       "<div>\n",
       "<style scoped>\n",
       "    .dataframe tbody tr th:only-of-type {\n",
       "        vertical-align: middle;\n",
       "    }\n",
       "\n",
       "    .dataframe tbody tr th {\n",
       "        vertical-align: top;\n",
       "    }\n",
       "\n",
       "    .dataframe thead th {\n",
       "        text-align: right;\n",
       "    }\n",
       "</style>\n",
       "<table border=\"1\" class=\"dataframe\">\n",
       "  <thead>\n",
       "    <tr style=\"text-align: right;\">\n",
       "      <th></th>\n",
       "      <th>A1</th>\n",
       "      <th>A2</th>\n",
       "      <th>A3</th>\n",
       "      <th>A4</th>\n",
       "      <th>A5</th>\n",
       "      <th>A6</th>\n",
       "      <th>A7</th>\n",
       "      <th>A8</th>\n",
       "      <th>A9</th>\n",
       "      <th>A10</th>\n",
       "      <th>A11</th>\n",
       "      <th>A12</th>\n",
       "      <th>A13</th>\n",
       "      <th>A14</th>\n",
       "      <th>A15</th>\n",
       "    </tr>\n",
       "  </thead>\n",
       "  <tbody>\n",
       "    <tr>\n",
       "      <th>596</th>\n",
       "      <td>0.092373</td>\n",
       "      <td>46.08</td>\n",
       "      <td>3.000</td>\n",
       "      <td>u</td>\n",
       "      <td>g</td>\n",
       "      <td>c</td>\n",
       "      <td>v</td>\n",
       "      <td>2.375</td>\n",
       "      <td>t</td>\n",
       "      <td>1.064411</td>\n",
       "      <td>8</td>\n",
       "      <td>-0.015455</td>\n",
       "      <td>g</td>\n",
       "      <td>396.0</td>\n",
       "      <td>4159</td>\n",
       "    </tr>\n",
       "    <tr>\n",
       "      <th>303</th>\n",
       "      <td>0.092373</td>\n",
       "      <td>15.92</td>\n",
       "      <td>2.875</td>\n",
       "      <td>u</td>\n",
       "      <td>g</td>\n",
       "      <td>q</td>\n",
       "      <td>v</td>\n",
       "      <td>0.085</td>\n",
       "      <td>f</td>\n",
       "      <td>-0.890099</td>\n",
       "      <td>0</td>\n",
       "      <td>0.012909</td>\n",
       "      <td>g</td>\n",
       "      <td>120.0</td>\n",
       "      <td>0</td>\n",
       "    </tr>\n",
       "    <tr>\n",
       "      <th>204</th>\n",
       "      <td>-0.042410</td>\n",
       "      <td>36.33</td>\n",
       "      <td>2.125</td>\n",
       "      <td>y</td>\n",
       "      <td>p</td>\n",
       "      <td>w</td>\n",
       "      <td>v</td>\n",
       "      <td>0.085</td>\n",
       "      <td>t</td>\n",
       "      <td>1.064411</td>\n",
       "      <td>1</td>\n",
       "      <td>0.012909</td>\n",
       "      <td>g</td>\n",
       "      <td>50.0</td>\n",
       "      <td>1187</td>\n",
       "    </tr>\n",
       "    <tr>\n",
       "      <th>351</th>\n",
       "      <td>-0.042410</td>\n",
       "      <td>22.17</td>\n",
       "      <td>0.585</td>\n",
       "      <td>y</td>\n",
       "      <td>p</td>\n",
       "      <td>ff</td>\n",
       "      <td>ff</td>\n",
       "      <td>0.000</td>\n",
       "      <td>f</td>\n",
       "      <td>-0.890099</td>\n",
       "      <td>0</td>\n",
       "      <td>0.012909</td>\n",
       "      <td>g</td>\n",
       "      <td>100.0</td>\n",
       "      <td>0</td>\n",
       "    </tr>\n",
       "    <tr>\n",
       "      <th>118</th>\n",
       "      <td>-0.042410</td>\n",
       "      <td>57.83</td>\n",
       "      <td>7.040</td>\n",
       "      <td>u</td>\n",
       "      <td>g</td>\n",
       "      <td>m</td>\n",
       "      <td>v</td>\n",
       "      <td>14.000</td>\n",
       "      <td>t</td>\n",
       "      <td>1.064411</td>\n",
       "      <td>6</td>\n",
       "      <td>-0.015455</td>\n",
       "      <td>g</td>\n",
       "      <td>360.0</td>\n",
       "      <td>1332</td>\n",
       "    </tr>\n",
       "  </tbody>\n",
       "</table>\n",
       "</div>"
      ],
      "text/plain": [
       "           A1     A2     A3 A4 A5  A6  A7      A8 A9       A10  A11       A12  \\\n",
       "596  0.092373  46.08  3.000  u  g   c   v   2.375  t  1.064411    8 -0.015455   \n",
       "303  0.092373  15.92  2.875  u  g   q   v   0.085  f -0.890099    0  0.012909   \n",
       "204 -0.042410  36.33  2.125  y  p   w   v   0.085  t  1.064411    1  0.012909   \n",
       "351 -0.042410  22.17  0.585  y  p  ff  ff   0.000  f -0.890099    0  0.012909   \n",
       "118 -0.042410  57.83  7.040  u  g   m   v  14.000  t  1.064411    6 -0.015455   \n",
       "\n",
       "    A13    A14   A15  \n",
       "596   g  396.0  4159  \n",
       "303   g  120.0     0  \n",
       "204   g   50.0  1187  \n",
       "351   g  100.0     0  \n",
       "118   g  360.0  1332  "
      ]
     },
     "execution_count": 18,
     "metadata": {},
     "output_type": "execute_result"
    }
   ],
   "source": [
    "X_train_enc.head()"
   ]
  },
  {
   "cell_type": "code",
   "execution_count": 19,
   "id": "93d693c0",
   "metadata": {},
   "outputs": [
    {
     "data": {
      "text/html": [
       "<div>\n",
       "<style scoped>\n",
       "    .dataframe tbody tr th:only-of-type {\n",
       "        vertical-align: middle;\n",
       "    }\n",
       "\n",
       "    .dataframe tbody tr th {\n",
       "        vertical-align: top;\n",
       "    }\n",
       "\n",
       "    .dataframe thead th {\n",
       "        text-align: right;\n",
       "    }\n",
       "</style>\n",
       "<table border=\"1\" class=\"dataframe\">\n",
       "  <thead>\n",
       "    <tr style=\"text-align: right;\">\n",
       "      <th></th>\n",
       "      <th>A1</th>\n",
       "      <th>A2</th>\n",
       "      <th>A3</th>\n",
       "      <th>A4</th>\n",
       "      <th>A5</th>\n",
       "      <th>A6</th>\n",
       "      <th>A7</th>\n",
       "      <th>A8</th>\n",
       "      <th>A9</th>\n",
       "      <th>A10</th>\n",
       "      <th>A11</th>\n",
       "      <th>A12</th>\n",
       "      <th>A13</th>\n",
       "      <th>A14</th>\n",
       "      <th>A15</th>\n",
       "    </tr>\n",
       "  </thead>\n",
       "  <tbody>\n",
       "    <tr>\n",
       "      <th>14</th>\n",
       "      <td>0.092373</td>\n",
       "      <td>45.83</td>\n",
       "      <td>10.50</td>\n",
       "      <td>u</td>\n",
       "      <td>g</td>\n",
       "      <td>q</td>\n",
       "      <td>v</td>\n",
       "      <td>5.000</td>\n",
       "      <td>t</td>\n",
       "      <td>1.064411</td>\n",
       "      <td>7</td>\n",
       "      <td>-0.015455</td>\n",
       "      <td>g</td>\n",
       "      <td>0.0</td>\n",
       "      <td>0</td>\n",
       "    </tr>\n",
       "    <tr>\n",
       "      <th>586</th>\n",
       "      <td>-0.042410</td>\n",
       "      <td>64.08</td>\n",
       "      <td>20.00</td>\n",
       "      <td>u</td>\n",
       "      <td>g</td>\n",
       "      <td>x</td>\n",
       "      <td>h</td>\n",
       "      <td>17.500</td>\n",
       "      <td>t</td>\n",
       "      <td>1.064411</td>\n",
       "      <td>9</td>\n",
       "      <td>-0.015455</td>\n",
       "      <td>g</td>\n",
       "      <td>0.0</td>\n",
       "      <td>1000</td>\n",
       "    </tr>\n",
       "    <tr>\n",
       "      <th>140</th>\n",
       "      <td>0.092373</td>\n",
       "      <td>31.25</td>\n",
       "      <td>3.75</td>\n",
       "      <td>u</td>\n",
       "      <td>g</td>\n",
       "      <td>cc</td>\n",
       "      <td>h</td>\n",
       "      <td>0.625</td>\n",
       "      <td>t</td>\n",
       "      <td>1.064411</td>\n",
       "      <td>9</td>\n",
       "      <td>-0.015455</td>\n",
       "      <td>g</td>\n",
       "      <td>181.0</td>\n",
       "      <td>0</td>\n",
       "    </tr>\n",
       "    <tr>\n",
       "      <th>492</th>\n",
       "      <td>-0.042410</td>\n",
       "      <td>39.25</td>\n",
       "      <td>9.50</td>\n",
       "      <td>u</td>\n",
       "      <td>g</td>\n",
       "      <td>m</td>\n",
       "      <td>v</td>\n",
       "      <td>6.500</td>\n",
       "      <td>t</td>\n",
       "      <td>1.064411</td>\n",
       "      <td>14</td>\n",
       "      <td>0.012909</td>\n",
       "      <td>g</td>\n",
       "      <td>240.0</td>\n",
       "      <td>4607</td>\n",
       "    </tr>\n",
       "    <tr>\n",
       "      <th>350</th>\n",
       "      <td>0.092373</td>\n",
       "      <td>26.17</td>\n",
       "      <td>2.00</td>\n",
       "      <td>u</td>\n",
       "      <td>g</td>\n",
       "      <td>j</td>\n",
       "      <td>j</td>\n",
       "      <td>0.000</td>\n",
       "      <td>f</td>\n",
       "      <td>-0.890099</td>\n",
       "      <td>0</td>\n",
       "      <td>-0.015455</td>\n",
       "      <td>g</td>\n",
       "      <td>276.0</td>\n",
       "      <td>1</td>\n",
       "    </tr>\n",
       "  </tbody>\n",
       "</table>\n",
       "</div>"
      ],
      "text/plain": [
       "           A1     A2     A3 A4 A5  A6 A7      A8 A9       A10  A11       A12  \\\n",
       "14   0.092373  45.83  10.50  u  g   q  v   5.000  t  1.064411    7 -0.015455   \n",
       "586 -0.042410  64.08  20.00  u  g   x  h  17.500  t  1.064411    9 -0.015455   \n",
       "140  0.092373  31.25   3.75  u  g  cc  h   0.625  t  1.064411    9 -0.015455   \n",
       "492 -0.042410  39.25   9.50  u  g   m  v   6.500  t  1.064411   14  0.012909   \n",
       "350  0.092373  26.17   2.00  u  g   j  j   0.000  f -0.890099    0 -0.015455   \n",
       "\n",
       "    A13    A14   A15  \n",
       "14    g    0.0     0  \n",
       "586   g    0.0  1000  \n",
       "140   g  181.0     0  \n",
       "492   g  240.0  4607  \n",
       "350   g  276.0     1  "
      ]
     },
     "execution_count": 19,
     "metadata": {},
     "output_type": "execute_result"
    }
   ],
   "source": [
    "X_test_enc.head()"
   ]
  }
 ],
 "metadata": {
  "kernelspec": {
   "display_name": "Python 3",
   "language": "python",
   "name": "python3"
  },
  "language_info": {
   "codemirror_mode": {
    "name": "ipython",
    "version": 3
   },
   "file_extension": ".py",
   "mimetype": "text/x-python",
   "name": "python",
   "nbconvert_exporter": "python",
   "pygments_lexer": "ipython3",
   "version": "3.8.8"
  },
  "toc": {
   "nav_menu": {},
   "number_sections": true,
   "sideBar": true,
   "skip_h1_title": false,
   "toc_cell": false,
   "toc_position": {
    "height": "921.556px",
    "left": "0px",
    "right": "1827px",
    "top": "110.444px",
    "width": "306.333px"
   },
   "toc_section_display": "block",
   "toc_window_display": true
  }
 },
 "nbformat": 4,
 "nbformat_minor": 5
}
