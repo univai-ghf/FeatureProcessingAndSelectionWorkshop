{
 "cells": [
  {
   "cell_type": "markdown",
   "metadata": {},
   "source": [
    "# Exercise 2"
   ]
  },
  {
   "cell_type": "markdown",
   "metadata": {},
   "source": [
    "Hi, In this exercise we are going to build an Imputation pipeline with the help of the knowledge we just gained in lecture 2 and to make this happen we will use a car price prediction problem dataset. Lets Impute!!"
   ]
  },
  {
   "cell_type": "code",
   "execution_count": null,
   "metadata": {},
   "outputs": [],
   "source": [
    "pip install feature-engine\n",
    "#Run this cell  before any other cell"
   ]
  },
  {
   "cell_type": "code",
   "execution_count": 1,
   "metadata": {},
   "outputs": [],
   "source": [
    "import pandas as pd\n",
    "import numpy as np\n",
    "\n",
    "from sklearn.impute import SimpleImputer\n",
    "from feature_engine.imputation import MeanMedianImputer\n",
    "from sklearn.compose import ColumnTransformer\n",
    "from sklearn.pipeline import Pipeline"
   ]
  },
  {
   "cell_type": "code",
   "execution_count": 2,
   "metadata": {},
   "outputs": [],
   "source": [
    "#Function to Load Data \n",
    "def getData():\n",
    "    cols=['symboling','stroke','compressionratio','citympg','enginelocation','aspiration']\n",
    "    df=pd.read_csv('https://raw.githubusercontent.com/univai-ghf/FeatureProcessingAndSelectionWorkshop/main/Data/Nandata1.csv',usecols=cols)\n",
    "    return df\n"
   ]
  },
  {
   "cell_type": "code",
   "execution_count": 4,
   "metadata": {},
   "outputs": [
    {
     "data": {
      "text/html": [
       "<div>\n",
       "<style scoped>\n",
       "    .dataframe tbody tr th:only-of-type {\n",
       "        vertical-align: middle;\n",
       "    }\n",
       "\n",
       "    .dataframe tbody tr th {\n",
       "        vertical-align: top;\n",
       "    }\n",
       "\n",
       "    .dataframe thead th {\n",
       "        text-align: right;\n",
       "    }\n",
       "</style>\n",
       "<table border=\"1\" class=\"dataframe\">\n",
       "  <thead>\n",
       "    <tr style=\"text-align: right;\">\n",
       "      <th></th>\n",
       "      <th>symboling</th>\n",
       "      <th>aspiration</th>\n",
       "      <th>enginelocation</th>\n",
       "      <th>stroke</th>\n",
       "      <th>compressionratio</th>\n",
       "      <th>citympg</th>\n",
       "    </tr>\n",
       "  </thead>\n",
       "  <tbody>\n",
       "    <tr>\n",
       "      <th>0</th>\n",
       "      <td>3.0</td>\n",
       "      <td>std</td>\n",
       "      <td>front</td>\n",
       "      <td>2.68</td>\n",
       "      <td>9.0</td>\n",
       "      <td>21.0</td>\n",
       "    </tr>\n",
       "    <tr>\n",
       "      <th>1</th>\n",
       "      <td>3.0</td>\n",
       "      <td>std</td>\n",
       "      <td>front</td>\n",
       "      <td>2.68</td>\n",
       "      <td>9.0</td>\n",
       "      <td>21.0</td>\n",
       "    </tr>\n",
       "    <tr>\n",
       "      <th>2</th>\n",
       "      <td>1.0</td>\n",
       "      <td>std</td>\n",
       "      <td>front</td>\n",
       "      <td>3.47</td>\n",
       "      <td>NaN</td>\n",
       "      <td>19.0</td>\n",
       "    </tr>\n",
       "    <tr>\n",
       "      <th>3</th>\n",
       "      <td>2.0</td>\n",
       "      <td>std</td>\n",
       "      <td>front</td>\n",
       "      <td>3.40</td>\n",
       "      <td>10.0</td>\n",
       "      <td>24.0</td>\n",
       "    </tr>\n",
       "    <tr>\n",
       "      <th>4</th>\n",
       "      <td>NaN</td>\n",
       "      <td>std</td>\n",
       "      <td>NaN</td>\n",
       "      <td>3.40</td>\n",
       "      <td>8.0</td>\n",
       "      <td>NaN</td>\n",
       "    </tr>\n",
       "  </tbody>\n",
       "</table>\n",
       "</div>"
      ],
      "text/plain": [
       "   symboling aspiration enginelocation  stroke  compressionratio  citympg\n",
       "0        3.0        std          front    2.68               9.0     21.0\n",
       "1        3.0        std          front    2.68               9.0     21.0\n",
       "2        1.0        std          front    3.47               NaN     19.0\n",
       "3        2.0        std          front    3.40              10.0     24.0\n",
       "4        NaN        std            NaN    3.40               8.0      NaN"
      ]
     },
     "execution_count": 4,
     "metadata": {},
     "output_type": "execute_result"
    }
   ],
   "source": [
    "#Load your data here \n",
    "data=getData()\n",
    "data.head()"
   ]
  },
  {
   "cell_type": "code",
   "execution_count": 7,
   "metadata": {},
   "outputs": [
    {
     "data": {
      "text/html": [
       "<div>\n",
       "<style scoped>\n",
       "    .dataframe tbody tr th:only-of-type {\n",
       "        vertical-align: middle;\n",
       "    }\n",
       "\n",
       "    .dataframe tbody tr th {\n",
       "        vertical-align: top;\n",
       "    }\n",
       "\n",
       "    .dataframe thead th {\n",
       "        text-align: right;\n",
       "    }\n",
       "</style>\n",
       "<table border=\"1\" class=\"dataframe\">\n",
       "  <thead>\n",
       "    <tr style=\"text-align: right;\">\n",
       "      <th></th>\n",
       "      <th>features</th>\n",
       "      <th>noOfNullValues</th>\n",
       "      <th>percNullValues</th>\n",
       "    </tr>\n",
       "  </thead>\n",
       "  <tbody>\n",
       "    <tr>\n",
       "      <th>0</th>\n",
       "      <td>symboling</td>\n",
       "      <td>37</td>\n",
       "      <td>18.05</td>\n",
       "    </tr>\n",
       "    <tr>\n",
       "      <th>1</th>\n",
       "      <td>aspiration</td>\n",
       "      <td>20</td>\n",
       "      <td>9.76</td>\n",
       "    </tr>\n",
       "    <tr>\n",
       "      <th>2</th>\n",
       "      <td>enginelocation</td>\n",
       "      <td>20</td>\n",
       "      <td>9.76</td>\n",
       "    </tr>\n",
       "    <tr>\n",
       "      <th>3</th>\n",
       "      <td>stroke</td>\n",
       "      <td>20</td>\n",
       "      <td>9.76</td>\n",
       "    </tr>\n",
       "    <tr>\n",
       "      <th>4</th>\n",
       "      <td>compressionratio</td>\n",
       "      <td>37</td>\n",
       "      <td>18.05</td>\n",
       "    </tr>\n",
       "    <tr>\n",
       "      <th>5</th>\n",
       "      <td>citympg</td>\n",
       "      <td>20</td>\n",
       "      <td>9.76</td>\n",
       "    </tr>\n",
       "  </tbody>\n",
       "</table>\n",
       "</div>"
      ],
      "text/plain": [
       "           features  noOfNullValues  percNullValues\n",
       "0         symboling              37           18.05\n",
       "1        aspiration              20            9.76\n",
       "2    enginelocation              20            9.76\n",
       "3            stroke              20            9.76\n",
       "4  compressionratio              37           18.05\n",
       "5           citympg              20            9.76"
      ]
     },
     "execution_count": 7,
     "metadata": {},
     "output_type": "execute_result"
    }
   ],
   "source": [
    "#1. Calculate the percentage null values in our dataset.\n",
    "def calcNull(data:pd.DataFrame)->pd.DataFrame:\n",
    "    '''Ths function returns null value information in the dataset. A dataframe containing the results is returned.\n",
    "    \n",
    "       data : The dataset containing null values\n",
    "\n",
    "    '''\n",
    "    null=data.isnull().sum()\n",
    "    nullData=pd.DataFrame()\n",
    "    nullData['features']=null.index\n",
    "    nullData['noOfNullValues']=null.values\n",
    "    nullData['percNullValues']=np.round((nullData['noOfNullValues']/len(data))*100,2)\n",
    "    return nullData\n",
    "\n",
    "calcNull(data)"
   ]
  },
  {
   "cell_type": "code",
   "execution_count": 10,
   "metadata": {},
   "outputs": [
    {
     "name": "stdout",
     "output_type": "stream",
     "text": [
      "symboling            6\n",
      "aspiration           2\n",
      "enginelocation       2\n",
      "stroke              35\n",
      "compressionratio    30\n",
      "citympg             28\n",
      "dtype: int64\n"
     ]
    }
   ],
   "source": [
    "#2. Check the cardinality of the data \n",
    "print(data.nunique())"
   ]
  },
  {
   "cell_type": "code",
   "execution_count": 18,
   "metadata": {},
   "outputs": [],
   "source": [
    "#3. On the basis of the above unique values choose categorical variable and Continious variables\n",
    "categorical=['enginelocation','aspiration']\n",
    "continious=['symboling','stroke','compressionratio','citympg']\n",
    "\n",
    "#If you look carefully symboling is an ordinal variable, we just included it in continious for the sake of the example."
   ]
  },
  {
   "cell_type": "code",
   "execution_count": 19,
   "metadata": {},
   "outputs": [],
   "source": [
    "#4. Setup A pipeline for imputing Categorical Variables, Use most_frequent Stratergy for filling in the missing values\n",
    "categoricalPipeline=Pipeline([\n",
    "    ('categorical_Imputer',SimpleImputer(strategy='most_frequent'))\n",
    "]) "
   ]
  },
  {
   "cell_type": "code",
   "execution_count": 30,
   "metadata": {},
   "outputs": [],
   "source": [
    "#5 Set up a pipeline for imputing continious variables, you may use mean meadian or most_frequent stratergy.\n",
    "numericalPipeline =Pipeline([\n",
    "    ('numericalImputer',MeanMedianImputer(variables=continious))\n",
    "])"
   ]
  },
  {
   "cell_type": "code",
   "execution_count": 33,
   "metadata": {},
   "outputs": [],
   "source": [
    "#6 Integrate both the pipelines so they can act on the dataset together. Hint: Use ColumnTransformer for integrating two pipelines\n",
    "imputingPipeline=ColumnTransformer([\n",
    "    ('categoricalPipeline',categoricalPipeline,categorical),\n",
    "    ('numericalPipeline',numericalPipeline,continious)\n",
    "])\n"
   ]
  },
  {
   "cell_type": "code",
   "execution_count": 36,
   "metadata": {},
   "outputs": [
    {
     "data": {
      "text/plain": [
       "ColumnTransformer(transformers=[('categoricalPipeline',\n",
       "                                 Pipeline(steps=[('categorical_Imputer',\n",
       "                                                  SimpleImputer(strategy='most_frequent'))]),\n",
       "                                 ['enginelocation', 'aspiration']),\n",
       "                                ('numericalPipeline',\n",
       "                                 Pipeline(steps=[('numericalImputer',\n",
       "                                                  MeanMedianImputer(variables=['symboling',\n",
       "                                                                               'stroke',\n",
       "                                                                               'compressionratio',\n",
       "                                                                               'citympg']))]),\n",
       "                                 ['symboling', 'stroke', 'compressionratio',\n",
       "                                  'citympg'])])"
      ]
     },
     "execution_count": 36,
     "metadata": {},
     "output_type": "execute_result"
    }
   ],
   "source": [
    "#7 Fit the pipeline on your dataset\n",
    "imputingPipeline.fit(data)"
   ]
  },
  {
   "cell_type": "code",
   "execution_count": 38,
   "metadata": {},
   "outputs": [
    {
     "name": "stdout",
     "output_type": "stream",
     "text": [
      "[['front' 'std' 3.0 2.68 9.0 21.0]\n",
      " ['front' 'std' 3.0 2.68 9.0 21.0]\n",
      " ['front' 'std' 1.0 3.47 9.0 19.0]\n",
      " ...\n",
      " ['front' 'std' -1.0 2.87 8.8 18.0]\n",
      " ['front' 'turbo' -1.0 3.4 23.0 26.0]\n",
      " ['front' 'turbo' -1.0 3.15 9.5 19.0]]\n"
     ]
    }
   ],
   "source": [
    "#8. Use .transform method of the imputingPipeline and save the resulting dataset in a a variable X and print X\n",
    "X=imputingPipeline.transform(data)\n",
    "print(X)"
   ]
  },
  {
   "cell_type": "code",
   "execution_count": 40,
   "metadata": {},
   "outputs": [
    {
     "data": {
      "text/html": [
       "<div>\n",
       "<style scoped>\n",
       "    .dataframe tbody tr th:only-of-type {\n",
       "        vertical-align: middle;\n",
       "    }\n",
       "\n",
       "    .dataframe tbody tr th {\n",
       "        vertical-align: top;\n",
       "    }\n",
       "\n",
       "    .dataframe thead th {\n",
       "        text-align: right;\n",
       "    }\n",
       "</style>\n",
       "<table border=\"1\" class=\"dataframe\">\n",
       "  <thead>\n",
       "    <tr style=\"text-align: right;\">\n",
       "      <th></th>\n",
       "      <th>features</th>\n",
       "      <th>noOfNullValues</th>\n",
       "      <th>percNullValues</th>\n",
       "    </tr>\n",
       "  </thead>\n",
       "  <tbody>\n",
       "    <tr>\n",
       "      <th>0</th>\n",
       "      <td>0</td>\n",
       "      <td>0</td>\n",
       "      <td>0.0</td>\n",
       "    </tr>\n",
       "    <tr>\n",
       "      <th>1</th>\n",
       "      <td>1</td>\n",
       "      <td>0</td>\n",
       "      <td>0.0</td>\n",
       "    </tr>\n",
       "    <tr>\n",
       "      <th>2</th>\n",
       "      <td>2</td>\n",
       "      <td>0</td>\n",
       "      <td>0.0</td>\n",
       "    </tr>\n",
       "    <tr>\n",
       "      <th>3</th>\n",
       "      <td>3</td>\n",
       "      <td>0</td>\n",
       "      <td>0.0</td>\n",
       "    </tr>\n",
       "    <tr>\n",
       "      <th>4</th>\n",
       "      <td>4</td>\n",
       "      <td>0</td>\n",
       "      <td>0.0</td>\n",
       "    </tr>\n",
       "    <tr>\n",
       "      <th>5</th>\n",
       "      <td>5</td>\n",
       "      <td>0</td>\n",
       "      <td>0.0</td>\n",
       "    </tr>\n",
       "  </tbody>\n",
       "</table>\n",
       "</div>"
      ],
      "text/plain": [
       "   features  noOfNullValues  percNullValues\n",
       "0         0               0             0.0\n",
       "1         1               0             0.0\n",
       "2         2               0             0.0\n",
       "3         3               0             0.0\n",
       "4         4               0             0.0\n",
       "5         5               0             0.0"
      ]
     },
     "execution_count": 40,
     "metadata": {},
     "output_type": "execute_result"
    }
   ],
   "source": [
    "#9. Create a dataframe of X and check for any null values\n",
    "XDf=pd.DataFrame(X)\n",
    "calcNull(XDf)"
   ]
  }
 ],
 "metadata": {
  "interpreter": {
   "hash": "423d5580e5a70cfacc6726872e3658ff2836f3f7c1fd3c3256b5e5f36e2fe05e"
  },
  "kernelspec": {
   "display_name": "Python 3.9.7 ('tf')",
   "language": "python",
   "name": "python3"
  },
  "language_info": {
   "codemirror_mode": {
    "name": "ipython",
    "version": 3
   },
   "file_extension": ".py",
   "mimetype": "text/x-python",
   "name": "python",
   "nbconvert_exporter": "python",
   "pygments_lexer": "ipython3",
   "version": "3.9.7"
  },
  "orig_nbformat": 4
 },
 "nbformat": 4,
 "nbformat_minor": 2
}
