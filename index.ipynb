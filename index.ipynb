{
  "nbformat": 4,
  "nbformat_minor": 0,
  "metadata": {
    "colab": {
      "name": "FeaturesProcessingWorkshop_index.ipynb",
      "provenance": [],
      "collapsed_sections": []
    },
    "kernelspec": {
      "name": "python3",
      "display_name": "Python 3"
    },
    "language_info": {
      "name": "python"
    }
  },
  "cells": [
    {
      "cell_type": "markdown",
      "source": [
        "# **FeatureProcessingAndSelectionWorkshop**\n",
        "\n",
        "The aim of this workshop is to educate you about the handling of the feature variables that you will use in modeling machine learning models. This workshop comprises of knowledge rich lectures as well as practical hands on labs so that you are ready to use what you learn.\n",
        "\n",
        "The workshop is divided into four lectures and four exercises. As soon as you complete a lecture an interesting exercise awaits you. The itinerary of the workshop is as follows:<br><br>\n",
        "\n",
        "## Lecture 1: Foreseeing Variable Problems When Building Machine Learning Models\n",
        "\n",
        "Lecture 1 Notebook : [![Open In Colab](https://colab.research.google.com/assets/colab-badge.svg)](https://colab.research.google.com/github/univai-ghf/FeatureProcessingAndSelectionWorkshop/blob/main/Lectures/Lecture1_ForeseeingVariableProblemsWhenBuildingMLModels.ipynb) &nbsp;&nbsp;&nbsp;&nbsp; [<img src=\"https://github.githubassets.com/images/modules/logos_page/GitHub-Logo.png\" alt=\"Open In GitHub\" width=\"70\"/>](https://github.com/univai-ghf/FeatureProcessingAndSelectionWorkshop/blob/main/Lectures/Lecture1_ForeseeingVariableProblemsWhenBuildingMLModels.ipynb)<br>\n",
        "\n",
        "Lecture 1 Exercise: [![Open In Colab](https://colab.research.google.com/assets/colab-badge.svg)](https://colab.research.google.com/github/univai-ghf/FeatureProcessingAndSelectionWorkshop/blob/main/Exercises/Exercise1.ipynb) &nbsp;&nbsp;&nbsp;&nbsp; [<img src=\"https://github.githubassets.com/images/modules/logos_page/GitHub-Logo.png\" alt=\"Open In GitHub\" width=\"70\"/>](https://github.com/univai-ghf/FeatureProcessingAndSelectionWorkshop/blob/main/Exercises/Exercise1.ipynb)<br>\n",
        "\n",
        "Lecture 1 Exercise Solution: [![Open In Colab](https://colab.research.google.com/assets/colab-badge.svg)](https://colab.research.google.com/github/univai-ghf/FeatureProcessingAndSelectionWorkshop/blob/main/Solutions/Exercise1.ipynb) &nbsp;&nbsp;&nbsp;&nbsp; [<img src=\"https://github.githubassets.com/images/modules/logos_page/GitHub-Logo.png\" alt=\"Open In GitHub\" width=\"70\"/>](https://github.com/univai-ghf/FeatureProcessingAndSelectionWorkshop/blob/main/Solutions/Exercise1.ipynb)<br><br>\n",
        "\n",
        "## Lecture 2: Imputing Missing Values\n",
        "\n",
        "Lecture 2 NoteBook: [![Open In Colab](https://colab.research.google.com/assets/colab-badge.svg)](https://colab.research.google.com/github/univai-ghf/FeatureProcessingAndSelectionWorkshop/blob/main/Lectures/Lecture2_ImputingMissingData.ipynb) &nbsp;&nbsp;&nbsp;&nbsp; [<img src=\"https://github.githubassets.com/images/modules/logos_page/GitHub-Logo.png\" alt=\"Open In GitHub\" width=\"70\"/>](https://github.com/univai-ghf/FeatureProcessingAndSelectionWorkshop/blob/main/Lectures/Lecture2_ImputingMissingData.ipynb)<br>\n",
        "\n",
        "Lecture 2 Exercise: [![Open In Colab](https://colab.research.google.com/assets/colab-badge.svg)](https://colab.research.google.com/github/univai-ghf/FeatureProcessingAndSelectionWorkshop/blob/main/Exercises/Exercise2.ipynb) &nbsp;&nbsp;&nbsp;&nbsp; [<img src=\"https://github.githubassets.com/images/modules/logos_page/GitHub-Logo.png\" alt=\"Open In GitHub\" width=\"70\"/>](https://github.com/univai-ghf/FeatureProcessingAndSelectionWorkshop/blob/main/Exercises/Exercise2.ipynb)<br>\n",
        "\n",
        "Lecture 2 Exercise Solution: [![Open In Colab](https://colab.research.google.com/assets/colab-badge.svg)](https://colab.research.google.com/github/univai-ghf/FeatureProcessingAndSelectionWorkshop/blob/main/Solutions/Exercise2.ipynb) &nbsp;&nbsp;&nbsp;&nbsp; [<img src=\"https://github.githubassets.com/images/modules/logos_page/GitHub-Logo.png\" alt=\"Open In GitHub\" width=\"70\"/>](https://github.com/univai-ghf/FeatureProcessingAndSelectionWorkshop/blob/main/Solutions/Exercise2.ipynb)<br><br>\n",
        "\n",
        "## Lecture 3: Encoding Categorical Variables\n",
        "\n",
        "Lecture 3: [![Open In Colab](https://colab.research.google.com/assets/colab-badge.svg)](https://colab.research.google.com/github/univai-ghf/FeatureProcessingAndSelectionWorkshop/blob/main/Lectures/Lecture3_EncodingCategoricalVariables.ipynb) &nbsp;&nbsp;&nbsp;&nbsp; [<img src=\"https://github.githubassets.com/images/modules/logos_page/GitHub-Logo.png\" alt=\"Open In GitHub\" width=\"70\"/>](https://github.com/univai-ghf/FeatureProcessingAndSelectionWorkshop/blob/main/Lectures/Lecture3_EncodingCategoricalVariables.ipynb)<br>\n",
        "\n",
        "Lecture 3 Exercise: [![Open In Colab](https://colab.research.google.com/assets/colab-badge.svg)](https://colab.research.google.com/github/univai-ghf/FeatureProcessingAndSelectionWorkshop/blob/main/Exercises/Exercise3.ipynb) &nbsp;&nbsp;&nbsp;&nbsp; [<img src=\"https://github.githubassets.com/images/modules/logos_page/GitHub-Logo.png\" alt=\"Open In GitHub\" width=\"70\"/>](https://github.com/univai-ghf/FeatureProcessingAndSelectionWorkshop/blob/main/Exercises/Exercise3.ipynb)<br>\n",
        "\n",
        "Lecture 3 Exercise Solution: [![Open In Colab](https://colab.research.google.com/assets/colab-badge.svg)](https://colab.research.google.com/github/univai-ghf/FeatureProcessingAndSelectionWorkshop/blob/main/Solutions/Exercise3.ipynb) &nbsp;&nbsp;&nbsp;&nbsp; [<img src=\"https://github.githubassets.com/images/modules/logos_page/GitHub-Logo.png\" alt=\"Open In GitHub\" width=\"70\"/>](https://github.com/univai-ghf/FeatureProcessingAndSelectionWorkshop/blob/main/Solutions/Exercise3.ipynb)<br><br>\n",
        "\n",
        "## Lecture 4: Transforming Numerical Variables\n",
        "\n",
        "Lecture 4: [![Open In Colab](https://colab.research.google.com/assets/colab-badge.svg)](https://colab.research.google.com/github/univai-ghf/FeatureProcessingAndSelectionWorkshop/blob/main/Lectures/Lecture4_TransformingNumericalVariables.ipynb) &nbsp;&nbsp;&nbsp;&nbsp; [<img src=\"https://github.githubassets.com/images/modules/logos_page/GitHub-Logo.png\" alt=\"Open In GitHub\" width=\"70\"/>](https://github.com/univai-ghf/FeatureProcessingAndSelectionWorkshop/blob/main/Lectures/Lecture4_TransformingNumericalVariables.ipynb)<br>\n",
        "\n",
        "Lecture 4 Exercise: [![Open In Colab](https://colab.research.google.com/assets/colab-badge.svg)](https://colab.research.google.com/github/univai-ghf/FeatureProcessingAndSelectionWorkshop/blob/main/Exercises/Exercise4.ipynb) &nbsp;&nbsp;&nbsp;&nbsp; [<img src=\"https://github.githubassets.com/images/modules/logos_page/GitHub-Logo.png\" alt=\"Open In GitHub\" width=\"70\"/>](https://github.com/univai-ghf/FeatureProcessingAndSelectionWorkshop/blob/main/Exercises/Exercise4.ipynb)<br>\n",
        "\n",
        "Lecture 4 Exercise Solution: [![Open In Colab](https://colab.research.google.com/assets/colab-badge.svg)](https://colab.research.google.com/github/univai-ghf/FeatureProcessingAndSelectionWorkshop/blob/main/Solutions/Exercise4.ipynb) &nbsp;&nbsp;&nbsp;&nbsp; [<img src=\"https://github.githubassets.com/images/modules/logos_page/GitHub-Logo.png\" alt=\"Open In GitHub\" width=\"70\"/>](https://github.com/univai-ghf/FeatureProcessingAndSelectionWorkshop/blob/main/Solutions/Exercise4.ipynb)<br><br>\n",
        "\n",
        "To further cement your understanding, we have a Homework Notebook which will cover the topics from the lecture and give you a chance to work with an extensive dataset.<br>\n",
        "\n",
        "## Homework \n",
        "Homework Notebook: [![Open In Colab](https://colab.research.google.com/assets/colab-badge.svg)](https://colab.research.google.com/github/univai-ghf/FeatureProcessingAndSelectionWorkshop/blob/main/Homework/Homework.ipynb) &nbsp;&nbsp;&nbsp;&nbsp; [<img src=\"https://github.githubassets.com/images/modules/logos_page/GitHub-Logo.png\" alt=\"Open In GitHub\" width=\"70\"/>](https://github.com/univai-ghf/FeatureProcessingAndSelectionWorkshop/blob/main/Homework/Homework.ipynb)<br><br>\n",
        "\n",
        "Happy Learning!!<br>"
      ],
      "metadata": {
        "id": "5EDpSt7JNJ-1"
      }
    }
  ]
}